{
  "nbformat": 4,
  "nbformat_minor": 0,
  "metadata": {
    "colab": {
      "name": "Mini_Project8.ipynb",
      "provenance": [],
      "collapsed_sections": []
    },
    "kernelspec": {
      "name": "python3",
      "display_name": "Python 3"
    },
    "accelerator": "GPU"
  },
  "cells": [
    {
      "cell_type": "code",
      "metadata": {
        "id": "WdPsvOejWYGi",
        "colab": {
          "base_uri": "https://localhost:8080/"
        },
        "outputId": "f93111c4-c367-4e3d-aefe-5bc0da4f5b99"
      },
      "source": [
        "from google.colab import drive\r\n",
        "drive.mount('/content/drive')\r\n",
        "import os\r\n",
        "os.chdir('/content/drive/MyDrive')"
      ],
      "execution_count": 1,
      "outputs": [
        {
          "output_type": "stream",
          "text": [
            "Drive already mounted at /content/drive; to attempt to forcibly remount, call drive.mount(\"/content/drive\", force_remount=True).\n"
          ],
          "name": "stdout"
        }
      ]
    },
    {
      "cell_type": "code",
      "metadata": {
        "id": "BzEs9TWjXAy5"
      },
      "source": [
        "os.chdir('Reddit_ML')"
      ],
      "execution_count": 2,
      "outputs": []
    },
    {
      "cell_type": "code",
      "metadata": {
        "id": "7X3kFYNAE4Mj"
      },
      "source": [
        "import bz2\r\n",
        "import json\r\n",
        "import pandas as pd"
      ],
      "execution_count": 3,
      "outputs": []
    },
    {
      "cell_type": "code",
      "metadata": {
        "id": "SalG8ARpE6Xm"
      },
      "source": [
        "filename = 'RC_2015-01.bz2'"
      ],
      "execution_count": 4,
      "outputs": []
    },
    {
      "cell_type": "code",
      "metadata": {
        "id": "R9vv6LMnFB8-"
      },
      "source": [
        "with bz2.open(filename, \"rt\") as bzinput:\r\n",
        "    lines = []\r\n",
        "    for i, line in enumerate(bzinput):\r\n",
        "        if i == 200000:\r\n",
        "            break\r\n",
        "        reddit = json.loads(line)\r\n",
        "        lines.append(reddit)"
      ],
      "execution_count": 5,
      "outputs": []
    },
    {
      "cell_type": "code",
      "metadata": {
        "id": "xI4wLbhQFLk2"
      },
      "source": [
        "df = pd.DataFrame(lines)"
      ],
      "execution_count": 6,
      "outputs": []
    },
    {
      "cell_type": "code",
      "metadata": {
        "colab": {
          "base_uri": "https://localhost:8080/",
          "height": 35
        },
        "id": "Mci2UfuzbgvI",
        "outputId": "01550744-430e-4855-a8f5-440927d37972"
      },
      "source": [
        "f\"{df.memory_usage(deep=True).sum() / 1023.0**3} GB\""
      ],
      "execution_count": 7,
      "outputs": [
        {
          "output_type": "execute_result",
          "data": {
            "application/vnd.google.colaboratory.intrinsic+json": {
              "type": "string"
            },
            "text/plain": [
              "'0.1740562534923026 GB'"
            ]
          },
          "metadata": {
            "tags": []
          },
          "execution_count": 7
        }
      ]
    },
    {
      "cell_type": "code",
      "metadata": {
        "colab": {
          "base_uri": "https://localhost:8080/",
          "height": 773
        },
        "id": "3GDS_guqQLC2",
        "outputId": "c750e59a-e8f9-4586-c06d-721278fc386d"
      },
      "source": [
        "print(df.shape)\r\n",
        "df.head().T"
      ],
      "execution_count": 8,
      "outputs": [
        {
          "output_type": "stream",
          "text": [
            "(200000, 21)\n"
          ],
          "name": "stdout"
        },
        {
          "output_type": "execute_result",
          "data": {
            "text/html": [
              "<div>\n",
              "<style scoped>\n",
              "    .dataframe tbody tr th:only-of-type {\n",
              "        vertical-align: middle;\n",
              "    }\n",
              "\n",
              "    .dataframe tbody tr th {\n",
              "        vertical-align: top;\n",
              "    }\n",
              "\n",
              "    .dataframe thead th {\n",
              "        text-align: right;\n",
              "    }\n",
              "</style>\n",
              "<table border=\"1\" class=\"dataframe\">\n",
              "  <thead>\n",
              "    <tr style=\"text-align: right;\">\n",
              "      <th></th>\n",
              "      <th>0</th>\n",
              "      <th>1</th>\n",
              "      <th>2</th>\n",
              "      <th>3</th>\n",
              "      <th>4</th>\n",
              "    </tr>\n",
              "  </thead>\n",
              "  <tbody>\n",
              "    <tr>\n",
              "      <th>score_hidden</th>\n",
              "      <td>False</td>\n",
              "      <td>False</td>\n",
              "      <td>False</td>\n",
              "      <td>False</td>\n",
              "      <td>False</td>\n",
              "    </tr>\n",
              "    <tr>\n",
              "      <th>name</th>\n",
              "      <td>t1_cnas8zv</td>\n",
              "      <td>t1_cnas8zw</td>\n",
              "      <td>t1_cnas8zx</td>\n",
              "      <td>t1_cnas8zy</td>\n",
              "      <td>t1_cnas8zz</td>\n",
              "    </tr>\n",
              "    <tr>\n",
              "      <th>link_id</th>\n",
              "      <td>t3_2qyr1a</td>\n",
              "      <td>t3_2qv6c6</td>\n",
              "      <td>t3_2qxefp</td>\n",
              "      <td>t3_2qys4x</td>\n",
              "      <td>t3_2qm5bi</td>\n",
              "    </tr>\n",
              "    <tr>\n",
              "      <th>body</th>\n",
              "      <td>Most of us have some family members like this....</td>\n",
              "      <td>But Mill's career was way better. Bentham is l...</td>\n",
              "      <td>Mine uses a strait razor, and as much as i lov...</td>\n",
              "      <td>[deleted]</td>\n",
              "      <td>Very fast, thank you!</td>\n",
              "    </tr>\n",
              "    <tr>\n",
              "      <th>downs</th>\n",
              "      <td>0</td>\n",
              "      <td>0</td>\n",
              "      <td>0</td>\n",
              "      <td>0</td>\n",
              "      <td>0</td>\n",
              "    </tr>\n",
              "    <tr>\n",
              "      <th>created_utc</th>\n",
              "      <td>1420070400</td>\n",
              "      <td>1420070400</td>\n",
              "      <td>1420070400</td>\n",
              "      <td>1420070400</td>\n",
              "      <td>1420070400</td>\n",
              "    </tr>\n",
              "    <tr>\n",
              "      <th>score</th>\n",
              "      <td>14</td>\n",
              "      <td>3</td>\n",
              "      <td>1</td>\n",
              "      <td>1</td>\n",
              "      <td>2</td>\n",
              "    </tr>\n",
              "    <tr>\n",
              "      <th>author</th>\n",
              "      <td>YoungModern</td>\n",
              "      <td>RedCoatsForever</td>\n",
              "      <td>vhisic</td>\n",
              "      <td>[deleted]</td>\n",
              "      <td>Mastersimpson</td>\n",
              "    </tr>\n",
              "    <tr>\n",
              "      <th>distinguished</th>\n",
              "      <td>None</td>\n",
              "      <td>None</td>\n",
              "      <td>None</td>\n",
              "      <td>None</td>\n",
              "      <td>None</td>\n",
              "    </tr>\n",
              "    <tr>\n",
              "      <th>id</th>\n",
              "      <td>cnas8zv</td>\n",
              "      <td>cnas8zw</td>\n",
              "      <td>cnas8zx</td>\n",
              "      <td>cnas8zy</td>\n",
              "      <td>cnas8zz</td>\n",
              "    </tr>\n",
              "    <tr>\n",
              "      <th>archived</th>\n",
              "      <td>False</td>\n",
              "      <td>False</td>\n",
              "      <td>False</td>\n",
              "      <td>False</td>\n",
              "      <td>False</td>\n",
              "    </tr>\n",
              "    <tr>\n",
              "      <th>parent_id</th>\n",
              "      <td>t3_2qyr1a</td>\n",
              "      <td>t1_cnas2b6</td>\n",
              "      <td>t3_2qxefp</td>\n",
              "      <td>t3_2qys4x</td>\n",
              "      <td>t3_2qm5bi</td>\n",
              "    </tr>\n",
              "    <tr>\n",
              "      <th>subreddit</th>\n",
              "      <td>exmormon</td>\n",
              "      <td>CanadaPolitics</td>\n",
              "      <td>AdviceAnimals</td>\n",
              "      <td>AdviceAnimals</td>\n",
              "      <td>freedonuts</td>\n",
              "    </tr>\n",
              "    <tr>\n",
              "      <th>author_flair_css_class</th>\n",
              "      <td>None</td>\n",
              "      <td>on</td>\n",
              "      <td>None</td>\n",
              "      <td>None</td>\n",
              "      <td>None</td>\n",
              "    </tr>\n",
              "    <tr>\n",
              "      <th>author_flair_text</th>\n",
              "      <td>None</td>\n",
              "      <td>Ontario</td>\n",
              "      <td>None</td>\n",
              "      <td>None</td>\n",
              "      <td>None</td>\n",
              "    </tr>\n",
              "    <tr>\n",
              "      <th>gilded</th>\n",
              "      <td>0</td>\n",
              "      <td>0</td>\n",
              "      <td>0</td>\n",
              "      <td>0</td>\n",
              "      <td>0</td>\n",
              "    </tr>\n",
              "    <tr>\n",
              "      <th>retrieved_on</th>\n",
              "      <td>1425124282</td>\n",
              "      <td>1425124282</td>\n",
              "      <td>1425124282</td>\n",
              "      <td>1425124282</td>\n",
              "      <td>1425124282</td>\n",
              "    </tr>\n",
              "    <tr>\n",
              "      <th>ups</th>\n",
              "      <td>14</td>\n",
              "      <td>3</td>\n",
              "      <td>1</td>\n",
              "      <td>1</td>\n",
              "      <td>2</td>\n",
              "    </tr>\n",
              "    <tr>\n",
              "      <th>controversiality</th>\n",
              "      <td>0</td>\n",
              "      <td>0</td>\n",
              "      <td>0</td>\n",
              "      <td>0</td>\n",
              "      <td>0</td>\n",
              "    </tr>\n",
              "    <tr>\n",
              "      <th>subreddit_id</th>\n",
              "      <td>t5_2r0gj</td>\n",
              "      <td>t5_2s4gt</td>\n",
              "      <td>t5_2s7tt</td>\n",
              "      <td>t5_2s7tt</td>\n",
              "      <td>t5_2y51u</td>\n",
              "    </tr>\n",
              "    <tr>\n",
              "      <th>edited</th>\n",
              "      <td>False</td>\n",
              "      <td>False</td>\n",
              "      <td>False</td>\n",
              "      <td>False</td>\n",
              "      <td>False</td>\n",
              "    </tr>\n",
              "  </tbody>\n",
              "</table>\n",
              "</div>"
            ],
            "text/plain": [
              "                                                                        0  ...                      4\n",
              "score_hidden                                                        False  ...                  False\n",
              "name                                                           t1_cnas8zv  ...             t1_cnas8zz\n",
              "link_id                                                         t3_2qyr1a  ...              t3_2qm5bi\n",
              "body                    Most of us have some family members like this....  ...  Very fast, thank you!\n",
              "downs                                                                   0  ...                      0\n",
              "created_utc                                                    1420070400  ...             1420070400\n",
              "score                                                                  14  ...                      2\n",
              "author                                                        YoungModern  ...          Mastersimpson\n",
              "distinguished                                                        None  ...                   None\n",
              "id                                                                cnas8zv  ...                cnas8zz\n",
              "archived                                                            False  ...                  False\n",
              "parent_id                                                       t3_2qyr1a  ...              t3_2qm5bi\n",
              "subreddit                                                        exmormon  ...             freedonuts\n",
              "author_flair_css_class                                               None  ...                   None\n",
              "author_flair_text                                                    None  ...                   None\n",
              "gilded                                                                  0  ...                      0\n",
              "retrieved_on                                                   1425124282  ...             1425124282\n",
              "ups                                                                    14  ...                      2\n",
              "controversiality                                                        0  ...                      0\n",
              "subreddit_id                                                     t5_2r0gj  ...               t5_2y51u\n",
              "edited                                                              False  ...                  False\n",
              "\n",
              "[21 rows x 5 columns]"
            ]
          },
          "metadata": {
            "tags": []
          },
          "execution_count": 8
        }
      ]
    },
    {
      "cell_type": "code",
      "metadata": {
        "colab": {
          "base_uri": "https://localhost:8080/"
        },
        "id": "0pI2zE_HRNvW",
        "outputId": "508333d9-7219-443f-f365-ca1e8b24004c"
      },
      "source": [
        "import re\r\n",
        "import string\r\n",
        "\r\n",
        "import pandas as pd\r\n",
        "import feather\r\n",
        "import numpy as np\r\n",
        "import matplotlib.pyplot as plt\r\n",
        "from scipy.spatial.distance import cosine, euclidean\r\n",
        "\r\n",
        "from pathlib import Path\r\n",
        "from collections import Counter\r\n",
        "from multiprocessing import Pool\r\n",
        "from urllib.parse import urlparse\r\n",
        "\r\n",
        "\r\n",
        "import matplotlib.pyplot as plt\r\n",
        "\r\n",
        "from sklearn.model_selection import train_test_split\r\n",
        "from sklearn.preprocessing import LabelBinarizer, MultiLabelBinarizer\r\n",
        "from sklearn.feature_extraction.stop_words import ENGLISH_STOP_WORDS\r\n",
        "\r\n",
        "%matplotlib inline"
      ],
      "execution_count": 9,
      "outputs": [
        {
          "output_type": "stream",
          "text": [
            "/usr/local/lib/python3.6/dist-packages/sklearn/utils/deprecation.py:144: FutureWarning: The sklearn.feature_extraction.stop_words module is  deprecated in version 0.22 and will be removed in version 0.24. The corresponding classes / functions should instead be imported from sklearn.feature_extraction.text. Anything that cannot be imported from sklearn.feature_extraction.text is now part of the private API.\n",
            "  warnings.warn(message, FutureWarning)\n"
          ],
          "name": "stderr"
        }
      ]
    },
    {
      "cell_type": "code",
      "metadata": {
        "colab": {
          "base_uri": "https://localhost:8080/",
          "height": 52
        },
        "id": "J0sE3fiEQyWB",
        "outputId": "76b96ed1-2210-41a8-f238-e4f875482674"
      },
      "source": [
        "df = df[df.body != '[deleted]']\r\n",
        "df = df[df.body != '[removed]']\r\n",
        "df = df[df.body != '']\r\n",
        "print(df.shape)\r\n",
        "f\"{df.memory_usage(deep=True).sum() / 1023.0**3} GB\""
      ],
      "execution_count": 10,
      "outputs": [
        {
          "output_type": "stream",
          "text": [
            "(187222, 21)\n"
          ],
          "name": "stdout"
        },
        {
          "output_type": "execute_result",
          "data": {
            "application/vnd.google.colaboratory.intrinsic+json": {
              "type": "string"
            },
            "text/plain": [
              "'0.16652627378702228 GB'"
            ]
          },
          "metadata": {
            "tags": []
          },
          "execution_count": 10
        }
      ]
    },
    {
      "cell_type": "markdown",
      "metadata": {
        "id": "OMgaEQDMojzh"
      },
      "source": [
        "# **Copy of DF**"
      ]
    },
    {
      "cell_type": "code",
      "metadata": {
        "id": "-8qKuymqOeCW"
      },
      "source": [
        "copy = df.copy()"
      ],
      "execution_count": 11,
      "outputs": []
    },
    {
      "cell_type": "code",
      "metadata": {
        "id": "0em7CMewOnzN"
      },
      "source": [
        "second_copy = df.copy()"
      ],
      "execution_count": 12,
      "outputs": []
    },
    {
      "cell_type": "markdown",
      "metadata": {
        "id": "pASXxFZ1o0_k"
      },
      "source": [
        "# **Data Preprocessing**"
      ]
    },
    {
      "cell_type": "code",
      "metadata": {
        "id": "h62M6fRVb3G3"
      },
      "source": [
        "df.distinguished.replace(to_replace=[None], value='user', inplace=True)\r\n",
        "df.distinguished.replace(to_replace=np.NaN, value='user', inplace=True)"
      ],
      "execution_count": 13,
      "outputs": []
    },
    {
      "cell_type": "markdown",
      "metadata": {
        "id": "E6VHJQ5IPKVL"
      },
      "source": [
        "# **Feature Engineering**"
      ]
    },
    {
      "cell_type": "code",
      "metadata": {
        "colab": {
          "base_uri": "https://localhost:8080/",
          "height": 993
        },
        "collapsed": true,
        "id": "BGVIw5KQPyNz",
        "outputId": "1464bb25-b918-40dd-d9c8-9cd7b8e74e57"
      },
      "source": [
        "df.dropna()"
      ],
      "execution_count": 14,
      "outputs": [
        {
          "output_type": "execute_result",
          "data": {
            "text/html": [
              "<div>\n",
              "<style scoped>\n",
              "    .dataframe tbody tr th:only-of-type {\n",
              "        vertical-align: middle;\n",
              "    }\n",
              "\n",
              "    .dataframe tbody tr th {\n",
              "        vertical-align: top;\n",
              "    }\n",
              "\n",
              "    .dataframe thead th {\n",
              "        text-align: right;\n",
              "    }\n",
              "</style>\n",
              "<table border=\"1\" class=\"dataframe\">\n",
              "  <thead>\n",
              "    <tr style=\"text-align: right;\">\n",
              "      <th></th>\n",
              "      <th>score_hidden</th>\n",
              "      <th>name</th>\n",
              "      <th>link_id</th>\n",
              "      <th>body</th>\n",
              "      <th>downs</th>\n",
              "      <th>created_utc</th>\n",
              "      <th>score</th>\n",
              "      <th>author</th>\n",
              "      <th>distinguished</th>\n",
              "      <th>id</th>\n",
              "      <th>archived</th>\n",
              "      <th>parent_id</th>\n",
              "      <th>subreddit</th>\n",
              "      <th>author_flair_css_class</th>\n",
              "      <th>author_flair_text</th>\n",
              "      <th>gilded</th>\n",
              "      <th>retrieved_on</th>\n",
              "      <th>ups</th>\n",
              "      <th>controversiality</th>\n",
              "      <th>subreddit_id</th>\n",
              "      <th>edited</th>\n",
              "    </tr>\n",
              "  </thead>\n",
              "  <tbody>\n",
              "    <tr>\n",
              "      <th>1</th>\n",
              "      <td>False</td>\n",
              "      <td>t1_cnas8zw</td>\n",
              "      <td>t3_2qv6c6</td>\n",
              "      <td>But Mill's career was way better. Bentham is l...</td>\n",
              "      <td>0</td>\n",
              "      <td>1420070400</td>\n",
              "      <td>3</td>\n",
              "      <td>RedCoatsForever</td>\n",
              "      <td>user</td>\n",
              "      <td>cnas8zw</td>\n",
              "      <td>False</td>\n",
              "      <td>t1_cnas2b6</td>\n",
              "      <td>CanadaPolitics</td>\n",
              "      <td>on</td>\n",
              "      <td>Ontario</td>\n",
              "      <td>0</td>\n",
              "      <td>1425124282</td>\n",
              "      <td>3</td>\n",
              "      <td>0</td>\n",
              "      <td>t5_2s4gt</td>\n",
              "      <td>False</td>\n",
              "    </tr>\n",
              "    <tr>\n",
              "      <th>8</th>\n",
              "      <td>False</td>\n",
              "      <td>t1_cnas903</td>\n",
              "      <td>t3_2qyizj</td>\n",
              "      <td>:D.</td>\n",
              "      <td>0</td>\n",
              "      <td>1420070400</td>\n",
              "      <td>1</td>\n",
              "      <td>slicked9778</td>\n",
              "      <td>user</td>\n",
              "      <td>cnas903</td>\n",
              "      <td>False</td>\n",
              "      <td>t1_cnas8bm</td>\n",
              "      <td>BostonBruins</td>\n",
              "      <td>BartkowskiMatt</td>\n",
              "      <td>LA Kings fan</td>\n",
              "      <td>0</td>\n",
              "      <td>1425124282</td>\n",
              "      <td>1</td>\n",
              "      <td>0</td>\n",
              "      <td>t5_2rmt9</td>\n",
              "      <td>False</td>\n",
              "    </tr>\n",
              "    <tr>\n",
              "      <th>10</th>\n",
              "      <td>False</td>\n",
              "      <td>t1_cnas906</td>\n",
              "      <td>t3_2qyl4w</td>\n",
              "      <td>says you my g</td>\n",
              "      <td>0</td>\n",
              "      <td>1420070400</td>\n",
              "      <td>2</td>\n",
              "      <td>thebasedyeezus</td>\n",
              "      <td>user</td>\n",
              "      <td>cnas906</td>\n",
              "      <td>False</td>\n",
              "      <td>t1_cnas7u7</td>\n",
              "      <td>hiphopheads</td>\n",
              "      <td>django</td>\n",
              "      <td></td>\n",
              "      <td>0</td>\n",
              "      <td>1425124282</td>\n",
              "      <td>2</td>\n",
              "      <td>0</td>\n",
              "      <td>t5_2rh4c</td>\n",
              "      <td>False</td>\n",
              "    </tr>\n",
              "    <tr>\n",
              "      <th>13</th>\n",
              "      <td>False</td>\n",
              "      <td>t1_cnas909</td>\n",
              "      <td>t3_2qup35</td>\n",
              "      <td>You mean the village hidden in filler complain...</td>\n",
              "      <td>0</td>\n",
              "      <td>1420070401</td>\n",
              "      <td>2</td>\n",
              "      <td>noitnemid</td>\n",
              "      <td>user</td>\n",
              "      <td>cnas909</td>\n",
              "      <td>False</td>\n",
              "      <td>t1_cnald9n</td>\n",
              "      <td>Naruto</td>\n",
              "      <td>deihand</td>\n",
              "      <td></td>\n",
              "      <td>0</td>\n",
              "      <td>1425124282</td>\n",
              "      <td>2</td>\n",
              "      <td>0</td>\n",
              "      <td>t5_2quts</td>\n",
              "      <td>False</td>\n",
              "    </tr>\n",
              "    <tr>\n",
              "      <th>14</th>\n",
              "      <td>False</td>\n",
              "      <td>t1_cnas90a</td>\n",
              "      <td>t3_2qyp3l</td>\n",
              "      <td>I always forget how to bold on mobile.</td>\n",
              "      <td>0</td>\n",
              "      <td>1420070401</td>\n",
              "      <td>2</td>\n",
              "      <td>highvoltorb</td>\n",
              "      <td>user</td>\n",
              "      <td>cnas90a</td>\n",
              "      <td>False</td>\n",
              "      <td>t1_cnas1fe</td>\n",
              "      <td>hockey</td>\n",
              "      <td>CBJAlt1NHL</td>\n",
              "      <td>CBJAlt1NHL</td>\n",
              "      <td>0</td>\n",
              "      <td>1425124282</td>\n",
              "      <td>2</td>\n",
              "      <td>0</td>\n",
              "      <td>t5_2qiel</td>\n",
              "      <td>False</td>\n",
              "    </tr>\n",
              "    <tr>\n",
              "      <th>...</th>\n",
              "      <td>...</td>\n",
              "      <td>...</td>\n",
              "      <td>...</td>\n",
              "      <td>...</td>\n",
              "      <td>...</td>\n",
              "      <td>...</td>\n",
              "      <td>...</td>\n",
              "      <td>...</td>\n",
              "      <td>...</td>\n",
              "      <td>...</td>\n",
              "      <td>...</td>\n",
              "      <td>...</td>\n",
              "      <td>...</td>\n",
              "      <td>...</td>\n",
              "      <td>...</td>\n",
              "      <td>...</td>\n",
              "      <td>...</td>\n",
              "      <td>...</td>\n",
              "      <td>...</td>\n",
              "      <td>...</td>\n",
              "      <td>...</td>\n",
              "    </tr>\n",
              "    <tr>\n",
              "      <th>199986</th>\n",
              "      <td>False</td>\n",
              "      <td>t1_cnawl5e</td>\n",
              "      <td>t3_2qyjqv</td>\n",
              "      <td>exciting overtime - great block by Polak\\n</td>\n",
              "      <td>0</td>\n",
              "      <td>1420080960</td>\n",
              "      <td>1</td>\n",
              "      <td>MoreHtsThnSadaharuOh</td>\n",
              "      <td>user</td>\n",
              "      <td>cnawl5e</td>\n",
              "      <td>False</td>\n",
              "      <td>t3_2qyjqv</td>\n",
              "      <td>hockey</td>\n",
              "      <td>TOROld3NHL</td>\n",
              "      <td>TOROld3NHL</td>\n",
              "      <td>0</td>\n",
              "      <td>1425122260</td>\n",
              "      <td>1</td>\n",
              "      <td>0</td>\n",
              "      <td>t5_2qiel</td>\n",
              "      <td>False</td>\n",
              "    </tr>\n",
              "    <tr>\n",
              "      <th>199987</th>\n",
              "      <td>False</td>\n",
              "      <td>t1_cnawl5f</td>\n",
              "      <td>t3_2qy3j3</td>\n",
              "      <td>\"If only my balls were made of usb...\"</td>\n",
              "      <td>0</td>\n",
              "      <td>1420080960</td>\n",
              "      <td>2</td>\n",
              "      <td>jwapplephobia</td>\n",
              "      <td>user</td>\n",
              "      <td>cnawl5f</td>\n",
              "      <td>False</td>\n",
              "      <td>t1_cnameke</td>\n",
              "      <td>pcmasterrace</td>\n",
              "      <td>i-desk</td>\n",
              "      <td>i5-4670k / GTX 770 / 8GB RAM / Glorious 900p</td>\n",
              "      <td>0</td>\n",
              "      <td>1425122260</td>\n",
              "      <td>2</td>\n",
              "      <td>0</td>\n",
              "      <td>t5_2sgp1</td>\n",
              "      <td>False</td>\n",
              "    </tr>\n",
              "    <tr>\n",
              "      <th>199990</th>\n",
              "      <td>False</td>\n",
              "      <td>t1_cnawl5i</td>\n",
              "      <td>t3_2qy4ma</td>\n",
              "      <td>Nah, we need you to be 8th seed, please and th...</td>\n",
              "      <td>0</td>\n",
              "      <td>1420080960</td>\n",
              "      <td>2</td>\n",
              "      <td>ImHalfAwake</td>\n",
              "      <td>user</td>\n",
              "      <td>cnawl5i</td>\n",
              "      <td>False</td>\n",
              "      <td>t1_cnalprs</td>\n",
              "      <td>nba</td>\n",
              "      <td>Warriors1</td>\n",
              "      <td>[GSW] Stephen Curry</td>\n",
              "      <td>0</td>\n",
              "      <td>1425122260</td>\n",
              "      <td>2</td>\n",
              "      <td>0</td>\n",
              "      <td>t5_2qo4s</td>\n",
              "      <td>False</td>\n",
              "    </tr>\n",
              "    <tr>\n",
              "      <th>199991</th>\n",
              "      <td>False</td>\n",
              "      <td>t1_cnawl5j</td>\n",
              "      <td>t3_2qz29h</td>\n",
              "      <td>Looks great! With that base you can pretty muc...</td>\n",
              "      <td>0</td>\n",
              "      <td>1420080960</td>\n",
              "      <td>1</td>\n",
              "      <td>graveyardgirl</td>\n",
              "      <td>user</td>\n",
              "      <td>cnawl5j</td>\n",
              "      <td>False</td>\n",
              "      <td>t3_2qz29h</td>\n",
              "      <td>FancyFollicles</td>\n",
              "      <td>lightcoral</td>\n",
              "      <td>Wavy, Brunette, Thick, Long</td>\n",
              "      <td>0</td>\n",
              "      <td>1425122260</td>\n",
              "      <td>1</td>\n",
              "      <td>0</td>\n",
              "      <td>t5_2sa9a</td>\n",
              "      <td>False</td>\n",
              "    </tr>\n",
              "    <tr>\n",
              "      <th>199995</th>\n",
              "      <td>False</td>\n",
              "      <td>t1_cnawl5n</td>\n",
              "      <td>t3_2qons3</td>\n",
              "      <td>*Nik bent a little, but laughed.* \"Relax... ju...</td>\n",
              "      <td>0</td>\n",
              "      <td>1420080960</td>\n",
              "      <td>1</td>\n",
              "      <td>TotalWarfare</td>\n",
              "      <td>user</td>\n",
              "      <td>cnawl5n</td>\n",
              "      <td>False</td>\n",
              "      <td>t1_cnawk9g</td>\n",
              "      <td>rwbyRP</td>\n",
              "      <td></td>\n",
              "      <td>Wilhelm Jung | Nikolas Brunoz</td>\n",
              "      <td>0</td>\n",
              "      <td>1425122260</td>\n",
              "      <td>1</td>\n",
              "      <td>0</td>\n",
              "      <td>t5_32s5j</td>\n",
              "      <td>False</td>\n",
              "    </tr>\n",
              "  </tbody>\n",
              "</table>\n",
              "<p>71731 rows × 21 columns</p>\n",
              "</div>"
            ],
            "text/plain": [
              "        score_hidden        name  ... subreddit_id edited\n",
              "1              False  t1_cnas8zw  ...     t5_2s4gt  False\n",
              "8              False  t1_cnas903  ...     t5_2rmt9  False\n",
              "10             False  t1_cnas906  ...     t5_2rh4c  False\n",
              "13             False  t1_cnas909  ...     t5_2quts  False\n",
              "14             False  t1_cnas90a  ...     t5_2qiel  False\n",
              "...              ...         ...  ...          ...    ...\n",
              "199986         False  t1_cnawl5e  ...     t5_2qiel  False\n",
              "199987         False  t1_cnawl5f  ...     t5_2sgp1  False\n",
              "199990         False  t1_cnawl5i  ...     t5_2qo4s  False\n",
              "199991         False  t1_cnawl5j  ...     t5_2sa9a  False\n",
              "199995         False  t1_cnawl5n  ...     t5_32s5j  False\n",
              "\n",
              "[71731 rows x 21 columns]"
            ]
          },
          "metadata": {
            "tags": []
          },
          "execution_count": 14
        }
      ]
    },
    {
      "cell_type": "code",
      "metadata": {
        "colab": {
          "base_uri": "https://localhost:8080/",
          "height": 35
        },
        "id": "4eHnUz8WQIPt",
        "outputId": "ea54db69-cb88-4c81-896b-6d35826d8ad1"
      },
      "source": [
        "f\"{df.memory_usage(deep=True).sum() / 1023.0**3} GB\""
      ],
      "execution_count": 15,
      "outputs": [
        {
          "output_type": "execute_result",
          "data": {
            "application/vnd.google.colaboratory.intrinsic+json": {
              "type": "string"
            },
            "text/plain": [
              "'0.1729479871713743 GB'"
            ]
          },
          "metadata": {
            "tags": []
          },
          "execution_count": 15
        }
      ]
    },
    {
      "cell_type": "code",
      "metadata": {
        "id": "oFtzXpR4R98H"
      },
      "source": [
        "df.distinguished.replace(to_replace=[None], value='user', inplace=True)\r\n",
        "df.distinguished.replace(to_replace=np.NaN, value='user', inplace=True)"
      ],
      "execution_count": 16,
      "outputs": []
    },
    {
      "cell_type": "code",
      "metadata": {
        "id": "u3FcK-cDSo81"
      },
      "source": [
        "df['subreddit'] = df.subreddit.astype('category')\r\n",
        "df['subreddit_id'] = df.subreddit_id.astype('category')\r\n",
        "df['distinguished'] = df.distinguished.astype('category')\r\n",
        "df['link_id'] = df.link_id.astype('category')"
      ],
      "execution_count": 17,
      "outputs": []
    },
    {
      "cell_type": "code",
      "metadata": {
        "colab": {
          "base_uri": "https://localhost:8080/"
        },
        "id": "kQlvq95rSswI",
        "outputId": "b9db632b-f545-45d2-e19d-baee263762f8"
      },
      "source": [
        "# The number of hours between when the comment was posted & when it was scraped\r\n",
        "t = (df.retrieved_on - df.created_utc.astype(str).astype(int)) / 60 / 60\r\n",
        "t.min()"
      ],
      "execution_count": 18,
      "outputs": [
        {
          "output_type": "execute_result",
          "data": {
            "text/plain": [
              "1400.361111111111"
            ]
          },
          "metadata": {
            "tags": []
          },
          "execution_count": 18
        }
      ]
    },
    {
      "cell_type": "code",
      "metadata": {
        "colab": {
          "base_uri": "https://localhost:8080/",
          "height": 52
        },
        "id": "0Yy_57dFT-2j",
        "outputId": "c81e7777-b255-4ea2-afb8-2f9e98245b9b"
      },
      "source": [
        "# Remove superfluous explanatory variables\r\n",
        "df.drop(['archived', 'retrieved_on', 'id'], axis=1, inplace=True)\r\n",
        "print(df.shape)\r\n",
        "f\"{df.memory_usage(deep=True).sum() / 1023.0**3} GB\""
      ],
      "execution_count": 19,
      "outputs": [
        {
          "output_type": "stream",
          "text": [
            "(187222, 18)\n"
          ],
          "name": "stdout"
        },
        {
          "output_type": "execute_result",
          "data": {
            "application/vnd.google.colaboratory.intrinsic+json": {
              "type": "string"
            },
            "text/plain": [
              "'0.12181047026725363 GB'"
            ]
          },
          "metadata": {
            "tags": []
          },
          "execution_count": 19
        }
      ]
    },
    {
      "cell_type": "code",
      "metadata": {
        "id": "-oneC_BRPFpf"
      },
      "source": [
        "# Replace 'NaN' with 'user'\r\n",
        "df.distinguished.replace(to_replace=np.NaN, value='user', inplace=True)"
      ],
      "execution_count": 20,
      "outputs": []
    },
    {
      "cell_type": "markdown",
      "metadata": {
        "id": "CLnsArJuPPZ6"
      },
      "source": [
        "# **Recency Based Features**"
      ]
    },
    {
      "cell_type": "code",
      "metadata": {
        "id": "QbC0ypg4UQZL"
      },
      "source": [
        "df['time'] = pd.to_datetime(df.created_utc, unit='s')"
      ],
      "execution_count": 21,
      "outputs": []
    },
    {
      "cell_type": "code",
      "metadata": {
        "id": "_XEJSBCNUTH6"
      },
      "source": [
        "# Find the time of the first comment in a thread\r\n",
        "df_first_comment = df[['link_id', 'time']].groupby(by=['link_id']).min()\r\n",
        "\r\n",
        "# Create a dictionary of {link_id -> timestamp} pairs\r\n",
        "df_first_comment_dict = df_first_comment.to_dict('index')\r\n",
        "\r\n",
        "# Funct that takes in {link_id, timestamp} pair & returns the time elapsed since the first comment in that link_id.\r\n",
        "def time_lapse(x):\r\n",
        "    return df_first_comment_dict[x]['time']\r\n",
        "\r\n",
        "# Add a column of the time_elapsed from the first comment in a link_id\r\n",
        "df['time_lapse'] = df.time - df.link_id.apply(time_lapse)\r\n",
        "\r\n",
        "# Convert the type of time_lapse back to seconds\r\n",
        "df.time_lapse = df.time_lapse.apply(lambda x: x.total_seconds())\r\n",
        "\r\n",
        "df['hour_of_comment'] = df.time.apply(lambda x: x.hour)\r\n",
        "df['weekday'] = df.time.dt.weekday"
      ],
      "execution_count": 22,
      "outputs": []
    },
    {
      "cell_type": "code",
      "metadata": {
        "colab": {
          "base_uri": "https://localhost:8080/"
        },
        "id": "PBOfBc9LUV7s",
        "outputId": "57cc4ce1-0547-4b56-e077-759e884a85f0"
      },
      "source": [
        "# Total comments / unique threads \r\n",
        "len(df.link_id) / len(df.link_id.unique())"
      ],
      "execution_count": 23,
      "outputs": [
        {
          "output_type": "execute_result",
          "data": {
            "text/plain": [
              "4.4302413629910085"
            ]
          },
          "metadata": {
            "tags": []
          },
          "execution_count": 23
        }
      ]
    },
    {
      "cell_type": "code",
      "metadata": {
        "colab": {
          "base_uri": "https://localhost:8080/",
          "height": 265
        },
        "id": "a1TiYryZUYcg",
        "outputId": "018dafbc-27e5-4e96-b6e4-3046f253e6ff"
      },
      "source": [
        "# hours after first comment in thread\r\n",
        "(df.time_lapse / (60*60)).hist(bins=50).set_xlim((0, 45));"
      ],
      "execution_count": 24,
      "outputs": [
        {
          "output_type": "display_data",
          "data": {
            "image/png": "[encoded data removed]",
            "text/plain": [
              "<Figure size 432x288 with 1 Axes>"
            ]
          },
          "metadata": {
            "tags": [],
            "needs_background": "light"
          }
        }
      ]
    },
    {
      "cell_type": "markdown",
      "metadata": {
        "id": "RP2CtjzJPqls"
      },
      "source": [
        "# **Comment Appearance Based Feautures**"
      ]
    },
    {
      "cell_type": "code",
      "metadata": {
        "colab": {
          "base_uri": "https://localhost:8080/"
        },
        "id": "Cy0pJgpVUcQ6",
        "outputId": "55786951-d4ae-4092-8c1e-3edaf3910f4a"
      },
      "source": [
        "df['is_flair'] = ~df.author_flair_text.apply(lambda x: x is None)\r\n",
        "df['is_flair_css'] = ~df.author_flair_css_class.apply(lambda x: x is None)\r\n",
        "\r\n",
        "print(sum(df.is_flair) / len(df.is_flair))\r\n",
        "print(sum(df.is_flair_css) / len(df.is_flair_css))\r\n",
        "0.007156374534157479"
      ],
      "execution_count": 25,
      "outputs": [
        {
          "output_type": "stream",
          "text": [
            "0.3968123404300777\n",
            "0.39421115039899157\n"
          ],
          "name": "stdout"
        },
        {
          "output_type": "execute_result",
          "data": {
            "text/plain": [
              "0.007156374534157479"
            ]
          },
          "metadata": {
            "tags": []
          },
          "execution_count": 25
        }
      ]
    },
    {
      "cell_type": "code",
      "metadata": {
        "id": "cA3HHBXsU6GJ"
      },
      "source": [
        "def pd_to_dict(df, index='', column=''):\r\n",
        "    return pd.Series(df[column].values, index=df[index]).to_dict()\r\n",
        "\r\n",
        "comment_to_parent_dict = pd_to_dict(df[['name', 'parent_id']],\r\n",
        "                                    index='name', column='parent_id')\r\n",
        "\r\n",
        "def get_depth(x):\r\n",
        "    counter = 0\r\n",
        "    temp = x\r\n",
        "    while True:\r\n",
        "        if temp[:3] == 't3_':\r\n",
        "            return counter\r\n",
        "        try:\r\n",
        "            temp = comment_to_parent_dict[temp]\r\n",
        "        except KeyError:\r\n",
        "            return counter\r\n",
        "        counter += 1\r\n",
        "        \r\n",
        "df['depth'] = df['name'].apply(get_depth)\r\n",
        "comment_to_score = pd_to_dict(df[['name', 'score']],\r\n",
        "                              index='name', column='score')\r\n",
        "\r\n",
        "def get_parent_score(x):\r\n",
        "    try:\r\n",
        "        return comment_to_score[x]\r\n",
        "    except:\r\n",
        "        return np.nan\r\n",
        "\r\n",
        "df['parent_score'] = df.parent_id.apply(lambda x: get_parent_score(x))\r\n",
        "# imp_val = df.parent_score.median()\r\n",
        "# df.parent_score.fillna(imp_val, inplace=True)\r\n",
        "\r\n",
        "comment_to_time = pd_to_dict(df[['name', 'time']],\r\n",
        "                              index='name', column='time')\r\n",
        "\r\n",
        "def get_time_since_parent(pi):\r\n",
        "    try:\r\n",
        "        return comment_to_time[pi]\r\n",
        "    except:\r\n",
        "        return np.nan\r\n",
        "\r\n",
        "df['time_since_parent'] = df.parent_id.apply(get_time_since_parent)\r\n",
        "df.loc[df.time_since_parent.isna(), 'time_since_parent'] = df.time\r\n",
        "df.time_since_parent = df.time - df.time_since_parent\r\n",
        "df.time_since_parent = df.time_since_parent.apply(lambda x: x.total_seconds())"
      ],
      "execution_count": 26,
      "outputs": []
    },
    {
      "cell_type": "code",
      "metadata": {
        "colab": {
          "base_uri": "https://localhost:8080/"
        },
        "id": "72F4bgh37Mwa",
        "outputId": "1c9cdc56-75e0-4547-8127-e34c69000a12"
      },
      "source": [
        "sum(df.parent_score != df.parent_score) / len(df.parent_score)"
      ],
      "execution_count": 27,
      "outputs": [
        {
          "output_type": "execute_result",
          "data": {
            "text/plain": [
              "0.6984008289624083"
            ]
          },
          "metadata": {
            "tags": []
          },
          "execution_count": 27
        }
      ]
    },
    {
      "cell_type": "markdown",
      "metadata": {
        "id": "JyhD0w4zTWAF"
      },
      "source": [
        "# **Comment Tree Based Features**"
      ]
    },
    {
      "cell_type": "code",
      "metadata": {
        "id": "0TYhDyFv7Mwb"
      },
      "source": [
        "def get_comment_tree_root(x):\n",
        "    if comment_to_parent_dict[x][:3] == 't3_':\n",
        "        return x\n",
        "    try:\n",
        "        return get_comment_tree_root(comment_to_parent_dict[x])\n",
        "    except KeyError:\n",
        "        return np.nan\n",
        "    \n",
        "comment_to_time = pd_to_dict(df[['name', 'time']],\n",
        "                              index='name', column='time')\n",
        "\n",
        "def get_time(x):\n",
        "    try:\n",
        "        return comment_to_time[x]\n",
        "    except:\n",
        "        return np.nan\n",
        "    \n",
        "df['comment_tree_root_id'] = df.name.apply(get_comment_tree_root)\n",
        "df['comment_tree_root_score'] = df.comment_tree_root_id.apply(lambda x: get_parent_score(x))\n",
        "df['time_since_comment_tree_root'] = df.time - df.comment_tree_root_id.apply(get_time)\n",
        "df.time_since_comment_tree_root = df.time_since_comment_tree_root.apply(lambda x: x.total_seconds())"
      ],
      "execution_count": 28,
      "outputs": []
    },
    {
      "cell_type": "code",
      "metadata": {
        "colab": {
          "base_uri": "https://localhost:8080/"
        },
        "id": "Be8_u9yB7Mwb",
        "outputId": "82dbceeb-6a6a-43d8-cdf4-06343eba4ade"
      },
      "source": [
        "print(sum(df.comment_tree_root_id == df.name) / len(df.depth))"
      ],
      "execution_count": 29,
      "outputs": [
        {
          "output_type": "stream",
          "text": [
            "0.40289068592366284\n"
          ],
          "name": "stdout"
        }
      ]
    },
    {
      "cell_type": "markdown",
      "metadata": {
        "id": "XFQIYxRdTtvl"
      },
      "source": [
        "# **Comment Content Based Features**"
      ]
    },
    {
      "cell_type": "code",
      "metadata": {
        "id": "et9WoGyZ7Mwc"
      },
      "source": [
        "# Extract an array of subreddit links in a post & use as a feature\n",
        "df['linked_sr'] = df.body.apply(lambda x: re.findall(r\"/r/([^\\s/]+)\", x))\n",
        "\n",
        "# Remove the subreddits mentioned from the actual comment\n",
        "df['body'] = df.body.apply(lambda x: re.sub(r\"(/r/[^\\s/]+)\", '', x))"
      ],
      "execution_count": 30,
      "outputs": []
    },
    {
      "cell_type": "code",
      "metadata": {
        "id": "u5as4rQ-7Mwc"
      },
      "source": [
        "# Nasty Regular Extraction to extract a link\n",
        "url_regex = r'http[s]?://(?:[a-zA-Z]|[0-9]|[$-_@.&+]|[!*\\(\\),]|(?:%[0-9a-fA-F][0-9a-fA-F]))+'\n",
        "\n",
        "def get_domains(x):\n",
        "    \"\"\"\n",
        "    Given a comment (String), extract an array of urls' domain names mentioned in the comment\n",
        "    \"\"\"\n",
        "    x = x.replace(' = ', '=')\n",
        "    x = x.replace(' : ', ':')\n",
        "    x = x.replace(' / ', '?')\n",
        "    urls = re.findall(url_regex, x)\n",
        "    try:\n",
        "        domain_names = [urlparse(url).netloc.split('.')[-2] for url in urls]\n",
        "    except:\n",
        "        return []\n",
        "    return domain_names\n",
        "\n",
        "# Create the feature for each observation\n",
        "df['linked_urls'] = df.body.apply(lambda x: get_domains(x))"
      ],
      "execution_count": 31,
      "outputs": []
    },
    {
      "cell_type": "code",
      "metadata": {
        "id": "Nrip5TS47Mwd"
      },
      "source": [
        "def remove_urls(x):\n",
        "    \"\"\"\n",
        "    Given a comment, replace the url component with an empty string. \n",
        "    \"\"\"\n",
        "    x = x.replace(' = ', '=')\n",
        "    x = x.replace(' : ', ':')\n",
        "    x = x.replace(' / ', '?')\n",
        "    return re.sub(url_regex, '', x)\n",
        "\n",
        "# Remove the URL from each comment \n",
        "df['body'] = df.body.apply(lambda x: remove_urls(x))"
      ],
      "execution_count": 32,
      "outputs": []
    },
    {
      "cell_type": "markdown",
      "metadata": {
        "id": "5vRGCCBdT8pb"
      },
      "source": [
        "### **no_of_linked_sr & no_of_linked_urls**"
      ]
    },
    {
      "cell_type": "code",
      "metadata": {
        "id": "JMoHdJvg7Mwd",
        "scrolled": true
      },
      "source": [
        "# Create a how-many-subreddit-links-were-in-this-comment? feature\n",
        "df['no_of_linked_sr'] = df['linked_sr'].apply(lambda x: len(x))\n",
        "\n",
        "# Create a how-many-urls-were-in-this-comment? feature\n",
        "df['no_of_linked_urls'] = df['linked_urls'].apply(lambda x: len(x))"
      ],
      "execution_count": 33,
      "outputs": []
    },
    {
      "cell_type": "code",
      "metadata": {
        "colab": {
          "base_uri": "https://localhost:8080/"
        },
        "id": "qc46tYqw7Mwd",
        "outputId": "5c8a90ec-d5aa-4659-9e8f-4ff8af1ea403"
      },
      "source": [
        "print(f\"Subreddit-links-per-post  {sum(df.no_of_linked_sr) / len(df.body)}\")\n",
        "print(f\"URL-links-per-post        {sum(df.no_of_linked_urls) / len(df.body)}\")"
      ],
      "execution_count": 34,
      "outputs": [
        {
          "output_type": "stream",
          "text": [
            "Subreddit-links-per-post  0.03968016579248165\n",
            "URL-links-per-post        0.09859418230763478\n"
          ],
          "name": "stdout"
        }
      ]
    },
    {
      "cell_type": "code",
      "metadata": {
        "colab": {
          "base_uri": "https://localhost:8080/"
        },
        "id": "r3czpQcF7Mwe",
        "outputId": "5088624f-71ff-4e9e-bda1-d82d72a1659e"
      },
      "source": [
        "all_linked_sr = []\n",
        "for l in df.linked_sr.values:\n",
        "    all_linked_sr += l\n",
        "\n",
        "top_sr_links = Counter(all_linked_sr)\n",
        "top_sr_links.most_common(15)"
      ],
      "execution_count": 35,
      "outputs": [
        {
          "output_type": "execute_result",
          "data": {
            "text/plain": [
              "[('AutoModerator', 991),\n",
              " ('autowikibot', 237),\n",
              " ('havoc_bot', 188),\n",
              " ('AskReddit', 185),\n",
              " ('Jokes', 120),\n",
              " ('trees', 120),\n",
              " ('mildlyinteresting', 107),\n",
              " ('havoc_bot)', 94),\n",
              " ('videos', 90),\n",
              " ('AskScienceFiction', 85),\n",
              " ('WritingPrompts', 84),\n",
              " ('Fitness', 83),\n",
              " ('kpop', 78),\n",
              " ('HFY', 63),\n",
              " ('GlobalOffensiveTrade', 56)]"
            ]
          },
          "metadata": {
            "tags": []
          },
          "execution_count": 35
        }
      ]
    },
    {
      "cell_type": "code",
      "metadata": {
        "colab": {
          "base_uri": "https://localhost:8080/"
        },
        "id": "ZD4tlDzF7Mwe",
        "outputId": "c08a1a72-83d6-486a-c25a-cee1871f3cbb"
      },
      "source": [
        "all_linked_urls = []\n",
        "for l in df.linked_urls.values:\n",
        "    all_linked_urls += l\n",
        "\n",
        "top_url_links = Counter(all_linked_urls)\n",
        "top_url_links.most_common(15)"
      ],
      "execution_count": 36,
      "outputs": [
        {
          "output_type": "execute_result",
          "data": {
            "text/plain": [
              "[('reddit', 3564),\n",
              " ('imgur', 2372),\n",
              " ('wikipedia', 1672),\n",
              " ('youtube', 1420),\n",
              " ('tumblr', 954),\n",
              " ('pcpartpicker', 495),\n",
              " ('google', 297),\n",
              " ('youtu', 285),\n",
              " ('twitter', 227),\n",
              " ('redd', 227),\n",
              " ('github', 218),\n",
              " ('steamcommunity', 185),\n",
              " ('wizards', 183),\n",
              " ('amazon', 160),\n",
              " ('co', 121)]"
            ]
          },
          "metadata": {
            "tags": []
          },
          "execution_count": 36
        }
      ]
    },
    {
      "cell_type": "code",
      "metadata": {
        "id": "YJI7Bjiy7Mwf"
      },
      "source": [
        "# Find the most common URLs\n",
        "allowed_urls = [i[0] for i in top_url_links.most_common(15)]\n",
        "\n",
        "def remove_urls(x):\n",
        "    \"\"\"\n",
        "    Given a list of URLs, keep only those in the top-15. \n",
        "    \"\"\"\n",
        "    y = []\n",
        "    for i in x:\n",
        "        if i in allowed_urls:\n",
        "            y += [i]\n",
        "    return y\n",
        "\n",
        "# Keep only the popular URLs \n",
        "df['linked_urls'] = df['linked_urls'].apply(lambda x: remove_urls(x))"
      ],
      "execution_count": 37,
      "outputs": []
    },
    {
      "cell_type": "code",
      "metadata": {
        "id": "5JJ7Sklx7Mwf"
      },
      "source": [
        "# Implement the above\n",
        "df['subjectivity'] = df['body'].str.count('I ')"
      ],
      "execution_count": 38,
      "outputs": []
    },
    {
      "cell_type": "code",
      "metadata": {
        "id": "_Mlge3rs7Mwf"
      },
      "source": [
        "# Create a column indicating if the comment is edited or not\n",
        "df['is_edited'] = df.edited.apply(lambda x: x > 0)"
      ],
      "execution_count": 39,
      "outputs": []
    },
    {
      "cell_type": "code",
      "metadata": {
        "colab": {
          "base_uri": "https://localhost:8080/",
          "height": 35
        },
        "id": "bAjyKvrj7Mwg",
        "scrolled": true,
        "outputId": "487479ba-1ed1-45ab-8c3d-3efe2ec27624"
      },
      "source": [
        "f\"Edited/All = {sum(df.is_edited) / len(df.is_edited)}\""
      ],
      "execution_count": 40,
      "outputs": [
        {
          "output_type": "execute_result",
          "data": {
            "application/vnd.google.colaboratory.intrinsic+json": {
              "type": "string"
            },
            "text/plain": [
              "'Edited/All = 0.02497569730053092'"
            ]
          },
          "metadata": {
            "tags": []
          },
          "execution_count": 40
        }
      ]
    },
    {
      "cell_type": "code",
      "metadata": {
        "id": "4Pu_Onkr7Mwg"
      },
      "source": [
        "# if the comment quotes another comment, indicate that with a boolean\n",
        "df['is_quoted'] = df.body.str.contains('&gt;')"
      ],
      "execution_count": 41,
      "outputs": []
    },
    {
      "cell_type": "code",
      "metadata": {
        "id": "fdtqz1-07Mwh"
      },
      "source": [
        "# Implement the above\n",
        "df['no_quoted'] = df.body.str.count('&gt;')"
      ],
      "execution_count": 42,
      "outputs": []
    },
    {
      "cell_type": "code",
      "metadata": {
        "colab": {
          "base_uri": "https://localhost:8080/"
        },
        "id": "B1VrJ47I7Mwh",
        "outputId": "1cb8c603-32ea-4091-c655-39d8ba8ebd57"
      },
      "source": [
        "print(f\"Subreddit-links-per-post  {sum(df.no_of_linked_sr) / len(df.body)}\")\n",
        "print(f\"URL-links-per-post        {sum(df.no_of_linked_urls) / len(df.body)}\")"
      ],
      "execution_count": 43,
      "outputs": [
        {
          "output_type": "stream",
          "text": [
            "Subreddit-links-per-post  0.03968016579248165\n",
            "URL-links-per-post        0.09859418230763478\n"
          ],
          "name": "stdout"
        }
      ]
    },
    {
      "cell_type": "code",
      "metadata": {
        "colab": {
          "base_uri": "https://localhost:8080/",
          "height": 35
        },
        "id": "AcFms4tA7Mwh",
        "scrolled": true,
        "outputId": "1bc3ba36-a138-4161-8fd8-ec0890fb9e80"
      },
      "source": [
        "f\"Edited/All = {sum(df.is_edited) / len(df.is_edited)}\""
      ],
      "execution_count": 44,
      "outputs": [
        {
          "output_type": "execute_result",
          "data": {
            "application/vnd.google.colaboratory.intrinsic+json": {
              "type": "string"
            },
            "text/plain": [
              "'Edited/All = 0.02497569730053092'"
            ]
          },
          "metadata": {
            "tags": []
          },
          "execution_count": 44
        }
      ]
    },
    {
      "cell_type": "code",
      "metadata": {
        "colab": {
          "base_uri": "https://localhost:8080/"
        },
        "id": "1_uXiCVA7Mwi",
        "outputId": "0329ac5b-1513-42ef-cd54-36ecd5c61a02"
      },
      "source": [
        "top_sr_links.most_common(15)"
      ],
      "execution_count": 45,
      "outputs": [
        {
          "output_type": "execute_result",
          "data": {
            "text/plain": [
              "[('AutoModerator', 991),\n",
              " ('autowikibot', 237),\n",
              " ('havoc_bot', 188),\n",
              " ('AskReddit', 185),\n",
              " ('Jokes', 120),\n",
              " ('trees', 120),\n",
              " ('mildlyinteresting', 107),\n",
              " ('havoc_bot)', 94),\n",
              " ('videos', 90),\n",
              " ('AskScienceFiction', 85),\n",
              " ('WritingPrompts', 84),\n",
              " ('Fitness', 83),\n",
              " ('kpop', 78),\n",
              " ('HFY', 63),\n",
              " ('GlobalOffensiveTrade', 56)]"
            ]
          },
          "metadata": {
            "tags": []
          },
          "execution_count": 45
        }
      ]
    },
    {
      "cell_type": "code",
      "metadata": {
        "colab": {
          "base_uri": "https://localhost:8080/"
        },
        "id": "N9xI6ucf7Mwi",
        "outputId": "8a4a4643-e2c3-42d4-8c97-5740ee5fc160"
      },
      "source": [
        "top_url_links.most_common(15)"
      ],
      "execution_count": 46,
      "outputs": [
        {
          "output_type": "execute_result",
          "data": {
            "text/plain": [
              "[('reddit', 3564),\n",
              " ('imgur', 2372),\n",
              " ('wikipedia', 1672),\n",
              " ('youtube', 1420),\n",
              " ('tumblr', 954),\n",
              " ('pcpartpicker', 495),\n",
              " ('google', 297),\n",
              " ('youtu', 285),\n",
              " ('twitter', 227),\n",
              " ('redd', 227),\n",
              " ('github', 218),\n",
              " ('steamcommunity', 185),\n",
              " ('wizards', 183),\n",
              " ('amazon', 160),\n",
              " ('co', 121)]"
            ]
          },
          "metadata": {
            "tags": []
          },
          "execution_count": 46
        }
      ]
    },
    {
      "cell_type": "code",
      "metadata": {
        "colab": {
          "base_uri": "https://localhost:8080/",
          "height": 265
        },
        "id": "xJMXzwF67Mwi",
        "outputId": "29a51d76-1c31-43bc-d2cd-e9d8320f7f76"
      },
      "source": [
        "df.subjectivity.hist(bins=100)\n",
        "plt.show()"
      ],
      "execution_count": 47,
      "outputs": [
        {
          "output_type": "display_data",
          "data": {
            "image/png": "[encoded data removed]",
            "text/plain": [
              "<Figure size 432x288 with 1 Axes>"
            ]
          },
          "metadata": {
            "tags": [],
            "needs_background": "light"
          }
        }
      ]
    },
    {
      "cell_type": "markdown",
      "metadata": {
        "id": "ZTQwQK7oU--q"
      },
      "source": [
        "# **Sentiment Based Features**"
      ]
    },
    {
      "cell_type": "code",
      "metadata": {
        "id": "b5LM0M5J-U-i",
        "colab": {
          "base_uri": "https://localhost:8080/"
        },
        "outputId": "1a3e08c7-e5c6-4e9e-ba99-c717fddb36b9"
      },
      "source": [
        " !pip install vaderSentiment"
      ],
      "execution_count": 48,
      "outputs": [
        {
          "output_type": "stream",
          "text": [
            "Requirement already satisfied: vaderSentiment in /usr/local/lib/python3.6/dist-packages (3.3.2)\n",
            "Requirement already satisfied: requests in /usr/local/lib/python3.6/dist-packages (from vaderSentiment) (2.23.0)\n",
            "Requirement already satisfied: chardet<4,>=3.0.2 in /usr/local/lib/python3.6/dist-packages (from requests->vaderSentiment) (3.0.4)\n",
            "Requirement already satisfied: idna<3,>=2.5 in /usr/local/lib/python3.6/dist-packages (from requests->vaderSentiment) (2.10)\n",
            "Requirement already satisfied: urllib3!=1.25.0,!=1.25.1,<1.26,>=1.21.1 in /usr/local/lib/python3.6/dist-packages (from requests->vaderSentiment) (1.24.3)\n",
            "Requirement already satisfied: certifi>=2017.4.17 in /usr/local/lib/python3.6/dist-packages (from requests->vaderSentiment) (2020.12.5)\n"
          ],
          "name": "stdout"
        }
      ]
    },
    {
      "cell_type": "code",
      "metadata": {
        "id": "iHS7HJu_7Mwj",
        "colab": {
          "base_uri": "https://localhost:8080/",
          "height": 387
        },
        "outputId": "36c24074-d25f-4f0a-c0fe-972267fc6f41"
      },
      "source": [
        "from vaderSentiment.vaderSentiment import SentimentIntensityAnalyzer\n",
        "\n",
        "# sentiment analyzer\n",
        "analyser = SentimentIntensityAnalyzer() # http://t-redactyl.io/blog/2017/04/using-vader-to-handle-sentiment-analysis-with-social-media-text.html\n",
        "\n",
        "# get sentiment scores \n",
        "def get_sentiment(x):\n",
        "    return analyser.polarity_scores(x)\n",
        "\n",
        "# get sentiment scores from 'body' column of dataframe\n",
        "def wrapper_get_sentiment(df):\n",
        "    df['sentiment'] = df['body'].apply(get_sentiment)\n",
        "    return df\n",
        "\n",
        "# to apply operation in parallel\n",
        "num_partitions = 100\n",
        "num_cores = 4\n",
        "def parallelize_dataframe(df, func):\n",
        "    df_split = np.array_split(df, num_partitions)\n",
        "    pool = Pool(num_cores)\n",
        "    df = pd.concat(pool.map(func, df_split))\n",
        "    pool.close()\n",
        "    pool.join()\n",
        "    return df\n",
        "\n",
        "# add a column for each score to our data\n",
        "sentiment = parallelize_dataframe(df['body'].to_frame(), wrapper_get_sentiment)\n",
        "sentiment.drop(['body'], axis=1, inplace=True)\n",
        "df['senti_neg'] = sentiment['sentiment'].apply(lambda x: x['neg'])\n",
        "df['senti_neu'] = sentiment['sentiment'].apply(lambda x: x['neu'])\n",
        "df['senti_pos'] = sentiment['sentiment'].apply(lambda x: x['pos'])\n",
        "df['senti_comp'] = sentiment['sentiment'].apply(lambda x: x['compound'])\n",
        "del sentiment"
      ],
      "execution_count": 49,
      "outputs": [
        {
          "output_type": "error",
          "ename": "KeyboardInterrupt",
          "evalue": "ignored",
          "traceback": [
            "\u001b[0;31m---------------------------------------------------------------------------\u001b[0m",
            "\u001b[0;31mKeyboardInterrupt\u001b[0m                         Traceback (most recent call last)",
            "\u001b[0;32m<ipython-input-49-b42ea318d3cd>\u001b[0m in \u001b[0;36m<module>\u001b[0;34m()\u001b[0m\n\u001b[1;32m     25\u001b[0m \u001b[0;34m\u001b[0m\u001b[0m\n\u001b[1;32m     26\u001b[0m \u001b[0;31m# add a column for each score to our data\u001b[0m\u001b[0;34m\u001b[0m\u001b[0;34m\u001b[0m\u001b[0;34m\u001b[0m\u001b[0m\n\u001b[0;32m---> 27\u001b[0;31m \u001b[0msentiment\u001b[0m \u001b[0;34m=\u001b[0m \u001b[0mparallelize_dataframe\u001b[0m\u001b[0;34m(\u001b[0m\u001b[0mdf\u001b[0m\u001b[0;34m[\u001b[0m\u001b[0;34m'body'\u001b[0m\u001b[0;34m]\u001b[0m\u001b[0;34m.\u001b[0m\u001b[0mto_frame\u001b[0m\u001b[0;34m(\u001b[0m\u001b[0;34m)\u001b[0m\u001b[0;34m,\u001b[0m \u001b[0mwrapper_get_sentiment\u001b[0m\u001b[0;34m)\u001b[0m\u001b[0;34m\u001b[0m\u001b[0;34m\u001b[0m\u001b[0m\n\u001b[0m\u001b[1;32m     28\u001b[0m \u001b[0msentiment\u001b[0m\u001b[0;34m.\u001b[0m\u001b[0mdrop\u001b[0m\u001b[0;34m(\u001b[0m\u001b[0;34m[\u001b[0m\u001b[0;34m'body'\u001b[0m\u001b[0;34m]\u001b[0m\u001b[0;34m,\u001b[0m \u001b[0maxis\u001b[0m\u001b[0;34m=\u001b[0m\u001b[0;36m1\u001b[0m\u001b[0;34m,\u001b[0m \u001b[0minplace\u001b[0m\u001b[0;34m=\u001b[0m\u001b[0;32mTrue\u001b[0m\u001b[0;34m)\u001b[0m\u001b[0;34m\u001b[0m\u001b[0;34m\u001b[0m\u001b[0m\n\u001b[1;32m     29\u001b[0m \u001b[0mdf\u001b[0m\u001b[0;34m[\u001b[0m\u001b[0;34m'senti_neg'\u001b[0m\u001b[0;34m]\u001b[0m \u001b[0;34m=\u001b[0m \u001b[0msentiment\u001b[0m\u001b[0;34m[\u001b[0m\u001b[0;34m'sentiment'\u001b[0m\u001b[0;34m]\u001b[0m\u001b[0;34m.\u001b[0m\u001b[0mapply\u001b[0m\u001b[0;34m(\u001b[0m\u001b[0;32mlambda\u001b[0m \u001b[0mx\u001b[0m\u001b[0;34m:\u001b[0m \u001b[0mx\u001b[0m\u001b[0;34m[\u001b[0m\u001b[0;34m'neg'\u001b[0m\u001b[0;34m]\u001b[0m\u001b[0;34m)\u001b[0m\u001b[0;34m\u001b[0m\u001b[0;34m\u001b[0m\u001b[0m\n",
            "\u001b[0;32m<ipython-input-49-b42ea318d3cd>\u001b[0m in \u001b[0;36mparallelize_dataframe\u001b[0;34m(df, func)\u001b[0m\n\u001b[1;32m     19\u001b[0m     \u001b[0mdf_split\u001b[0m \u001b[0;34m=\u001b[0m \u001b[0mnp\u001b[0m\u001b[0;34m.\u001b[0m\u001b[0marray_split\u001b[0m\u001b[0;34m(\u001b[0m\u001b[0mdf\u001b[0m\u001b[0;34m,\u001b[0m \u001b[0mnum_partitions\u001b[0m\u001b[0;34m)\u001b[0m\u001b[0;34m\u001b[0m\u001b[0;34m\u001b[0m\u001b[0m\n\u001b[1;32m     20\u001b[0m     \u001b[0mpool\u001b[0m \u001b[0;34m=\u001b[0m \u001b[0mPool\u001b[0m\u001b[0;34m(\u001b[0m\u001b[0mnum_cores\u001b[0m\u001b[0;34m)\u001b[0m\u001b[0;34m\u001b[0m\u001b[0;34m\u001b[0m\u001b[0m\n\u001b[0;32m---> 21\u001b[0;31m     \u001b[0mdf\u001b[0m \u001b[0;34m=\u001b[0m \u001b[0mpd\u001b[0m\u001b[0;34m.\u001b[0m\u001b[0mconcat\u001b[0m\u001b[0;34m(\u001b[0m\u001b[0mpool\u001b[0m\u001b[0;34m.\u001b[0m\u001b[0mmap\u001b[0m\u001b[0;34m(\u001b[0m\u001b[0mfunc\u001b[0m\u001b[0;34m,\u001b[0m \u001b[0mdf_split\u001b[0m\u001b[0;34m)\u001b[0m\u001b[0;34m)\u001b[0m\u001b[0;34m\u001b[0m\u001b[0;34m\u001b[0m\u001b[0m\n\u001b[0m\u001b[1;32m     22\u001b[0m     \u001b[0mpool\u001b[0m\u001b[0;34m.\u001b[0m\u001b[0mclose\u001b[0m\u001b[0;34m(\u001b[0m\u001b[0;34m)\u001b[0m\u001b[0;34m\u001b[0m\u001b[0;34m\u001b[0m\u001b[0m\n\u001b[1;32m     23\u001b[0m     \u001b[0mpool\u001b[0m\u001b[0;34m.\u001b[0m\u001b[0mjoin\u001b[0m\u001b[0;34m(\u001b[0m\u001b[0;34m)\u001b[0m\u001b[0;34m\u001b[0m\u001b[0;34m\u001b[0m\u001b[0m\n",
            "\u001b[0;32m/usr/lib/python3.6/multiprocessing/pool.py\u001b[0m in \u001b[0;36mmap\u001b[0;34m(self, func, iterable, chunksize)\u001b[0m\n\u001b[1;32m    264\u001b[0m         \u001b[0;32min\u001b[0m \u001b[0ma\u001b[0m \u001b[0mlist\u001b[0m \u001b[0mthat\u001b[0m \u001b[0;32mis\u001b[0m \u001b[0mreturned\u001b[0m\u001b[0;34m.\u001b[0m\u001b[0;34m\u001b[0m\u001b[0;34m\u001b[0m\u001b[0m\n\u001b[1;32m    265\u001b[0m         '''\n\u001b[0;32m--> 266\u001b[0;31m         \u001b[0;32mreturn\u001b[0m \u001b[0mself\u001b[0m\u001b[0;34m.\u001b[0m\u001b[0m_map_async\u001b[0m\u001b[0;34m(\u001b[0m\u001b[0mfunc\u001b[0m\u001b[0;34m,\u001b[0m \u001b[0miterable\u001b[0m\u001b[0;34m,\u001b[0m \u001b[0mmapstar\u001b[0m\u001b[0;34m,\u001b[0m \u001b[0mchunksize\u001b[0m\u001b[0;34m)\u001b[0m\u001b[0;34m.\u001b[0m\u001b[0mget\u001b[0m\u001b[0;34m(\u001b[0m\u001b[0;34m)\u001b[0m\u001b[0;34m\u001b[0m\u001b[0;34m\u001b[0m\u001b[0m\n\u001b[0m\u001b[1;32m    267\u001b[0m \u001b[0;34m\u001b[0m\u001b[0m\n\u001b[1;32m    268\u001b[0m     \u001b[0;32mdef\u001b[0m \u001b[0mstarmap\u001b[0m\u001b[0;34m(\u001b[0m\u001b[0mself\u001b[0m\u001b[0;34m,\u001b[0m \u001b[0mfunc\u001b[0m\u001b[0;34m,\u001b[0m \u001b[0miterable\u001b[0m\u001b[0;34m,\u001b[0m \u001b[0mchunksize\u001b[0m\u001b[0;34m=\u001b[0m\u001b[0;32mNone\u001b[0m\u001b[0;34m)\u001b[0m\u001b[0;34m:\u001b[0m\u001b[0;34m\u001b[0m\u001b[0;34m\u001b[0m\u001b[0m\n",
            "\u001b[0;32m/usr/lib/python3.6/multiprocessing/pool.py\u001b[0m in \u001b[0;36mget\u001b[0;34m(self, timeout)\u001b[0m\n\u001b[1;32m    636\u001b[0m \u001b[0;34m\u001b[0m\u001b[0m\n\u001b[1;32m    637\u001b[0m     \u001b[0;32mdef\u001b[0m \u001b[0mget\u001b[0m\u001b[0;34m(\u001b[0m\u001b[0mself\u001b[0m\u001b[0;34m,\u001b[0m \u001b[0mtimeout\u001b[0m\u001b[0;34m=\u001b[0m\u001b[0;32mNone\u001b[0m\u001b[0;34m)\u001b[0m\u001b[0;34m:\u001b[0m\u001b[0;34m\u001b[0m\u001b[0;34m\u001b[0m\u001b[0m\n\u001b[0;32m--> 638\u001b[0;31m         \u001b[0mself\u001b[0m\u001b[0;34m.\u001b[0m\u001b[0mwait\u001b[0m\u001b[0;34m(\u001b[0m\u001b[0mtimeout\u001b[0m\u001b[0;34m)\u001b[0m\u001b[0;34m\u001b[0m\u001b[0;34m\u001b[0m\u001b[0m\n\u001b[0m\u001b[1;32m    639\u001b[0m         \u001b[0;32mif\u001b[0m \u001b[0;32mnot\u001b[0m \u001b[0mself\u001b[0m\u001b[0;34m.\u001b[0m\u001b[0mready\u001b[0m\u001b[0;34m(\u001b[0m\u001b[0;34m)\u001b[0m\u001b[0;34m:\u001b[0m\u001b[0;34m\u001b[0m\u001b[0;34m\u001b[0m\u001b[0m\n\u001b[1;32m    640\u001b[0m             \u001b[0;32mraise\u001b[0m \u001b[0mTimeoutError\u001b[0m\u001b[0;34m\u001b[0m\u001b[0;34m\u001b[0m\u001b[0m\n",
            "\u001b[0;32m/usr/lib/python3.6/multiprocessing/pool.py\u001b[0m in \u001b[0;36mwait\u001b[0;34m(self, timeout)\u001b[0m\n\u001b[1;32m    633\u001b[0m \u001b[0;34m\u001b[0m\u001b[0m\n\u001b[1;32m    634\u001b[0m     \u001b[0;32mdef\u001b[0m \u001b[0mwait\u001b[0m\u001b[0;34m(\u001b[0m\u001b[0mself\u001b[0m\u001b[0;34m,\u001b[0m \u001b[0mtimeout\u001b[0m\u001b[0;34m=\u001b[0m\u001b[0;32mNone\u001b[0m\u001b[0;34m)\u001b[0m\u001b[0;34m:\u001b[0m\u001b[0;34m\u001b[0m\u001b[0;34m\u001b[0m\u001b[0m\n\u001b[0;32m--> 635\u001b[0;31m         \u001b[0mself\u001b[0m\u001b[0;34m.\u001b[0m\u001b[0m_event\u001b[0m\u001b[0;34m.\u001b[0m\u001b[0mwait\u001b[0m\u001b[0;34m(\u001b[0m\u001b[0mtimeout\u001b[0m\u001b[0;34m)\u001b[0m\u001b[0;34m\u001b[0m\u001b[0;34m\u001b[0m\u001b[0m\n\u001b[0m\u001b[1;32m    636\u001b[0m \u001b[0;34m\u001b[0m\u001b[0m\n\u001b[1;32m    637\u001b[0m     \u001b[0;32mdef\u001b[0m \u001b[0mget\u001b[0m\u001b[0;34m(\u001b[0m\u001b[0mself\u001b[0m\u001b[0;34m,\u001b[0m \u001b[0mtimeout\u001b[0m\u001b[0;34m=\u001b[0m\u001b[0;32mNone\u001b[0m\u001b[0;34m)\u001b[0m\u001b[0;34m:\u001b[0m\u001b[0;34m\u001b[0m\u001b[0;34m\u001b[0m\u001b[0m\n",
            "\u001b[0;32m/usr/lib/python3.6/threading.py\u001b[0m in \u001b[0;36mwait\u001b[0;34m(self, timeout)\u001b[0m\n\u001b[1;32m    549\u001b[0m             \u001b[0msignaled\u001b[0m \u001b[0;34m=\u001b[0m \u001b[0mself\u001b[0m\u001b[0;34m.\u001b[0m\u001b[0m_flag\u001b[0m\u001b[0;34m\u001b[0m\u001b[0;34m\u001b[0m\u001b[0m\n\u001b[1;32m    550\u001b[0m             \u001b[0;32mif\u001b[0m \u001b[0;32mnot\u001b[0m \u001b[0msignaled\u001b[0m\u001b[0;34m:\u001b[0m\u001b[0;34m\u001b[0m\u001b[0;34m\u001b[0m\u001b[0m\n\u001b[0;32m--> 551\u001b[0;31m                 \u001b[0msignaled\u001b[0m \u001b[0;34m=\u001b[0m \u001b[0mself\u001b[0m\u001b[0;34m.\u001b[0m\u001b[0m_cond\u001b[0m\u001b[0;34m.\u001b[0m\u001b[0mwait\u001b[0m\u001b[0;34m(\u001b[0m\u001b[0mtimeout\u001b[0m\u001b[0;34m)\u001b[0m\u001b[0;34m\u001b[0m\u001b[0;34m\u001b[0m\u001b[0m\n\u001b[0m\u001b[1;32m    552\u001b[0m             \u001b[0;32mreturn\u001b[0m \u001b[0msignaled\u001b[0m\u001b[0;34m\u001b[0m\u001b[0;34m\u001b[0m\u001b[0m\n\u001b[1;32m    553\u001b[0m \u001b[0;34m\u001b[0m\u001b[0m\n",
            "\u001b[0;32m/usr/lib/python3.6/threading.py\u001b[0m in \u001b[0;36mwait\u001b[0;34m(self, timeout)\u001b[0m\n\u001b[1;32m    293\u001b[0m         \u001b[0;32mtry\u001b[0m\u001b[0;34m:\u001b[0m    \u001b[0;31m# restore state no matter what (e.g., KeyboardInterrupt)\u001b[0m\u001b[0;34m\u001b[0m\u001b[0;34m\u001b[0m\u001b[0m\n\u001b[1;32m    294\u001b[0m             \u001b[0;32mif\u001b[0m \u001b[0mtimeout\u001b[0m \u001b[0;32mis\u001b[0m \u001b[0;32mNone\u001b[0m\u001b[0;34m:\u001b[0m\u001b[0;34m\u001b[0m\u001b[0;34m\u001b[0m\u001b[0m\n\u001b[0;32m--> 295\u001b[0;31m                 \u001b[0mwaiter\u001b[0m\u001b[0;34m.\u001b[0m\u001b[0macquire\u001b[0m\u001b[0;34m(\u001b[0m\u001b[0;34m)\u001b[0m\u001b[0;34m\u001b[0m\u001b[0;34m\u001b[0m\u001b[0m\n\u001b[0m\u001b[1;32m    296\u001b[0m                 \u001b[0mgotit\u001b[0m \u001b[0;34m=\u001b[0m \u001b[0;32mTrue\u001b[0m\u001b[0;34m\u001b[0m\u001b[0;34m\u001b[0m\u001b[0m\n\u001b[1;32m    297\u001b[0m             \u001b[0;32melse\u001b[0m\u001b[0;34m:\u001b[0m\u001b[0;34m\u001b[0m\u001b[0;34m\u001b[0m\u001b[0m\n",
            "\u001b[0;31mKeyboardInterrupt\u001b[0m: "
          ]
        }
      ]
    },
    {
      "cell_type": "code",
      "metadata": {
        "id": "bZJshYVb7Mwk",
        "scrolled": true
      },
      "source": [
        "print(df.shape)\n",
        "df.head().T"
      ],
      "execution_count": null,
      "outputs": []
    },
    {
      "cell_type": "markdown",
      "metadata": {
        "id": "17TgneQNdEEC"
      },
      "source": [
        "# **Comment Length Based Features**"
      ]
    },
    {
      "cell_type": "code",
      "metadata": {
        "id": "W_UpwonC7Mwk"
      },
      "source": [
        "# get number of words in comment\n",
        "def get_word_count(df):\n",
        "    df['word_count'] = df['body'].apply(lambda x: len(x.split()))\n",
        "    return df\n",
        "\n",
        "word_counts = parallelize_dataframe(df['body'].to_frame(), get_word_count)\n",
        "df['word_counts'] = word_counts.word_count\n",
        "del word_counts"
      ],
      "execution_count": null,
      "outputs": []
    },
    {
      "cell_type": "code",
      "metadata": {
        "id": "Wqr39h-n7Mwk"
      },
      "source": [
        "print(f\"{df.memory_usage(deep=True).sum() / 1023.0**3} GB\")"
      ],
      "execution_count": null,
      "outputs": []
    }
  ]
}