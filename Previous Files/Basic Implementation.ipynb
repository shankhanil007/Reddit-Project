{
  "nbformat": 4,
  "nbformat_minor": 0,
  "metadata": {
    "colab": {
      "name": "Untitled0.ipynb",
      "provenance": []
    },
    "kernelspec": {
      "name": "python3",
      "display_name": "Python 3"
    }
  },
  "cells": [
    {
      "cell_type": "code",
      "metadata": {
        "id": "gHKnURanDI22"
      },
      "source": [
        "import pandas as pd\r\n",
        "import numpy as np\r\n",
        "import matplotlib.pyplot as plt\r\n",
        "import seaborn as sns\r\n",
        "from sklearn.metrics import mean_squared_error, r2_score, mean_absolute_error\r\n",
        "from sklearn.model_selection import train_test_split\r\n",
        "from sklearn.preprocessing import LabelBinarizer\r\n",
        "from sklearn.dummy import DummyRegressor\r\n",
        "from sklearn.linear_model import LinearRegression\r\n",
        "from sklearn.linear_model import LassoCV\r\n",
        "from sklearn.linear_model import RidgeCV\r\n",
        "from sklearn.linear_model import ElasticNetCV\r\n",
        "from sklearn.neighbors import KNeighborsRegressor\r\n",
        "from sklearn.tree import DecisionTreeRegressor\r\n",
        "from sklearn.ensemble import RandomForestRegressor\r\n",
        "from sklearn.ensemble import GradientBoostingRegressor\r\n",
        "import warnings\r\n",
        "warnings.filterwarnings('ignore')"
      ],
      "execution_count": 2,
      "outputs": []
    },
    {
      "cell_type": "code",
      "metadata": {
        "id": "lvewusqGDaAv"
      },
      "source": [
        "def model_diagnostics(model, pr=True):\r\n",
        "    \"\"\"\r\n",
        "    Returns and prints the R-squared, RMSE and the MAE for a trained model\r\n",
        "    \"\"\"\r\n",
        "    y_predicted = model.predict(X_test)\r\n",
        "    r2 = r2_score(y_test, y_predicted)\r\n",
        "    mse = mean_squared_error(y_test, y_predicted)\r\n",
        "    mae = mean_absolute_error(y_test, y_predicted)\r\n",
        "    if pr:\r\n",
        "        print(f\"R-Sq: {r2:.4}\")\r\n",
        "        print(f\"RMSE: {np.sqrt(mse)}\")\r\n",
        "        print(f\"MAE: {mae}\")\r\n",
        "    \r\n",
        "    return [r2,np.sqrt(mse),mae]\r\n",
        "def plot_residuals(y_test, y_predicted):\r\n",
        "    \"\"\"\"\r\n",
        "    Plots the distribution for actual and predicted values of the target variable. Also plots the distribution for the residuals\r\n",
        "    \"\"\"\r\n",
        "    fig, (ax0, ax1) = plt.subplots(nrows=1, ncols=2, sharey=True)\r\n",
        "    sns.distplot(y_test, ax=ax0, kde = False)\r\n",
        "    ax0.set(xlabel='Test scores')\r\n",
        "    sns.distplot(y_predicted, ax=ax1, kde = False)\r\n",
        "    ax1.set(xlabel=\"Predicted scores\")\r\n",
        "    plt.show()\r\n",
        "    fig, ax2 = plt.subplots()\r\n",
        "    sns.distplot((y_test-y_predicted), ax = ax2,kde = False)\r\n",
        "    ax2.set(xlabel=\"Residuals\")\r\n",
        "    plt.show()\r\n",
        "def y_test_vs_y_predicted(y_test,y_predicted):\r\n",
        "    \"\"\"\r\n",
        "    Produces a scatter plot for the actual and predicted values of the target variable\r\n",
        "    \"\"\"\r\n",
        "    fig, ax = plt.subplots()\r\n",
        "    ax.scatter(y_test, y_predicted)\r\n",
        "    ax.set_xlabel(\"Test Scores\")\r\n",
        "    ax.set_ylim([-75, 1400])\r\n",
        "    ax.set_ylabel(\"Predicted Scores\")\r\n",
        "    plt.show()\r\n",
        "def get_feature_importance(model):\r\n",
        "    \"\"\"\r\n",
        "    For fitted tree based models, get_feature_importance can be used to get the feature importance as a tidy output\r\n",
        "    \"\"\"\r\n",
        "    X_non_text = pd.get_dummies(df[cat_cols])\r\n",
        "    features = numeric_cols + bool_cols + list(X_non_text.columns)\r\n",
        "    feature_importance = dict(zip(features, model.feature_importances_))\r\n",
        "    for name, importance in sorted(feature_importance.items(), key=lambda x: x[1], reverse=True):\r\n",
        "        print(f\"{name:<30}: {importance:>6.2%}\")\r\n",
        "        print(f\"\\nTotal importance: {sum(feature_importance.values()):.2%}\")\r\n",
        "    return feature_importance"
      ],
      "execution_count": 3,
      "outputs": []
    },
    {
      "cell_type": "code",
      "metadata": {
        "id": "93XyHXYiDgzU"
      },
      "source": [
        "df = pd.read_csv('/content/sample_data/dataset.csv')"
      ],
      "execution_count": 5,
      "outputs": []
    },
    {
      "cell_type": "code",
      "metadata": {
        "colab": {
          "base_uri": "https://localhost:8080/",
          "height": 551
        },
        "id": "L8vGLARCD7cL",
        "outputId": "0f11776a-4352-46ba-f024-2e2b63ef3dca"
      },
      "source": [
        "df.head()"
      ],
      "execution_count": 9,
      "outputs": [
        {
          "output_type": "execute_result",
          "data": {
            "text/html": [
              "<div>\n",
              "<style scoped>\n",
              "    .dataframe tbody tr th:only-of-type {\n",
              "        vertical-align: middle;\n",
              "    }\n",
              "\n",
              "    .dataframe tbody tr th {\n",
              "        vertical-align: top;\n",
              "    }\n",
              "\n",
              "    .dataframe thead th {\n",
              "        text-align: right;\n",
              "    }\n",
              "</style>\n",
              "<table border=\"1\" class=\"dataframe\">\n",
              "  <thead>\n",
              "    <tr style=\"text-align: right;\">\n",
              "      <th></th>\n",
              "      <th>controversiality</th>\n",
              "      <th>body</th>\n",
              "      <th>subreddit_id</th>\n",
              "      <th>link_id</th>\n",
              "      <th>stickied</th>\n",
              "      <th>subreddit</th>\n",
              "      <th>score</th>\n",
              "      <th>ups</th>\n",
              "      <th>author_flair_css_class</th>\n",
              "      <th>created_utc</th>\n",
              "      <th>author_flair_text</th>\n",
              "      <th>author</th>\n",
              "      <th>id</th>\n",
              "      <th>edited</th>\n",
              "      <th>parent_id</th>\n",
              "      <th>gilded</th>\n",
              "      <th>distinguished</th>\n",
              "      <th>retrieved_on</th>\n",
              "    </tr>\n",
              "  </thead>\n",
              "  <tbody>\n",
              "    <tr>\n",
              "      <th>0</th>\n",
              "      <td>0</td>\n",
              "      <td>A look at Vietnam and Mexico exposes the myth ...</td>\n",
              "      <td>t5_6</td>\n",
              "      <td>t3_17863</td>\n",
              "      <td>False</td>\n",
              "      <td>reddit.com</td>\n",
              "      <td>2</td>\n",
              "      <td>2</td>\n",
              "      <td>NaN</td>\n",
              "      <td>1134365188</td>\n",
              "      <td>NaN</td>\n",
              "      <td>frjo</td>\n",
              "      <td>c13</td>\n",
              "      <td>False</td>\n",
              "      <td>t3_17863</td>\n",
              "      <td>0</td>\n",
              "      <td>NaN</td>\n",
              "      <td>1473738411</td>\n",
              "    </tr>\n",
              "    <tr>\n",
              "      <th>1</th>\n",
              "      <td>0</td>\n",
              "      <td>The site states \"What can I use it for? Meetin...</td>\n",
              "      <td>t5_6</td>\n",
              "      <td>t3_17866</td>\n",
              "      <td>False</td>\n",
              "      <td>reddit.com</td>\n",
              "      <td>1</td>\n",
              "      <td>1</td>\n",
              "      <td>NaN</td>\n",
              "      <td>1134365725</td>\n",
              "      <td>NaN</td>\n",
              "      <td>zse7zse</td>\n",
              "      <td>c14</td>\n",
              "      <td>False</td>\n",
              "      <td>t3_17866</td>\n",
              "      <td>0</td>\n",
              "      <td>NaN</td>\n",
              "      <td>1473738411</td>\n",
              "    </tr>\n",
              "    <tr>\n",
              "      <th>2</th>\n",
              "      <td>0</td>\n",
              "      <td>Jython related topics by Frank Wierzbicki</td>\n",
              "      <td>t5_6</td>\n",
              "      <td>t3_17869</td>\n",
              "      <td>False</td>\n",
              "      <td>reddit.com</td>\n",
              "      <td>0</td>\n",
              "      <td>0</td>\n",
              "      <td>NaN</td>\n",
              "      <td>1134366848</td>\n",
              "      <td>NaN</td>\n",
              "      <td>[deleted]</td>\n",
              "      <td>c15</td>\n",
              "      <td>False</td>\n",
              "      <td>t3_17869</td>\n",
              "      <td>0</td>\n",
              "      <td>NaN</td>\n",
              "      <td>1473738411</td>\n",
              "    </tr>\n",
              "    <tr>\n",
              "      <th>3</th>\n",
              "      <td>0</td>\n",
              "      <td>[deleted]</td>\n",
              "      <td>t5_6</td>\n",
              "      <td>t3_17870</td>\n",
              "      <td>False</td>\n",
              "      <td>reddit.com</td>\n",
              "      <td>1</td>\n",
              "      <td>1</td>\n",
              "      <td>NaN</td>\n",
              "      <td>1134367660</td>\n",
              "      <td>NaN</td>\n",
              "      <td>[deleted]</td>\n",
              "      <td>c16</td>\n",
              "      <td>False</td>\n",
              "      <td>t3_17870</td>\n",
              "      <td>0</td>\n",
              "      <td>NaN</td>\n",
              "      <td>1473738411</td>\n",
              "    </tr>\n",
              "    <tr>\n",
              "      <th>4</th>\n",
              "      <td>0</td>\n",
              "      <td>Saft is by far the best extension you could ta...</td>\n",
              "      <td>t5_6</td>\n",
              "      <td>t3_17817</td>\n",
              "      <td>False</td>\n",
              "      <td>reddit.com</td>\n",
              "      <td>1</td>\n",
              "      <td>1</td>\n",
              "      <td>NaN</td>\n",
              "      <td>1134367754</td>\n",
              "      <td>NaN</td>\n",
              "      <td>rjoseph</td>\n",
              "      <td>c17</td>\n",
              "      <td>False</td>\n",
              "      <td>t3_17817</td>\n",
              "      <td>0</td>\n",
              "      <td>NaN</td>\n",
              "      <td>1473738411</td>\n",
              "    </tr>\n",
              "  </tbody>\n",
              "</table>\n",
              "</div>"
            ],
            "text/plain": [
              "   controversiality  ... retrieved_on\n",
              "0                 0  ...   1473738411\n",
              "1                 0  ...   1473738411\n",
              "2                 0  ...   1473738411\n",
              "3                 0  ...   1473738411\n",
              "4                 0  ...   1473738411\n",
              "\n",
              "[5 rows x 18 columns]"
            ]
          },
          "metadata": {
            "tags": []
          },
          "execution_count": 9
        }
      ]
    },
    {
      "cell_type": "code",
      "metadata": {
        "id": "IeGGSXm2Fer9"
      },
      "source": [
        "df = df.fillna(0)"
      ],
      "execution_count": 23,
      "outputs": []
    },
    {
      "cell_type": "code",
      "metadata": {
        "id": "-HkUDnzLDqkA"
      },
      "source": [
        "bool_cols = ['over_18', 'is_edited', 'is_quoted', 'is_selftext']\r\n",
        "cat_cols = ['subreddit', 'distinguished']\r\n",
        "\r\n",
        "numeric_cols = ['gilded', 'controversiality']"
      ],
      "execution_count": 27,
      "outputs": []
    },
    {
      "cell_type": "code",
      "metadata": {
        "id": "4TmF2v7dECo-"
      },
      "source": [
        "lb = LabelBinarizer()\r\n",
        "cat = [lb.fit_transform(df[col]) for col in cat_cols]\r\n",
        "t = df.loc[:, numeric_cols].values\r\n",
        "final = [t]  + cat\r\n",
        "y = df.score.values\r\n",
        "x = np.column_stack(tuple(final))"
      ],
      "execution_count": 28,
      "outputs": []
    },
    {
      "cell_type": "code",
      "metadata": {
        "id": "LdwZhoBeGjYc"
      },
      "source": [
        "X_train, X_test, y_train, y_test = train_test_split(x, y, test_size=0.2, random_state=10)"
      ],
      "execution_count": 29,
      "outputs": []
    },
    {
      "cell_type": "code",
      "metadata": {
        "id": "qROtgftbGqGD"
      },
      "source": [
        "model_performance_dict = dict()"
      ],
      "execution_count": 30,
      "outputs": []
    },
    {
      "cell_type": "code",
      "metadata": {
        "colab": {
          "base_uri": "https://localhost:8080/"
        },
        "id": "dmThzsXIGsJr",
        "outputId": "2d7ac268-9fc9-4969-e286-c2533ea5ad3b"
      },
      "source": [
        "baseline = DummyRegressor(strategy='mean')\r\n",
        "baseline.fit(X_train,y_train)\r\n",
        "model_performance_dict[\"Baseline\"] = model_diagnostics(baseline)"
      ],
      "execution_count": 31,
      "outputs": [
        {
          "output_type": "stream",
          "text": [
            "R-Sq: -0.003336\n",
            "RMSE: 3.0247232574580574\n",
            "MAE: 1.8042725797728503\n"
          ],
          "name": "stdout"
        }
      ]
    },
    {
      "cell_type": "code",
      "metadata": {
        "colab": {
          "base_uri": "https://localhost:8080/"
        },
        "id": "f2LuhScyGuNK",
        "outputId": "c66af5e9-1852-48e6-ce4c-f562d5988880"
      },
      "source": [
        "linear = LinearRegression()\r\n",
        "linear.fit(X_train,y_train)\r\n",
        "model_performance_dict[\"Linear Regression\"] = model_diagnostics(linear)"
      ],
      "execution_count": 32,
      "outputs": [
        {
          "output_type": "stream",
          "text": [
            "R-Sq: 0.003172\n",
            "RMSE: 3.0148976832863794\n",
            "MAE: 1.8090895166526373\n"
          ],
          "name": "stdout"
        }
      ]
    },
    {
      "cell_type": "code",
      "metadata": {
        "colab": {
          "base_uri": "https://localhost:8080/"
        },
        "id": "SoQRPldzGxeE",
        "outputId": "c7fe6d0e-3667-45f1-e80b-58808f732ed9"
      },
      "source": [
        "lasso = LassoCV(cv=30).fit(X_train, y_train)\r\n",
        "model_performance_dict[\"Lasso Regression\"] = model_diagnostics(lasso)\r\n"
      ],
      "execution_count": 33,
      "outputs": [
        {
          "output_type": "stream",
          "text": [
            "R-Sq: 0.003171\n",
            "RMSE: 3.0148989162700945\n",
            "MAE: 1.8090666781407854\n"
          ],
          "name": "stdout"
        }
      ]
    },
    {
      "cell_type": "code",
      "metadata": {
        "colab": {
          "base_uri": "https://localhost:8080/"
        },
        "id": "2ZWiLrJMGyRK",
        "outputId": "a5a9c2dc-b2cb-4695-ef32-eacb62dfca01"
      },
      "source": [
        "ridge = RidgeCV(cv=10).fit(X_train, y_train)\r\n",
        "model_performance_dict[\"Ridge Regression\"] = model_diagnostics(ridge)"
      ],
      "execution_count": 34,
      "outputs": [
        {
          "output_type": "stream",
          "text": [
            "R-Sq: 0.003181\n",
            "RMSE: 3.0148837568092657\n",
            "MAE: 1.809009829587058\n"
          ],
          "name": "stdout"
        }
      ]
    },
    {
      "cell_type": "code",
      "metadata": {
        "colab": {
          "base_uri": "https://localhost:8080/"
        },
        "id": "y9pZuwb6G0Gm",
        "outputId": "4f92a850-e9bf-4d83-aa5c-f71dfddc6c9d"
      },
      "source": [
        "elastic_net = ElasticNetCV(cv = 30).fit(X_train, y_train)\r\n",
        "model_performance_dict[\"Elastic Net Regression\"] = model_diagnostics(elastic_net)"
      ],
      "execution_count": 35,
      "outputs": [
        {
          "output_type": "stream",
          "text": [
            "R-Sq: 0.003172\n",
            "RMSE: 3.0148970329556923\n",
            "MAE: 1.8089700551565133\n"
          ],
          "name": "stdout"
        }
      ]
    },
    {
      "cell_type": "code",
      "metadata": {
        "colab": {
          "base_uri": "https://localhost:8080/"
        },
        "id": "gyHzxXWYG2BY",
        "outputId": "90a01827-b2ec-4b56-a786-0caceb0ed4da"
      },
      "source": [
        "knr = KNeighborsRegressor()\r\n",
        "knr.fit(X_train, y_train)\r\n",
        "model_performance_dict[\"KNN Regression\"] = model_diagnostics(knr)"
      ],
      "execution_count": 36,
      "outputs": [
        {
          "output_type": "stream",
          "text": [
            "R-Sq: -0.1279\n",
            "RMSE: 3.206940148533968\n",
            "MAE: 2.1869767441860466\n"
          ],
          "name": "stdout"
        }
      ]
    },
    {
      "cell_type": "code",
      "metadata": {
        "colab": {
          "base_uri": "https://localhost:8080/"
        },
        "id": "WxDTg5xDG5pe",
        "outputId": "c22a278a-a1bd-489b-b0c7-4d7e4e601953"
      },
      "source": [
        "dt = DecisionTreeRegressor(min_samples_split=45, min_samples_leaf=45, random_state = 10)\r\n",
        "dt.fit(X_train, y_train)\r\n",
        "model_performance_dict[\"Decision Tree\"] = model_diagnostics(dt)"
      ],
      "execution_count": 37,
      "outputs": [
        {
          "output_type": "stream",
          "text": [
            "R-Sq: -0.003336\n",
            "RMSE: 3.0247232574580574\n",
            "MAE: 1.8042725797728503\n"
          ],
          "name": "stdout"
        }
      ]
    },
    {
      "cell_type": "code",
      "metadata": {
        "colab": {
          "base_uri": "https://localhost:8080/"
        },
        "id": "u4ROBpeDG6Ff",
        "outputId": "509c2eb1-319f-47e3-d889-04fd9c192178"
      },
      "source": [
        "rf = RandomForestRegressor(n_jobs=-1, n_estimators=70, min_samples_leaf=10, random_state = 10)\r\n",
        "rf.fit(X_train, y_train)\r\n",
        "model_performance_dict[\"Random Forest\"] = model_diagnostics(rf)"
      ],
      "execution_count": 38,
      "outputs": [
        {
          "output_type": "stream",
          "text": [
            "R-Sq: 0.003039\n",
            "RMSE: 3.015098168407681\n",
            "MAE: 1.8094648296645635\n"
          ],
          "name": "stdout"
        }
      ]
    },
    {
      "cell_type": "code",
      "metadata": {
        "colab": {
          "base_uri": "https://localhost:8080/"
        },
        "id": "DRuCfzNHG701",
        "outputId": "79db9aaa-0f05-4b28-ed1f-3876963eca13"
      },
      "source": [
        "gbr = GradientBoostingRegressor(n_estimators=70, max_depth=5)\r\n",
        "gbr.fit(X_train, y_train)\r\n",
        "model_performance_dict[\"Gradient Boosting Regression\"] = model_diagnostics(gbr)"
      ],
      "execution_count": 39,
      "outputs": [
        {
          "output_type": "stream",
          "text": [
            "R-Sq: 0.003172\n",
            "RMSE: 3.0148966358688365\n",
            "MAE: 1.8090864984623571\n"
          ],
          "name": "stdout"
        }
      ]
    },
    {
      "cell_type": "code",
      "metadata": {
        "id": "afjePSboG9Go"
      },
      "source": [
        "def model_comparison(model_performance_dict, sort_by = 'RMSE', metric = 'RMSE'):\r\n",
        "\r\n",
        "    Rsq_list = []\r\n",
        "    RMSE_list = []\r\n",
        "    MAE_list = []\r\n",
        "    for key in model_performance_dict.keys():\r\n",
        "        Rsq_list.append(model_performance_dict[key][0])\r\n",
        "        RMSE_list.append(model_performance_dict[key][1])\r\n",
        "        MAE_list.append(model_performance_dict[key][2])\r\n",
        "\r\n",
        "    props = pd.DataFrame([])\r\n",
        "\r\n",
        "    props[\"R-squared\"] = Rsq_list\r\n",
        "    props[\"RMSE\"] = RMSE_list\r\n",
        "    props[\"MAE\"] = MAE_list\r\n",
        "    props.index = model_performance_dict.keys()\r\n",
        "    props = props.sort_values(by = sort_by)\r\n",
        "\r\n",
        "    fig, ax = plt.subplots(figsize = (12,6))\r\n",
        "\r\n",
        "    ax.bar(props.index, props[metric], color=\"blue\")\r\n",
        "    plt.title(metric)\r\n",
        "    plt.xlabel('Model')\r\n",
        "    plt.xticks(rotation = 45)\r\n",
        "    plt.ylabel(metric)"
      ],
      "execution_count": 40,
      "outputs": []
    },
    {
      "cell_type": "code",
      "metadata": {
        "id": "LuJwLN6oG_jo",
        "outputId": "34553012-fcc7-4cce-fce3-a2bb23f8e9e6",
        "colab": {
          "base_uri": "https://localhost:8080/",
          "height": 506
        }
      },
      "source": [
        "model_comparison(model_performance_dict, sort_by = 'R-squared', metric = 'R-squared')"
      ],
      "execution_count": 47,
      "outputs": [
        {
          "output_type": "display_data",
          "data": {
            "image/png": "[encoded data removed]",
            "text/plain": [
              "<Figure size 864x432 with 1 Axes>"
            ]
          },
          "metadata": {
            "tags": [],
            "needs_background": "light"
          }
        }
      ]
    },
    {
      "cell_type": "code",
      "metadata": {
        "id": "CEMnHG3dHKVs",
        "outputId": "3f90d124-cd4b-4837-aa83-2d3d3df3947a",
        "colab": {
          "base_uri": "https://localhost:8080/",
          "height": 506
        }
      },
      "source": [
        "model_comparison(model_performance_dict, sort_by = 'R-squared', metric = 'MAE')"
      ],
      "execution_count": 43,
      "outputs": [
        {
          "output_type": "display_data",
          "data": {
            "image/png": "[encoded data removed]",
            "text/plain": [
              "<Figure size 864x432 with 1 Axes>"
            ]
          },
          "metadata": {
            "tags": [],
            "needs_background": "light"
          }
        }
      ]
    },
    {
      "cell_type": "code",
      "metadata": {
        "id": "7RzYHNNaHKss",
        "outputId": "8488cbee-ac8f-4c81-bbee-46c42fbcc34f",
        "colab": {
          "base_uri": "https://localhost:8080/",
          "height": 506
        }
      },
      "source": [
        "model_comparison(model_performance_dict, sort_by = 'R-squared', metric = 'RMSE')"
      ],
      "execution_count": 44,
      "outputs": [
        {
          "output_type": "display_data",
          "data": {
            "image/png": "[encoded data removed]",
            "text/plain": [
              "<Figure size 864x432 with 1 Axes>"
            ]
          },
          "metadata": {
            "tags": [],
            "needs_background": "light"
          }
        }
      ]
    },
    {
      "cell_type": "code",
      "metadata": {
        "id": "S3cmwJZcHNqe",
        "outputId": "d957f8e4-91ed-4574-c37a-a2f7122be36f",
        "colab": {
          "base_uri": "https://localhost:8080/",
          "height": 541
        }
      },
      "source": [
        "y_predicted = rf.predict(X_test)\r\n",
        "plot_residuals(y_test,y_predicted)"
      ],
      "execution_count": 45,
      "outputs": [
        {
          "output_type": "display_data",
          "data": {
            "image/png": "[encoded data removed]",
            "text/plain": [
              "<Figure size 432x288 with 2 Axes>"
            ]
          },
          "metadata": {
            "tags": [],
            "needs_background": "light"
          }
        },
        {
          "output_type": "display_data",
          "data": {
            "image/png": "[encoded data removed]",
            "text/plain": [
              "<Figure size 432x288 with 1 Axes>"
            ]
          },
          "metadata": {
            "tags": [],
            "needs_background": "light"
          }
        }
      ]
    },
    {
      "cell_type": "code",
      "metadata": {
        "id": "yWSLHIbhHWyh",
        "outputId": "f0a28e96-cff9-4833-c25d-283596ee5c8d",
        "colab": {
          "base_uri": "https://localhost:8080/"
        }
      },
      "source": [
        "rf_importances = get_feature_importance(rf)"
      ],
      "execution_count": 46,
      "outputs": [
        {
          "output_type": "stream",
          "text": [
            "controversiality              : 100.00%\n",
            "\n",
            "Total importance: 100.00%\n",
            "gilded                        :  0.00%\n",
            "\n",
            "Total importance: 100.00%\n",
            "over_18                       :  0.00%\n",
            "\n",
            "Total importance: 100.00%\n",
            "is_edited                     :  0.00%\n",
            "\n",
            "Total importance: 100.00%\n"
          ],
          "name": "stdout"
        }
      ]
    },
    {
      "cell_type": "code",
      "metadata": {
        "id": "FRAOcneIHXGT"
      },
      "source": [
        ""
      ],
      "execution_count": null,
      "outputs": []
    }
  ]
}