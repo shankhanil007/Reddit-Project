{
  "nbformat": 4,
  "nbformat_minor": 0,
  "metadata": {
    "colab": {
      "name": "Mini_Project_Done.ipynb",
      "provenance": [],
      "collapsed_sections": []
    },
    "kernelspec": {
      "name": "python3",
      "display_name": "Python 3"
    }
  },
  "cells": [
    {
      "cell_type": "code",
      "metadata": {
        "id": "WdPsvOejWYGi",
        "colab": {
          "base_uri": "https://localhost:8080/"
        },
        "outputId": "b06c9b92-4a09-49b8-87cf-86f479542e4b"
      },
      "source": [
        "from google.colab import drive\r\n",
        "drive.mount('/content/drive')\r\n",
        "import os\r\n",
        "os.chdir('/content/drive/MyDrive')"
      ],
      "execution_count": 1,
      "outputs": [
        {
          "output_type": "stream",
          "text": [
            "Drive already mounted at /content/drive; to attempt to forcibly remount, call drive.mount(\"/content/drive\", force_remount=True).\n"
          ],
          "name": "stdout"
        }
      ]
    },
    {
      "cell_type": "code",
      "metadata": {
        "id": "BzEs9TWjXAy5"
      },
      "source": [
        "os.chdir('Reddit_ML')"
      ],
      "execution_count": 2,
      "outputs": []
    },
    {
      "cell_type": "code",
      "metadata": {
        "id": "7X3kFYNAE4Mj"
      },
      "source": [
        "import bz2\r\n",
        "import json\r\n",
        "import pandas as pd"
      ],
      "execution_count": 3,
      "outputs": []
    },
    {
      "cell_type": "code",
      "metadata": {
        "id": "SalG8ARpE6Xm"
      },
      "source": [
        "filename = 'RC_2015-01.bz2'"
      ],
      "execution_count": 4,
      "outputs": []
    },
    {
      "cell_type": "code",
      "metadata": {
        "id": "R9vv6LMnFB8-"
      },
      "source": [
        "with bz2.open(filename, \"rt\") as bzinput:\r\n",
        "    lines = []\r\n",
        "    for i, line in enumerate(bzinput):\r\n",
        "        if i == 200000:\r\n",
        "            break\r\n",
        "        reddit = json.loads(line)\r\n",
        "        lines.append(reddit)"
      ],
      "execution_count": 5,
      "outputs": []
    },
    {
      "cell_type": "code",
      "metadata": {
        "id": "xI4wLbhQFLk2"
      },
      "source": [
        "df = pd.DataFrame(lines)"
      ],
      "execution_count": 6,
      "outputs": []
    },
    {
      "cell_type": "code",
      "metadata": {
        "colab": {
          "base_uri": "https://localhost:8080/",
          "height": 35
        },
        "id": "Mci2UfuzbgvI",
        "outputId": "3ec0032c-50b0-40bf-d8f5-aa8b9c74941b"
      },
      "source": [
        "f\"{df.memory_usage(deep=True).sum() / 1023.0**3} GB\""
      ],
      "execution_count": 7,
      "outputs": [
        {
          "output_type": "execute_result",
          "data": {
            "application/vnd.google.colaboratory.intrinsic+json": {
              "type": "string"
            },
            "text/plain": [
              "'0.1740562534923026 GB'"
            ]
          },
          "metadata": {
            "tags": []
          },
          "execution_count": 7
        }
      ]
    },
    {
      "cell_type": "code",
      "metadata": {
        "colab": {
          "base_uri": "https://localhost:8080/",
          "height": 686
        },
        "id": "3GDS_guqQLC2",
        "outputId": "081c72e5-79e8-4b56-8705-eb4c5a518f85"
      },
      "source": [
        "print(df.shape)\r\n",
        "df.head().T"
      ],
      "execution_count": 8,
      "outputs": [
        {
          "output_type": "stream",
          "text": [
            "(200000, 21)\n"
          ],
          "name": "stdout"
        },
        {
          "output_type": "execute_result",
          "data": {
            "text/html": [
              "<div>\n",
              "<style scoped>\n",
              "    .dataframe tbody tr th:only-of-type {\n",
              "        vertical-align: middle;\n",
              "    }\n",
              "\n",
              "    .dataframe tbody tr th {\n",
              "        vertical-align: top;\n",
              "    }\n",
              "\n",
              "    .dataframe thead th {\n",
              "        text-align: right;\n",
              "    }\n",
              "</style>\n",
              "<table border=\"1\" class=\"dataframe\">\n",
              "  <thead>\n",
              "    <tr style=\"text-align: right;\">\n",
              "      <th></th>\n",
              "      <th>0</th>\n",
              "      <th>1</th>\n",
              "      <th>2</th>\n",
              "      <th>3</th>\n",
              "      <th>4</th>\n",
              "    </tr>\n",
              "  </thead>\n",
              "  <tbody>\n",
              "    <tr>\n",
              "      <th>score_hidden</th>\n",
              "      <td>False</td>\n",
              "      <td>False</td>\n",
              "      <td>False</td>\n",
              "      <td>False</td>\n",
              "      <td>False</td>\n",
              "    </tr>\n",
              "    <tr>\n",
              "      <th>name</th>\n",
              "      <td>t1_cnas8zv</td>\n",
              "      <td>t1_cnas8zw</td>\n",
              "      <td>t1_cnas8zx</td>\n",
              "      <td>t1_cnas8zy</td>\n",
              "      <td>t1_cnas8zz</td>\n",
              "    </tr>\n",
              "    <tr>\n",
              "      <th>link_id</th>\n",
              "      <td>t3_2qyr1a</td>\n",
              "      <td>t3_2qv6c6</td>\n",
              "      <td>t3_2qxefp</td>\n",
              "      <td>t3_2qys4x</td>\n",
              "      <td>t3_2qm5bi</td>\n",
              "    </tr>\n",
              "    <tr>\n",
              "      <th>body</th>\n",
              "      <td>Most of us have some family members like this....</td>\n",
              "      <td>But Mill's career was way better. Bentham is l...</td>\n",
              "      <td>Mine uses a strait razor, and as much as i lov...</td>\n",
              "      <td>[deleted]</td>\n",
              "      <td>Very fast, thank you!</td>\n",
              "    </tr>\n",
              "    <tr>\n",
              "      <th>downs</th>\n",
              "      <td>0</td>\n",
              "      <td>0</td>\n",
              "      <td>0</td>\n",
              "      <td>0</td>\n",
              "      <td>0</td>\n",
              "    </tr>\n",
              "    <tr>\n",
              "      <th>created_utc</th>\n",
              "      <td>1420070400</td>\n",
              "      <td>1420070400</td>\n",
              "      <td>1420070400</td>\n",
              "      <td>1420070400</td>\n",
              "      <td>1420070400</td>\n",
              "    </tr>\n",
              "    <tr>\n",
              "      <th>score</th>\n",
              "      <td>14</td>\n",
              "      <td>3</td>\n",
              "      <td>1</td>\n",
              "      <td>1</td>\n",
              "      <td>2</td>\n",
              "    </tr>\n",
              "    <tr>\n",
              "      <th>author</th>\n",
              "      <td>YoungModern</td>\n",
              "      <td>RedCoatsForever</td>\n",
              "      <td>vhisic</td>\n",
              "      <td>[deleted]</td>\n",
              "      <td>Mastersimpson</td>\n",
              "    </tr>\n",
              "    <tr>\n",
              "      <th>distinguished</th>\n",
              "      <td>None</td>\n",
              "      <td>None</td>\n",
              "      <td>None</td>\n",
              "      <td>None</td>\n",
              "      <td>None</td>\n",
              "    </tr>\n",
              "    <tr>\n",
              "      <th>id</th>\n",
              "      <td>cnas8zv</td>\n",
              "      <td>cnas8zw</td>\n",
              "      <td>cnas8zx</td>\n",
              "      <td>cnas8zy</td>\n",
              "      <td>cnas8zz</td>\n",
              "    </tr>\n",
              "    <tr>\n",
              "      <th>archived</th>\n",
              "      <td>False</td>\n",
              "      <td>False</td>\n",
              "      <td>False</td>\n",
              "      <td>False</td>\n",
              "      <td>False</td>\n",
              "    </tr>\n",
              "    <tr>\n",
              "      <th>parent_id</th>\n",
              "      <td>t3_2qyr1a</td>\n",
              "      <td>t1_cnas2b6</td>\n",
              "      <td>t3_2qxefp</td>\n",
              "      <td>t3_2qys4x</td>\n",
              "      <td>t3_2qm5bi</td>\n",
              "    </tr>\n",
              "    <tr>\n",
              "      <th>subreddit</th>\n",
              "      <td>exmormon</td>\n",
              "      <td>CanadaPolitics</td>\n",
              "      <td>AdviceAnimals</td>\n",
              "      <td>AdviceAnimals</td>\n",
              "      <td>freedonuts</td>\n",
              "    </tr>\n",
              "    <tr>\n",
              "      <th>author_flair_css_class</th>\n",
              "      <td>None</td>\n",
              "      <td>on</td>\n",
              "      <td>None</td>\n",
              "      <td>None</td>\n",
              "      <td>None</td>\n",
              "    </tr>\n",
              "    <tr>\n",
              "      <th>author_flair_text</th>\n",
              "      <td>None</td>\n",
              "      <td>Ontario</td>\n",
              "      <td>None</td>\n",
              "      <td>None</td>\n",
              "      <td>None</td>\n",
              "    </tr>\n",
              "    <tr>\n",
              "      <th>gilded</th>\n",
              "      <td>0</td>\n",
              "      <td>0</td>\n",
              "      <td>0</td>\n",
              "      <td>0</td>\n",
              "      <td>0</td>\n",
              "    </tr>\n",
              "    <tr>\n",
              "      <th>retrieved_on</th>\n",
              "      <td>1425124282</td>\n",
              "      <td>1425124282</td>\n",
              "      <td>1425124282</td>\n",
              "      <td>1425124282</td>\n",
              "      <td>1425124282</td>\n",
              "    </tr>\n",
              "    <tr>\n",
              "      <th>ups</th>\n",
              "      <td>14</td>\n",
              "      <td>3</td>\n",
              "      <td>1</td>\n",
              "      <td>1</td>\n",
              "      <td>2</td>\n",
              "    </tr>\n",
              "    <tr>\n",
              "      <th>controversiality</th>\n",
              "      <td>0</td>\n",
              "      <td>0</td>\n",
              "      <td>0</td>\n",
              "      <td>0</td>\n",
              "      <td>0</td>\n",
              "    </tr>\n",
              "    <tr>\n",
              "      <th>subreddit_id</th>\n",
              "      <td>t5_2r0gj</td>\n",
              "      <td>t5_2s4gt</td>\n",
              "      <td>t5_2s7tt</td>\n",
              "      <td>t5_2s7tt</td>\n",
              "      <td>t5_2y51u</td>\n",
              "    </tr>\n",
              "    <tr>\n",
              "      <th>edited</th>\n",
              "      <td>False</td>\n",
              "      <td>False</td>\n",
              "      <td>False</td>\n",
              "      <td>False</td>\n",
              "      <td>False</td>\n",
              "    </tr>\n",
              "  </tbody>\n",
              "</table>\n",
              "</div>"
            ],
            "text/plain": [
              "                                                                        0  ...                      4\n",
              "score_hidden                                                        False  ...                  False\n",
              "name                                                           t1_cnas8zv  ...             t1_cnas8zz\n",
              "link_id                                                         t3_2qyr1a  ...              t3_2qm5bi\n",
              "body                    Most of us have some family members like this....  ...  Very fast, thank you!\n",
              "downs                                                                   0  ...                      0\n",
              "created_utc                                                    1420070400  ...             1420070400\n",
              "score                                                                  14  ...                      2\n",
              "author                                                        YoungModern  ...          Mastersimpson\n",
              "distinguished                                                        None  ...                   None\n",
              "id                                                                cnas8zv  ...                cnas8zz\n",
              "archived                                                            False  ...                  False\n",
              "parent_id                                                       t3_2qyr1a  ...              t3_2qm5bi\n",
              "subreddit                                                        exmormon  ...             freedonuts\n",
              "author_flair_css_class                                               None  ...                   None\n",
              "author_flair_text                                                    None  ...                   None\n",
              "gilded                                                                  0  ...                      0\n",
              "retrieved_on                                                   1425124282  ...             1425124282\n",
              "ups                                                                    14  ...                      2\n",
              "controversiality                                                        0  ...                      0\n",
              "subreddit_id                                                     t5_2r0gj  ...               t5_2y51u\n",
              "edited                                                              False  ...                  False\n",
              "\n",
              "[21 rows x 5 columns]"
            ]
          },
          "metadata": {
            "tags": []
          },
          "execution_count": 8
        }
      ]
    },
    {
      "cell_type": "code",
      "metadata": {
        "colab": {
          "base_uri": "https://localhost:8080/"
        },
        "id": "0pI2zE_HRNvW",
        "outputId": "0480b11a-fbab-47a2-a8b5-fa986f1b0a00"
      },
      "source": [
        "import re\r\n",
        "import string\r\n",
        "\r\n",
        "import pandas as pd\r\n",
        "import feather\r\n",
        "import numpy as np\r\n",
        "import matplotlib.pyplot as plt\r\n",
        "from scipy.spatial.distance import cosine, euclidean\r\n",
        "\r\n",
        "from pathlib import Path\r\n",
        "from collections import Counter\r\n",
        "from multiprocessing import Pool\r\n",
        "from urllib.parse import urlparse\r\n",
        "\r\n",
        "\r\n",
        "import matplotlib.pyplot as plt\r\n",
        "\r\n",
        "from sklearn.model_selection import train_test_split\r\n",
        "from sklearn.preprocessing import LabelBinarizer, MultiLabelBinarizer\r\n",
        "from sklearn.feature_extraction.stop_words import ENGLISH_STOP_WORDS\r\n",
        "\r\n",
        "%matplotlib inline"
      ],
      "execution_count": 9,
      "outputs": [
        {
          "output_type": "stream",
          "text": [
            "/usr/local/lib/python3.6/dist-packages/sklearn/utils/deprecation.py:144: FutureWarning: The sklearn.feature_extraction.stop_words module is  deprecated in version 0.22 and will be removed in version 0.24. The corresponding classes / functions should instead be imported from sklearn.feature_extraction.text. Anything that cannot be imported from sklearn.feature_extraction.text is now part of the private API.\n",
            "  warnings.warn(message, FutureWarning)\n"
          ],
          "name": "stderr"
        }
      ]
    },
    {
      "cell_type": "code",
      "metadata": {
        "colab": {
          "base_uri": "https://localhost:8080/",
          "height": 52
        },
        "id": "J0sE3fiEQyWB",
        "outputId": "6b6923d0-ee63-49bb-98a7-b36e183f4146"
      },
      "source": [
        "df = df[df.body != '[deleted]']\r\n",
        "df = df[df.body != '[removed]']\r\n",
        "df = df[df.body != '']\r\n",
        "print(df.shape)\r\n",
        "f\"{df.memory_usage(deep=True).sum() / 1023.0**3} GB\""
      ],
      "execution_count": 10,
      "outputs": [
        {
          "output_type": "stream",
          "text": [
            "(187222, 21)\n"
          ],
          "name": "stdout"
        },
        {
          "output_type": "execute_result",
          "data": {
            "application/vnd.google.colaboratory.intrinsic+json": {
              "type": "string"
            },
            "text/plain": [
              "'0.16652627378702228 GB'"
            ]
          },
          "metadata": {
            "tags": []
          },
          "execution_count": 10
        }
      ]
    },
    {
      "cell_type": "markdown",
      "metadata": {
        "id": "OMgaEQDMojzh"
      },
      "source": [
        "# **Copy of DF**"
      ]
    },
    {
      "cell_type": "code",
      "metadata": {
        "id": "-8qKuymqOeCW"
      },
      "source": [
        "copy = df.copy()"
      ],
      "execution_count": 11,
      "outputs": []
    },
    {
      "cell_type": "code",
      "metadata": {
        "id": "0em7CMewOnzN"
      },
      "source": [
        "second_copy = df.copy()"
      ],
      "execution_count": 12,
      "outputs": []
    },
    {
      "cell_type": "markdown",
      "metadata": {
        "id": "pASXxFZ1o0_k"
      },
      "source": [
        "# **Data Preprocessing**"
      ]
    },
    {
      "cell_type": "code",
      "metadata": {
        "id": "h62M6fRVb3G3"
      },
      "source": [
        "df.distinguished.replace(to_replace=[None], value='user', inplace=True)\r\n",
        "df.distinguished.replace(to_replace=np.NaN, value='user', inplace=True)"
      ],
      "execution_count": 13,
      "outputs": []
    },
    {
      "cell_type": "markdown",
      "metadata": {
        "id": "E6VHJQ5IPKVL"
      },
      "source": [
        "# **Feature Engineering**"
      ]
    },
    {
      "cell_type": "code",
      "metadata": {
        "colab": {
          "base_uri": "https://localhost:8080/",
          "height": 993
        },
        "collapsed": true,
        "id": "BGVIw5KQPyNz",
        "outputId": "abfa828d-e920-4068-e0c4-4f1428df859d"
      },
      "source": [
        "df.dropna()"
      ],
      "execution_count": 14,
      "outputs": [
        {
          "output_type": "execute_result",
          "data": {
            "text/html": [
              "<div>\n",
              "<style scoped>\n",
              "    .dataframe tbody tr th:only-of-type {\n",
              "        vertical-align: middle;\n",
              "    }\n",
              "\n",
              "    .dataframe tbody tr th {\n",
              "        vertical-align: top;\n",
              "    }\n",
              "\n",
              "    .dataframe thead th {\n",
              "        text-align: right;\n",
              "    }\n",
              "</style>\n",
              "<table border=\"1\" class=\"dataframe\">\n",
              "  <thead>\n",
              "    <tr style=\"text-align: right;\">\n",
              "      <th></th>\n",
              "      <th>score_hidden</th>\n",
              "      <th>name</th>\n",
              "      <th>link_id</th>\n",
              "      <th>body</th>\n",
              "      <th>downs</th>\n",
              "      <th>created_utc</th>\n",
              "      <th>score</th>\n",
              "      <th>author</th>\n",
              "      <th>distinguished</th>\n",
              "      <th>id</th>\n",
              "      <th>archived</th>\n",
              "      <th>parent_id</th>\n",
              "      <th>subreddit</th>\n",
              "      <th>author_flair_css_class</th>\n",
              "      <th>author_flair_text</th>\n",
              "      <th>gilded</th>\n",
              "      <th>retrieved_on</th>\n",
              "      <th>ups</th>\n",
              "      <th>controversiality</th>\n",
              "      <th>subreddit_id</th>\n",
              "      <th>edited</th>\n",
              "    </tr>\n",
              "  </thead>\n",
              "  <tbody>\n",
              "    <tr>\n",
              "      <th>1</th>\n",
              "      <td>False</td>\n",
              "      <td>t1_cnas8zw</td>\n",
              "      <td>t3_2qv6c6</td>\n",
              "      <td>But Mill's career was way better. Bentham is l...</td>\n",
              "      <td>0</td>\n",
              "      <td>1420070400</td>\n",
              "      <td>3</td>\n",
              "      <td>RedCoatsForever</td>\n",
              "      <td>user</td>\n",
              "      <td>cnas8zw</td>\n",
              "      <td>False</td>\n",
              "      <td>t1_cnas2b6</td>\n",
              "      <td>CanadaPolitics</td>\n",
              "      <td>on</td>\n",
              "      <td>Ontario</td>\n",
              "      <td>0</td>\n",
              "      <td>1425124282</td>\n",
              "      <td>3</td>\n",
              "      <td>0</td>\n",
              "      <td>t5_2s4gt</td>\n",
              "      <td>False</td>\n",
              "    </tr>\n",
              "    <tr>\n",
              "      <th>8</th>\n",
              "      <td>False</td>\n",
              "      <td>t1_cnas903</td>\n",
              "      <td>t3_2qyizj</td>\n",
              "      <td>:D.</td>\n",
              "      <td>0</td>\n",
              "      <td>1420070400</td>\n",
              "      <td>1</td>\n",
              "      <td>slicked9778</td>\n",
              "      <td>user</td>\n",
              "      <td>cnas903</td>\n",
              "      <td>False</td>\n",
              "      <td>t1_cnas8bm</td>\n",
              "      <td>BostonBruins</td>\n",
              "      <td>BartkowskiMatt</td>\n",
              "      <td>LA Kings fan</td>\n",
              "      <td>0</td>\n",
              "      <td>1425124282</td>\n",
              "      <td>1</td>\n",
              "      <td>0</td>\n",
              "      <td>t5_2rmt9</td>\n",
              "      <td>False</td>\n",
              "    </tr>\n",
              "    <tr>\n",
              "      <th>10</th>\n",
              "      <td>False</td>\n",
              "      <td>t1_cnas906</td>\n",
              "      <td>t3_2qyl4w</td>\n",
              "      <td>says you my g</td>\n",
              "      <td>0</td>\n",
              "      <td>1420070400</td>\n",
              "      <td>2</td>\n",
              "      <td>thebasedyeezus</td>\n",
              "      <td>user</td>\n",
              "      <td>cnas906</td>\n",
              "      <td>False</td>\n",
              "      <td>t1_cnas7u7</td>\n",
              "      <td>hiphopheads</td>\n",
              "      <td>django</td>\n",
              "      <td></td>\n",
              "      <td>0</td>\n",
              "      <td>1425124282</td>\n",
              "      <td>2</td>\n",
              "      <td>0</td>\n",
              "      <td>t5_2rh4c</td>\n",
              "      <td>False</td>\n",
              "    </tr>\n",
              "    <tr>\n",
              "      <th>13</th>\n",
              "      <td>False</td>\n",
              "      <td>t1_cnas909</td>\n",
              "      <td>t3_2qup35</td>\n",
              "      <td>You mean the village hidden in filler complain...</td>\n",
              "      <td>0</td>\n",
              "      <td>1420070401</td>\n",
              "      <td>2</td>\n",
              "      <td>noitnemid</td>\n",
              "      <td>user</td>\n",
              "      <td>cnas909</td>\n",
              "      <td>False</td>\n",
              "      <td>t1_cnald9n</td>\n",
              "      <td>Naruto</td>\n",
              "      <td>deihand</td>\n",
              "      <td></td>\n",
              "      <td>0</td>\n",
              "      <td>1425124282</td>\n",
              "      <td>2</td>\n",
              "      <td>0</td>\n",
              "      <td>t5_2quts</td>\n",
              "      <td>False</td>\n",
              "    </tr>\n",
              "    <tr>\n",
              "      <th>14</th>\n",
              "      <td>False</td>\n",
              "      <td>t1_cnas90a</td>\n",
              "      <td>t3_2qyp3l</td>\n",
              "      <td>I always forget how to bold on mobile.</td>\n",
              "      <td>0</td>\n",
              "      <td>1420070401</td>\n",
              "      <td>2</td>\n",
              "      <td>highvoltorb</td>\n",
              "      <td>user</td>\n",
              "      <td>cnas90a</td>\n",
              "      <td>False</td>\n",
              "      <td>t1_cnas1fe</td>\n",
              "      <td>hockey</td>\n",
              "      <td>CBJAlt1NHL</td>\n",
              "      <td>CBJAlt1NHL</td>\n",
              "      <td>0</td>\n",
              "      <td>1425124282</td>\n",
              "      <td>2</td>\n",
              "      <td>0</td>\n",
              "      <td>t5_2qiel</td>\n",
              "      <td>False</td>\n",
              "    </tr>\n",
              "    <tr>\n",
              "      <th>...</th>\n",
              "      <td>...</td>\n",
              "      <td>...</td>\n",
              "      <td>...</td>\n",
              "      <td>...</td>\n",
              "      <td>...</td>\n",
              "      <td>...</td>\n",
              "      <td>...</td>\n",
              "      <td>...</td>\n",
              "      <td>...</td>\n",
              "      <td>...</td>\n",
              "      <td>...</td>\n",
              "      <td>...</td>\n",
              "      <td>...</td>\n",
              "      <td>...</td>\n",
              "      <td>...</td>\n",
              "      <td>...</td>\n",
              "      <td>...</td>\n",
              "      <td>...</td>\n",
              "      <td>...</td>\n",
              "      <td>...</td>\n",
              "      <td>...</td>\n",
              "    </tr>\n",
              "    <tr>\n",
              "      <th>199986</th>\n",
              "      <td>False</td>\n",
              "      <td>t1_cnawl5e</td>\n",
              "      <td>t3_2qyjqv</td>\n",
              "      <td>exciting overtime - great block by Polak\\n</td>\n",
              "      <td>0</td>\n",
              "      <td>1420080960</td>\n",
              "      <td>1</td>\n",
              "      <td>MoreHtsThnSadaharuOh</td>\n",
              "      <td>user</td>\n",
              "      <td>cnawl5e</td>\n",
              "      <td>False</td>\n",
              "      <td>t3_2qyjqv</td>\n",
              "      <td>hockey</td>\n",
              "      <td>TOROld3NHL</td>\n",
              "      <td>TOROld3NHL</td>\n",
              "      <td>0</td>\n",
              "      <td>1425122260</td>\n",
              "      <td>1</td>\n",
              "      <td>0</td>\n",
              "      <td>t5_2qiel</td>\n",
              "      <td>False</td>\n",
              "    </tr>\n",
              "    <tr>\n",
              "      <th>199987</th>\n",
              "      <td>False</td>\n",
              "      <td>t1_cnawl5f</td>\n",
              "      <td>t3_2qy3j3</td>\n",
              "      <td>\"If only my balls were made of usb...\"</td>\n",
              "      <td>0</td>\n",
              "      <td>1420080960</td>\n",
              "      <td>2</td>\n",
              "      <td>jwapplephobia</td>\n",
              "      <td>user</td>\n",
              "      <td>cnawl5f</td>\n",
              "      <td>False</td>\n",
              "      <td>t1_cnameke</td>\n",
              "      <td>pcmasterrace</td>\n",
              "      <td>i-desk</td>\n",
              "      <td>i5-4670k / GTX 770 / 8GB RAM / Glorious 900p</td>\n",
              "      <td>0</td>\n",
              "      <td>1425122260</td>\n",
              "      <td>2</td>\n",
              "      <td>0</td>\n",
              "      <td>t5_2sgp1</td>\n",
              "      <td>False</td>\n",
              "    </tr>\n",
              "    <tr>\n",
              "      <th>199990</th>\n",
              "      <td>False</td>\n",
              "      <td>t1_cnawl5i</td>\n",
              "      <td>t3_2qy4ma</td>\n",
              "      <td>Nah, we need you to be 8th seed, please and th...</td>\n",
              "      <td>0</td>\n",
              "      <td>1420080960</td>\n",
              "      <td>2</td>\n",
              "      <td>ImHalfAwake</td>\n",
              "      <td>user</td>\n",
              "      <td>cnawl5i</td>\n",
              "      <td>False</td>\n",
              "      <td>t1_cnalprs</td>\n",
              "      <td>nba</td>\n",
              "      <td>Warriors1</td>\n",
              "      <td>[GSW] Stephen Curry</td>\n",
              "      <td>0</td>\n",
              "      <td>1425122260</td>\n",
              "      <td>2</td>\n",
              "      <td>0</td>\n",
              "      <td>t5_2qo4s</td>\n",
              "      <td>False</td>\n",
              "    </tr>\n",
              "    <tr>\n",
              "      <th>199991</th>\n",
              "      <td>False</td>\n",
              "      <td>t1_cnawl5j</td>\n",
              "      <td>t3_2qz29h</td>\n",
              "      <td>Looks great! With that base you can pretty muc...</td>\n",
              "      <td>0</td>\n",
              "      <td>1420080960</td>\n",
              "      <td>1</td>\n",
              "      <td>graveyardgirl</td>\n",
              "      <td>user</td>\n",
              "      <td>cnawl5j</td>\n",
              "      <td>False</td>\n",
              "      <td>t3_2qz29h</td>\n",
              "      <td>FancyFollicles</td>\n",
              "      <td>lightcoral</td>\n",
              "      <td>Wavy, Brunette, Thick, Long</td>\n",
              "      <td>0</td>\n",
              "      <td>1425122260</td>\n",
              "      <td>1</td>\n",
              "      <td>0</td>\n",
              "      <td>t5_2sa9a</td>\n",
              "      <td>False</td>\n",
              "    </tr>\n",
              "    <tr>\n",
              "      <th>199995</th>\n",
              "      <td>False</td>\n",
              "      <td>t1_cnawl5n</td>\n",
              "      <td>t3_2qons3</td>\n",
              "      <td>*Nik bent a little, but laughed.* \"Relax... ju...</td>\n",
              "      <td>0</td>\n",
              "      <td>1420080960</td>\n",
              "      <td>1</td>\n",
              "      <td>TotalWarfare</td>\n",
              "      <td>user</td>\n",
              "      <td>cnawl5n</td>\n",
              "      <td>False</td>\n",
              "      <td>t1_cnawk9g</td>\n",
              "      <td>rwbyRP</td>\n",
              "      <td></td>\n",
              "      <td>Wilhelm Jung | Nikolas Brunoz</td>\n",
              "      <td>0</td>\n",
              "      <td>1425122260</td>\n",
              "      <td>1</td>\n",
              "      <td>0</td>\n",
              "      <td>t5_32s5j</td>\n",
              "      <td>False</td>\n",
              "    </tr>\n",
              "  </tbody>\n",
              "</table>\n",
              "<p>71731 rows × 21 columns</p>\n",
              "</div>"
            ],
            "text/plain": [
              "        score_hidden        name  ... subreddit_id edited\n",
              "1              False  t1_cnas8zw  ...     t5_2s4gt  False\n",
              "8              False  t1_cnas903  ...     t5_2rmt9  False\n",
              "10             False  t1_cnas906  ...     t5_2rh4c  False\n",
              "13             False  t1_cnas909  ...     t5_2quts  False\n",
              "14             False  t1_cnas90a  ...     t5_2qiel  False\n",
              "...              ...         ...  ...          ...    ...\n",
              "199986         False  t1_cnawl5e  ...     t5_2qiel  False\n",
              "199987         False  t1_cnawl5f  ...     t5_2sgp1  False\n",
              "199990         False  t1_cnawl5i  ...     t5_2qo4s  False\n",
              "199991         False  t1_cnawl5j  ...     t5_2sa9a  False\n",
              "199995         False  t1_cnawl5n  ...     t5_32s5j  False\n",
              "\n",
              "[71731 rows x 21 columns]"
            ]
          },
          "metadata": {
            "tags": []
          },
          "execution_count": 14
        }
      ]
    },
    {
      "cell_type": "code",
      "metadata": {
        "colab": {
          "base_uri": "https://localhost:8080/",
          "height": 35
        },
        "id": "4eHnUz8WQIPt",
        "outputId": "bb273551-8cc9-472e-fd0e-ba601719c987"
      },
      "source": [
        "f\"{df.memory_usage(deep=True).sum() / 1023.0**3} GB\""
      ],
      "execution_count": 15,
      "outputs": [
        {
          "output_type": "execute_result",
          "data": {
            "application/vnd.google.colaboratory.intrinsic+json": {
              "type": "string"
            },
            "text/plain": [
              "'0.1729479871713743 GB'"
            ]
          },
          "metadata": {
            "tags": []
          },
          "execution_count": 15
        }
      ]
    },
    {
      "cell_type": "code",
      "metadata": {
        "id": "oFtzXpR4R98H"
      },
      "source": [
        "df.distinguished.replace(to_replace=[None], value='user', inplace=True)\r\n",
        "df.distinguished.replace(to_replace=np.NaN, value='user', inplace=True)"
      ],
      "execution_count": 16,
      "outputs": []
    },
    {
      "cell_type": "code",
      "metadata": {
        "id": "u3FcK-cDSo81"
      },
      "source": [
        "df['subreddit'] = df.subreddit.astype('category')\r\n",
        "df['subreddit_id'] = df.subreddit_id.astype('category')\r\n",
        "df['distinguished'] = df.distinguished.astype('category')\r\n",
        "df['link_id'] = df.link_id.astype('category')"
      ],
      "execution_count": 17,
      "outputs": []
    },
    {
      "cell_type": "code",
      "metadata": {
        "colab": {
          "base_uri": "https://localhost:8080/"
        },
        "id": "kQlvq95rSswI",
        "outputId": "af0b82aa-522e-4953-fceb-aec988deda02"
      },
      "source": [
        "# The number of hours between when the comment was posted & when it was scraped\r\n",
        "t = (df.retrieved_on - df.created_utc.astype(str).astype(int)) / 60 / 60\r\n",
        "t.min()"
      ],
      "execution_count": 18,
      "outputs": [
        {
          "output_type": "execute_result",
          "data": {
            "text/plain": [
              "1400.361111111111"
            ]
          },
          "metadata": {
            "tags": []
          },
          "execution_count": 18
        }
      ]
    },
    {
      "cell_type": "code",
      "metadata": {
        "colab": {
          "base_uri": "https://localhost:8080/",
          "height": 52
        },
        "id": "0Yy_57dFT-2j",
        "outputId": "c8b4c7cb-9d1f-496c-9193-e2211686f707"
      },
      "source": [
        "# Remove superfluous explanatory variables\r\n",
        "df.drop(['archived', 'retrieved_on', 'id'], axis=1, inplace=True)\r\n",
        "print(df.shape)\r\n",
        "f\"{df.memory_usage(deep=True).sum() / 1023.0**3} GB\""
      ],
      "execution_count": 19,
      "outputs": [
        {
          "output_type": "stream",
          "text": [
            "(187222, 18)\n"
          ],
          "name": "stdout"
        },
        {
          "output_type": "execute_result",
          "data": {
            "application/vnd.google.colaboratory.intrinsic+json": {
              "type": "string"
            },
            "text/plain": [
              "'0.12181047026725363 GB'"
            ]
          },
          "metadata": {
            "tags": []
          },
          "execution_count": 19
        }
      ]
    },
    {
      "cell_type": "code",
      "metadata": {
        "id": "-oneC_BRPFpf"
      },
      "source": [
        "# Replace 'NaN' with 'user'\r\n",
        "df.distinguished.replace(to_replace=np.NaN, value='user', inplace=True)"
      ],
      "execution_count": 20,
      "outputs": []
    },
    {
      "cell_type": "markdown",
      "metadata": {
        "id": "CLnsArJuPPZ6"
      },
      "source": [
        "# **Recency Based Features**"
      ]
    },
    {
      "cell_type": "code",
      "metadata": {
        "id": "QbC0ypg4UQZL"
      },
      "source": [
        "df['time'] = pd.to_datetime(df.created_utc, unit='s')"
      ],
      "execution_count": 21,
      "outputs": []
    },
    {
      "cell_type": "code",
      "metadata": {
        "id": "_XEJSBCNUTH6"
      },
      "source": [
        "# Find the time of the first comment in a thread\r\n",
        "df_first_comment = df[['link_id', 'time']].groupby(by=['link_id']).min()\r\n",
        "\r\n",
        "# Create a dictionary of {link_id -> timestamp} pairs\r\n",
        "df_first_comment_dict = df_first_comment.to_dict('index')\r\n",
        "\r\n",
        "# Funct that takes in {link_id, timestamp} pair & returns the time elapsed since the first comment in that link_id.\r\n",
        "def time_lapse(x):\r\n",
        "    return df_first_comment_dict[x]['time']\r\n",
        "\r\n",
        "# Add a column of the time_elapsed from the first comment in a link_id\r\n",
        "df['time_lapse'] = df.time - df.link_id.apply(time_lapse)\r\n",
        "\r\n",
        "# Convert the type of time_lapse back to seconds\r\n",
        "df.time_lapse = df.time_lapse.apply(lambda x: x.total_seconds())\r\n",
        "\r\n",
        "df['hour_of_comment'] = df.time.apply(lambda x: x.hour)\r\n",
        "df['weekday'] = df.time.dt.weekday"
      ],
      "execution_count": 22,
      "outputs": []
    },
    {
      "cell_type": "code",
      "metadata": {
        "colab": {
          "base_uri": "https://localhost:8080/"
        },
        "id": "PBOfBc9LUV7s",
        "outputId": "1c4b9208-c0c9-4de1-c3b1-e732209e1eeb"
      },
      "source": [
        "# Total comments / unique threads \r\n",
        "len(df.link_id) / len(df.link_id.unique())"
      ],
      "execution_count": 23,
      "outputs": [
        {
          "output_type": "execute_result",
          "data": {
            "text/plain": [
              "4.4302413629910085"
            ]
          },
          "metadata": {
            "tags": []
          },
          "execution_count": 23
        }
      ]
    },
    {
      "cell_type": "code",
      "metadata": {
        "colab": {
          "base_uri": "https://localhost:8080/",
          "height": 265
        },
        "id": "a1TiYryZUYcg",
        "outputId": "5c65485c-7774-40d0-9efb-b7b964f4a8dd"
      },
      "source": [
        "# hours after first comment in thread\r\n",
        "(df.time_lapse / (60*60)).hist(bins=50).set_xlim((0, 45));"
      ],
      "execution_count": 24,
      "outputs": [
        {
          "output_type": "display_data",
          "data": {
            "image/png": "[encoded data removed]",
            "text/plain": [
              "<Figure size 432x288 with 1 Axes>"
            ]
          },
          "metadata": {
            "tags": [],
            "needs_background": "light"
          }
        }
      ]
    },
    {
      "cell_type": "markdown",
      "metadata": {
        "id": "RP2CtjzJPqls"
      },
      "source": [
        "# **Comment Appearance Based Feautures**"
      ]
    },
    {
      "cell_type": "code",
      "metadata": {
        "colab": {
          "base_uri": "https://localhost:8080/"
        },
        "id": "Cy0pJgpVUcQ6",
        "outputId": "21fd862e-e924-45dd-e427-23463e28017c"
      },
      "source": [
        "df['is_flair'] = ~df.author_flair_text.apply(lambda x: x is None)\r\n",
        "df['is_flair_css'] = ~df.author_flair_css_class.apply(lambda x: x is None)\r\n",
        "\r\n",
        "print(sum(df.is_flair) / len(df.is_flair))\r\n",
        "print(sum(df.is_flair_css) / len(df.is_flair_css))\r\n",
        "0.007156374534157479"
      ],
      "execution_count": 25,
      "outputs": [
        {
          "output_type": "stream",
          "text": [
            "0.3968123404300777\n",
            "0.39421115039899157\n"
          ],
          "name": "stdout"
        },
        {
          "output_type": "execute_result",
          "data": {
            "text/plain": [
              "0.007156374534157479"
            ]
          },
          "metadata": {
            "tags": []
          },
          "execution_count": 25
        }
      ]
    },
    {
      "cell_type": "code",
      "metadata": {
        "id": "cA3HHBXsU6GJ"
      },
      "source": [
        "def pd_to_dict(df, index='', column=''):\r\n",
        "    return pd.Series(df[column].values, index=df[index]).to_dict()\r\n",
        "\r\n",
        "comment_to_parent_dict = pd_to_dict(df[['name', 'parent_id']],\r\n",
        "                                    index='name', column='parent_id')\r\n",
        "\r\n",
        "def get_depth(x):\r\n",
        "    counter = 0\r\n",
        "    temp = x\r\n",
        "    while True:\r\n",
        "        if temp[:3] == 't3_':\r\n",
        "            return counter\r\n",
        "        try:\r\n",
        "            temp = comment_to_parent_dict[temp]\r\n",
        "        except KeyError:\r\n",
        "            return counter\r\n",
        "        counter += 1\r\n",
        "        \r\n",
        "df['depth'] = df['name'].apply(get_depth)\r\n",
        "comment_to_score = pd_to_dict(df[['name', 'score']],\r\n",
        "                              index='name', column='score')\r\n",
        "\r\n",
        "def get_parent_score(x):\r\n",
        "    try:\r\n",
        "        return comment_to_score[x]\r\n",
        "    except:\r\n",
        "        return np.nan\r\n",
        "\r\n",
        "df['parent_score'] = df.parent_id.apply(lambda x: get_parent_score(x))\r\n",
        "# imp_val = df.parent_score.median()\r\n",
        "# df.parent_score.fillna(imp_val, inplace=True)\r\n",
        "\r\n",
        "comment_to_time = pd_to_dict(df[['name', 'time']],\r\n",
        "                              index='name', column='time')\r\n",
        "\r\n",
        "def get_time_since_parent(pi):\r\n",
        "    try:\r\n",
        "        return comment_to_time[pi]\r\n",
        "    except:\r\n",
        "        return np.nan\r\n",
        "\r\n",
        "df['time_since_parent'] = df.parent_id.apply(get_time_since_parent)\r\n",
        "df.loc[df.time_since_parent.isna(), 'time_since_parent'] = df.time\r\n",
        "df.time_since_parent = df.time - df.time_since_parent\r\n",
        "df.time_since_parent = df.time_since_parent.apply(lambda x: x.total_seconds())"
      ],
      "execution_count": 26,
      "outputs": []
    },
    {
      "cell_type": "code",
      "metadata": {
        "colab": {
          "base_uri": "https://localhost:8080/"
        },
        "id": "72F4bgh37Mwa",
        "outputId": "b83fc296-1a15-47d4-fbcb-64f1ed031a41"
      },
      "source": [
        "sum(df.parent_score != df.parent_score) / len(df.parent_score)"
      ],
      "execution_count": 27,
      "outputs": [
        {
          "output_type": "execute_result",
          "data": {
            "text/plain": [
              "0.6984008289624083"
            ]
          },
          "metadata": {
            "tags": []
          },
          "execution_count": 27
        }
      ]
    },
    {
      "cell_type": "markdown",
      "metadata": {
        "id": "JyhD0w4zTWAF"
      },
      "source": [
        "# **Comment Tree Based Features**"
      ]
    },
    {
      "cell_type": "code",
      "metadata": {
        "id": "0TYhDyFv7Mwb"
      },
      "source": [
        "def get_comment_tree_root(x):\n",
        "    if comment_to_parent_dict[x][:3] == 't3_':\n",
        "        return x\n",
        "    try:\n",
        "        return get_comment_tree_root(comment_to_parent_dict[x])\n",
        "    except KeyError:\n",
        "        return np.nan\n",
        "    \n",
        "comment_to_time = pd_to_dict(df[['name', 'time']],\n",
        "                              index='name', column='time')\n",
        "\n",
        "def get_time(x):\n",
        "    try:\n",
        "        return comment_to_time[x]\n",
        "    except:\n",
        "        return np.nan\n",
        "    \n",
        "df['comment_tree_root_id'] = df.name.apply(get_comment_tree_root)\n",
        "df['comment_tree_root_score'] = df.comment_tree_root_id.apply(lambda x: get_parent_score(x))\n",
        "df['time_since_comment_tree_root'] = df.time - df.comment_tree_root_id.apply(get_time)\n",
        "df.time_since_comment_tree_root = df.time_since_comment_tree_root.apply(lambda x: x.total_seconds())"
      ],
      "execution_count": 28,
      "outputs": []
    },
    {
      "cell_type": "code",
      "metadata": {
        "colab": {
          "base_uri": "https://localhost:8080/"
        },
        "id": "Be8_u9yB7Mwb",
        "outputId": "38ce0827-4d6a-4a19-8784-fe7e86f3053c"
      },
      "source": [
        "print(sum(df.comment_tree_root_id == df.name) / len(df.depth))"
      ],
      "execution_count": 29,
      "outputs": [
        {
          "output_type": "stream",
          "text": [
            "0.40289068592366284\n"
          ],
          "name": "stdout"
        }
      ]
    },
    {
      "cell_type": "markdown",
      "metadata": {
        "id": "XFQIYxRdTtvl"
      },
      "source": [
        "# **Comment Content Based Features**"
      ]
    },
    {
      "cell_type": "code",
      "metadata": {
        "id": "et9WoGyZ7Mwc"
      },
      "source": [
        "# Extract an array of subreddit links in a post & use as a feature\n",
        "df['linked_sr'] = df.body.apply(lambda x: re.findall(r\"/r/([^\\s/]+)\", x))\n",
        "\n",
        "# Remove the subreddits mentioned from the actual comment\n",
        "df['body'] = df.body.apply(lambda x: re.sub(r\"(/r/[^\\s/]+)\", '', x))"
      ],
      "execution_count": 30,
      "outputs": []
    },
    {
      "cell_type": "code",
      "metadata": {
        "id": "u5as4rQ-7Mwc"
      },
      "source": [
        "# Nasty Regular Extraction to extract a link\n",
        "url_regex = r'http[s]?://(?:[a-zA-Z]|[0-9]|[$-_@.&+]|[!*\\(\\),]|(?:%[0-9a-fA-F][0-9a-fA-F]))+'\n",
        "\n",
        "def get_domains(x):\n",
        "    \"\"\"\n",
        "    Given a comment (String), extract an array of urls' domain names mentioned in the comment\n",
        "    \"\"\"\n",
        "    x = x.replace(' = ', '=')\n",
        "    x = x.replace(' : ', ':')\n",
        "    x = x.replace(' / ', '?')\n",
        "    urls = re.findall(url_regex, x)\n",
        "    try:\n",
        "        domain_names = [urlparse(url).netloc.split('.')[-2] for url in urls]\n",
        "    except:\n",
        "        return []\n",
        "    return domain_names\n",
        "\n",
        "# Create the feature for each observation\n",
        "df['linked_urls'] = df.body.apply(lambda x: get_domains(x))"
      ],
      "execution_count": 31,
      "outputs": []
    },
    {
      "cell_type": "code",
      "metadata": {
        "id": "Nrip5TS47Mwd"
      },
      "source": [
        "def remove_urls(x):\n",
        "    \"\"\"\n",
        "    Given a comment, replace the url component with an empty string. \n",
        "    \"\"\"\n",
        "    x = x.replace(' = ', '=')\n",
        "    x = x.replace(' : ', ':')\n",
        "    x = x.replace(' / ', '?')\n",
        "    return re.sub(url_regex, '', x)\n",
        "\n",
        "# Remove the URL from each comment \n",
        "df['body'] = df.body.apply(lambda x: remove_urls(x))"
      ],
      "execution_count": 32,
      "outputs": []
    },
    {
      "cell_type": "markdown",
      "metadata": {
        "id": "5vRGCCBdT8pb"
      },
      "source": [
        "### **no_of_linked_sr & no_of_linked_urls**"
      ]
    },
    {
      "cell_type": "code",
      "metadata": {
        "id": "JMoHdJvg7Mwd",
        "scrolled": true
      },
      "source": [
        "# Create a how-many-subreddit-links-were-in-this-comment? feature\n",
        "df['no_of_linked_sr'] = df['linked_sr'].apply(lambda x: len(x))\n",
        "\n",
        "# Create a how-many-urls-were-in-this-comment? feature\n",
        "df['no_of_linked_urls'] = df['linked_urls'].apply(lambda x: len(x))"
      ],
      "execution_count": 33,
      "outputs": []
    },
    {
      "cell_type": "code",
      "metadata": {
        "colab": {
          "base_uri": "https://localhost:8080/"
        },
        "id": "qc46tYqw7Mwd",
        "outputId": "68a5e5aa-7f55-4645-b6bd-eed37e369bfb"
      },
      "source": [
        "print(f\"Subreddit-links-per-post  {sum(df.no_of_linked_sr) / len(df.body)}\")\n",
        "print(f\"URL-links-per-post        {sum(df.no_of_linked_urls) / len(df.body)}\")"
      ],
      "execution_count": 34,
      "outputs": [
        {
          "output_type": "stream",
          "text": [
            "Subreddit-links-per-post  0.03968016579248165\n",
            "URL-links-per-post        0.09859418230763478\n"
          ],
          "name": "stdout"
        }
      ]
    },
    {
      "cell_type": "code",
      "metadata": {
        "colab": {
          "base_uri": "https://localhost:8080/"
        },
        "id": "r3czpQcF7Mwe",
        "outputId": "b4dc1d1f-a9c3-4c98-cbd3-620aa23e53a9"
      },
      "source": [
        "all_linked_sr = []\n",
        "for l in df.linked_sr.values:\n",
        "    all_linked_sr += l\n",
        "\n",
        "top_sr_links = Counter(all_linked_sr)\n",
        "top_sr_links.most_common(15)"
      ],
      "execution_count": 35,
      "outputs": [
        {
          "output_type": "execute_result",
          "data": {
            "text/plain": [
              "[('AutoModerator', 991),\n",
              " ('autowikibot', 237),\n",
              " ('havoc_bot', 188),\n",
              " ('AskReddit', 185),\n",
              " ('Jokes', 120),\n",
              " ('trees', 120),\n",
              " ('mildlyinteresting', 107),\n",
              " ('havoc_bot)', 94),\n",
              " ('videos', 90),\n",
              " ('AskScienceFiction', 85),\n",
              " ('WritingPrompts', 84),\n",
              " ('Fitness', 83),\n",
              " ('kpop', 78),\n",
              " ('HFY', 63),\n",
              " ('GlobalOffensiveTrade', 56)]"
            ]
          },
          "metadata": {
            "tags": []
          },
          "execution_count": 35
        }
      ]
    },
    {
      "cell_type": "code",
      "metadata": {
        "colab": {
          "base_uri": "https://localhost:8080/"
        },
        "id": "ZD4tlDzF7Mwe",
        "outputId": "59dcae78-2f92-4d8d-942d-b17af6ed4e97"
      },
      "source": [
        "all_linked_urls = []\n",
        "for l in df.linked_urls.values:\n",
        "    all_linked_urls += l\n",
        "\n",
        "top_url_links = Counter(all_linked_urls)\n",
        "top_url_links.most_common(15)"
      ],
      "execution_count": 36,
      "outputs": [
        {
          "output_type": "execute_result",
          "data": {
            "text/plain": [
              "[('reddit', 3564),\n",
              " ('imgur', 2372),\n",
              " ('wikipedia', 1672),\n",
              " ('youtube', 1420),\n",
              " ('tumblr', 954),\n",
              " ('pcpartpicker', 495),\n",
              " ('google', 297),\n",
              " ('youtu', 285),\n",
              " ('twitter', 227),\n",
              " ('redd', 227),\n",
              " ('github', 218),\n",
              " ('steamcommunity', 185),\n",
              " ('wizards', 183),\n",
              " ('amazon', 160),\n",
              " ('co', 121)]"
            ]
          },
          "metadata": {
            "tags": []
          },
          "execution_count": 36
        }
      ]
    },
    {
      "cell_type": "code",
      "metadata": {
        "id": "YJI7Bjiy7Mwf"
      },
      "source": [
        "# Find the most common URLs\n",
        "allowed_urls = [i[0] for i in top_url_links.most_common(15)]\n",
        "\n",
        "def remove_urls(x):\n",
        "    \"\"\"\n",
        "    Given a list of URLs, keep only those in the top-15. \n",
        "    \"\"\"\n",
        "    y = []\n",
        "    for i in x:\n",
        "        if i in allowed_urls:\n",
        "            y += [i]\n",
        "    return y\n",
        "\n",
        "# Keep only the popular URLs \n",
        "df['linked_urls'] = df['linked_urls'].apply(lambda x: remove_urls(x))"
      ],
      "execution_count": 37,
      "outputs": []
    },
    {
      "cell_type": "code",
      "metadata": {
        "id": "5JJ7Sklx7Mwf"
      },
      "source": [
        "# Implement the above\n",
        "df['subjectivity'] = df['body'].str.count('I ')"
      ],
      "execution_count": 38,
      "outputs": []
    },
    {
      "cell_type": "code",
      "metadata": {
        "id": "_Mlge3rs7Mwf"
      },
      "source": [
        "# Create a column indicating if the comment is edited or not\n",
        "df['is_edited'] = df.edited.apply(lambda x: x > 0)"
      ],
      "execution_count": 39,
      "outputs": []
    },
    {
      "cell_type": "code",
      "metadata": {
        "colab": {
          "base_uri": "https://localhost:8080/",
          "height": 35
        },
        "id": "bAjyKvrj7Mwg",
        "scrolled": true,
        "outputId": "d52b68f8-471d-417b-fa6e-355ac5e68b82"
      },
      "source": [
        "f\"Edited/All = {sum(df.is_edited) / len(df.is_edited)}\""
      ],
      "execution_count": 40,
      "outputs": [
        {
          "output_type": "execute_result",
          "data": {
            "application/vnd.google.colaboratory.intrinsic+json": {
              "type": "string"
            },
            "text/plain": [
              "'Edited/All = 0.02497569730053092'"
            ]
          },
          "metadata": {
            "tags": []
          },
          "execution_count": 40
        }
      ]
    },
    {
      "cell_type": "code",
      "metadata": {
        "id": "4Pu_Onkr7Mwg"
      },
      "source": [
        "# if the comment quotes another comment, indicate that with a boolean\n",
        "df['is_quoted'] = df.body.str.contains('&gt;')"
      ],
      "execution_count": 41,
      "outputs": []
    },
    {
      "cell_type": "code",
      "metadata": {
        "id": "fdtqz1-07Mwh"
      },
      "source": [
        "# Implement the above\n",
        "df['no_quoted'] = df.body.str.count('&gt;')"
      ],
      "execution_count": 42,
      "outputs": []
    },
    {
      "cell_type": "code",
      "metadata": {
        "colab": {
          "base_uri": "https://localhost:8080/"
        },
        "id": "B1VrJ47I7Mwh",
        "outputId": "8da62292-d547-4b86-9f93-c48cf3ad9db0"
      },
      "source": [
        "print(f\"Subreddit-links-per-post  {sum(df.no_of_linked_sr) / len(df.body)}\")\n",
        "print(f\"URL-links-per-post        {sum(df.no_of_linked_urls) / len(df.body)}\")"
      ],
      "execution_count": 43,
      "outputs": [
        {
          "output_type": "stream",
          "text": [
            "Subreddit-links-per-post  0.03968016579248165\n",
            "URL-links-per-post        0.09859418230763478\n"
          ],
          "name": "stdout"
        }
      ]
    },
    {
      "cell_type": "code",
      "metadata": {
        "colab": {
          "base_uri": "https://localhost:8080/",
          "height": 35
        },
        "id": "AcFms4tA7Mwh",
        "scrolled": true,
        "outputId": "7bb673bc-b1bd-416d-a176-aac379289096"
      },
      "source": [
        "f\"Edited/All = {sum(df.is_edited) / len(df.is_edited)}\""
      ],
      "execution_count": 44,
      "outputs": [
        {
          "output_type": "execute_result",
          "data": {
            "application/vnd.google.colaboratory.intrinsic+json": {
              "type": "string"
            },
            "text/plain": [
              "'Edited/All = 0.02497569730053092'"
            ]
          },
          "metadata": {
            "tags": []
          },
          "execution_count": 44
        }
      ]
    },
    {
      "cell_type": "code",
      "metadata": {
        "colab": {
          "base_uri": "https://localhost:8080/"
        },
        "id": "1_uXiCVA7Mwi",
        "outputId": "9aa1994f-842b-492a-c725-9274c10d296e"
      },
      "source": [
        "top_sr_links.most_common(15)"
      ],
      "execution_count": 45,
      "outputs": [
        {
          "output_type": "execute_result",
          "data": {
            "text/plain": [
              "[('AutoModerator', 991),\n",
              " ('autowikibot', 237),\n",
              " ('havoc_bot', 188),\n",
              " ('AskReddit', 185),\n",
              " ('Jokes', 120),\n",
              " ('trees', 120),\n",
              " ('mildlyinteresting', 107),\n",
              " ('havoc_bot)', 94),\n",
              " ('videos', 90),\n",
              " ('AskScienceFiction', 85),\n",
              " ('WritingPrompts', 84),\n",
              " ('Fitness', 83),\n",
              " ('kpop', 78),\n",
              " ('HFY', 63),\n",
              " ('GlobalOffensiveTrade', 56)]"
            ]
          },
          "metadata": {
            "tags": []
          },
          "execution_count": 45
        }
      ]
    },
    {
      "cell_type": "code",
      "metadata": {
        "colab": {
          "base_uri": "https://localhost:8080/"
        },
        "id": "N9xI6ucf7Mwi",
        "outputId": "997300c4-a93a-40d6-83e3-0cc232d575cd"
      },
      "source": [
        "top_url_links.most_common(15)"
      ],
      "execution_count": 46,
      "outputs": [
        {
          "output_type": "execute_result",
          "data": {
            "text/plain": [
              "[('reddit', 3564),\n",
              " ('imgur', 2372),\n",
              " ('wikipedia', 1672),\n",
              " ('youtube', 1420),\n",
              " ('tumblr', 954),\n",
              " ('pcpartpicker', 495),\n",
              " ('google', 297),\n",
              " ('youtu', 285),\n",
              " ('twitter', 227),\n",
              " ('redd', 227),\n",
              " ('github', 218),\n",
              " ('steamcommunity', 185),\n",
              " ('wizards', 183),\n",
              " ('amazon', 160),\n",
              " ('co', 121)]"
            ]
          },
          "metadata": {
            "tags": []
          },
          "execution_count": 46
        }
      ]
    },
    {
      "cell_type": "code",
      "metadata": {
        "colab": {
          "base_uri": "https://localhost:8080/",
          "height": 265
        },
        "id": "xJMXzwF67Mwi",
        "outputId": "4713740a-e36d-4ea9-8e8f-0f107f036531"
      },
      "source": [
        "df.subjectivity.hist(bins=100)\n",
        "plt.show()"
      ],
      "execution_count": 47,
      "outputs": [
        {
          "output_type": "display_data",
          "data": {
            "image/png": "[encoded data removed]",
            "text/plain": [
              "<Figure size 432x288 with 1 Axes>"
            ]
          },
          "metadata": {
            "tags": [],
            "needs_background": "light"
          }
        }
      ]
    },
    {
      "cell_type": "markdown",
      "metadata": {
        "id": "ZTQwQK7oU--q"
      },
      "source": [
        "# **Sentiment Based Features**"
      ]
    },
    {
      "cell_type": "code",
      "metadata": {
        "id": "b5LM0M5J-U-i",
        "colab": {
          "base_uri": "https://localhost:8080/"
        },
        "outputId": "3441feb4-1b42-478c-c0ae-73889e83d186"
      },
      "source": [
        " !pip install vaderSentiment"
      ],
      "execution_count": 48,
      "outputs": [
        {
          "output_type": "stream",
          "text": [
            "Requirement already satisfied: vaderSentiment in /usr/local/lib/python3.6/dist-packages (3.3.2)\n",
            "Requirement already satisfied: requests in /usr/local/lib/python3.6/dist-packages (from vaderSentiment) (2.23.0)\n",
            "Requirement already satisfied: idna<3,>=2.5 in /usr/local/lib/python3.6/dist-packages (from requests->vaderSentiment) (2.10)\n",
            "Requirement already satisfied: urllib3!=1.25.0,!=1.25.1,<1.26,>=1.21.1 in /usr/local/lib/python3.6/dist-packages (from requests->vaderSentiment) (1.24.3)\n",
            "Requirement already satisfied: certifi>=2017.4.17 in /usr/local/lib/python3.6/dist-packages (from requests->vaderSentiment) (2020.12.5)\n",
            "Requirement already satisfied: chardet<4,>=3.0.2 in /usr/local/lib/python3.6/dist-packages (from requests->vaderSentiment) (3.0.4)\n"
          ],
          "name": "stdout"
        }
      ]
    },
    {
      "cell_type": "code",
      "metadata": {
        "id": "iHS7HJu_7Mwj"
      },
      "source": [
        "from vaderSentiment.vaderSentiment import SentimentIntensityAnalyzer\n",
        "\n",
        "# sentiment analyzer\n",
        "analyser = SentimentIntensityAnalyzer() # http://t-redactyl.io/blog/2017/04/using-vader-to-handle-sentiment-analysis-with-social-media-text.html\n",
        "\n",
        "# get sentiment scores \n",
        "def get_sentiment(x):\n",
        "    return analyser.polarity_scores(x)\n",
        "\n",
        "# get sentiment scores from 'body' column of dataframe\n",
        "def wrapper_get_sentiment(df):\n",
        "    df['sentiment'] = df['body'].apply(get_sentiment)\n",
        "    return df\n",
        "\n",
        "# to apply operation in parallel\n",
        "num_partitions = 100\n",
        "num_cores = 4\n",
        "def parallelize_dataframe(df, func):\n",
        "    df_split = np.array_split(df, num_partitions)\n",
        "    pool = Pool(num_cores)\n",
        "    df = pd.concat(pool.map(func, df_split))\n",
        "    pool.close()\n",
        "    pool.join()\n",
        "    return df\n",
        "\n",
        "# add a column for each score to our data\n",
        "sentiment = parallelize_dataframe(df['body'].to_frame(), wrapper_get_sentiment)\n",
        "sentiment.drop(['body'], axis=1, inplace=True)\n",
        "df['senti_neg'] = sentiment['sentiment'].apply(lambda x: x['neg'])\n",
        "df['senti_neu'] = sentiment['sentiment'].apply(lambda x: x['neu'])\n",
        "df['senti_pos'] = sentiment['sentiment'].apply(lambda x: x['pos'])\n",
        "df['senti_comp'] = sentiment['sentiment'].apply(lambda x: x['compound'])\n",
        "del sentiment"
      ],
      "execution_count": 49,
      "outputs": []
    },
    {
      "cell_type": "code",
      "metadata": {
        "id": "bZJshYVb7Mwk",
        "scrolled": true,
        "colab": {
          "base_uri": "https://localhost:8080/"
        },
        "outputId": "36aa0e8e-6d86-492a-ac0d-96aea02cbb0a"
      },
      "source": [
        "print(df.shape)\n"
      ],
      "execution_count": 50,
      "outputs": [
        {
          "output_type": "stream",
          "text": [
            "(187222, 42)\n"
          ],
          "name": "stdout"
        }
      ]
    },
    {
      "cell_type": "markdown",
      "metadata": {
        "id": "17TgneQNdEEC"
      },
      "source": [
        "# **Comment Length Based Features**"
      ]
    },
    {
      "cell_type": "code",
      "metadata": {
        "id": "W_UpwonC7Mwk"
      },
      "source": [
        "# get number of words in comment\n",
        "def get_word_count(df):\n",
        "    df['word_count'] = df['body'].apply(lambda x: len(x.split()))\n",
        "    return df\n",
        "\n",
        "word_counts = parallelize_dataframe(df['body'].to_frame(), get_word_count)\n",
        "df['word_counts'] = word_counts.word_count\n",
        "del word_counts"
      ],
      "execution_count": 51,
      "outputs": []
    },
    {
      "cell_type": "code",
      "metadata": {
        "colab": {
          "base_uri": "https://localhost:8080/"
        },
        "scrolled": true,
        "id": "xxI3GuKdP24X",
        "outputId": "230f856f-577d-4840-bdf8-a83d6df6481c"
      },
      "source": [
        "print(df.shape)"
      ],
      "execution_count": 52,
      "outputs": [
        {
          "output_type": "stream",
          "text": [
            "(187222, 43)\n"
          ],
          "name": "stdout"
        }
      ]
    },
    {
      "cell_type": "markdown",
      "metadata": {
        "id": "jlnBxq2JQcMH"
      },
      "source": [
        "# **Add thread level data**"
      ]
    },
    {
      "cell_type": "code",
      "metadata": {
        "id": "0fy-9xE8QdyC"
      },
      "source": [
        "processed_data = df.copy()"
      ],
      "execution_count": 53,
      "outputs": []
    },
    {
      "cell_type": "code",
      "metadata": {
        "id": "rkpsxZg9QlNL"
      },
      "source": [
        "scraped_data = pd.read_csv('ScrapedDF_final.csv')"
      ],
      "execution_count": 54,
      "outputs": []
    },
    {
      "cell_type": "code",
      "metadata": {
        "colab": {
          "base_uri": "https://localhost:8080/",
          "height": 656
        },
        "id": "F2q9t-h2soe9",
        "outputId": "594adf5d-f6db-49e0-fc6f-ee9c39af1205"
      },
      "source": [
        "scraped_data.head().T"
      ],
      "execution_count": 55,
      "outputs": [
        {
          "output_type": "execute_result",
          "data": {
            "text/html": [
              "<div>\n",
              "<style scoped>\n",
              "    .dataframe tbody tr th:only-of-type {\n",
              "        vertical-align: middle;\n",
              "    }\n",
              "\n",
              "    .dataframe tbody tr th {\n",
              "        vertical-align: top;\n",
              "    }\n",
              "\n",
              "    .dataframe thead th {\n",
              "        text-align: right;\n",
              "    }\n",
              "</style>\n",
              "<table border=\"1\" class=\"dataframe\">\n",
              "  <thead>\n",
              "    <tr style=\"text-align: right;\">\n",
              "      <th></th>\n",
              "      <th>0</th>\n",
              "      <th>1</th>\n",
              "      <th>2</th>\n",
              "      <th>3</th>\n",
              "      <th>4</th>\n",
              "    </tr>\n",
              "  </thead>\n",
              "  <tbody>\n",
              "    <tr>\n",
              "      <th>Unnamed: 0</th>\n",
              "      <td>0</td>\n",
              "      <td>1</td>\n",
              "      <td>2</td>\n",
              "      <td>3</td>\n",
              "      <td>4</td>\n",
              "    </tr>\n",
              "    <tr>\n",
              "      <th>sub_id</th>\n",
              "      <td>t3_2qyr1a</td>\n",
              "      <td>t3_2qxefp</td>\n",
              "      <td>t3_2qm5bi</td>\n",
              "      <td>t3_2qxlvm</td>\n",
              "      <td>t3_2qy7at</td>\n",
              "    </tr>\n",
              "    <tr>\n",
              "      <th>created_utc</th>\n",
              "      <td>1.42007e+09</td>\n",
              "      <td>1.42004e+09</td>\n",
              "      <td>1.41977e+09</td>\n",
              "      <td>NaN</td>\n",
              "      <td>1.42006e+09</td>\n",
              "    </tr>\n",
              "    <tr>\n",
              "      <th>distinguished</th>\n",
              "      <td>NaN</td>\n",
              "      <td>NaN</td>\n",
              "      <td>NaN</td>\n",
              "      <td>NaN</td>\n",
              "      <td>NaN</td>\n",
              "    </tr>\n",
              "    <tr>\n",
              "      <th>edited</th>\n",
              "      <td>False</td>\n",
              "      <td>False</td>\n",
              "      <td>1420315336.0</td>\n",
              "      <td>NaN</td>\n",
              "      <td>False</td>\n",
              "    </tr>\n",
              "    <tr>\n",
              "      <th>locked</th>\n",
              "      <td>False</td>\n",
              "      <td>False</td>\n",
              "      <td>False</td>\n",
              "      <td>NaN</td>\n",
              "      <td>False</td>\n",
              "    </tr>\n",
              "    <tr>\n",
              "      <th>url</th>\n",
              "      <td>https://www.reddit.com/r/exmormon/comments/2qy...</td>\n",
              "      <td>https://imgur.com/3e8DBss</td>\n",
              "      <td>https://www.reddit.com/r/freedonuts/comments/2...</td>\n",
              "      <td>NaN</td>\n",
              "      <td>http://i.imgur.com/iFyrpSE.jpg</td>\n",
              "    </tr>\n",
              "    <tr>\n",
              "      <th>num_comments</th>\n",
              "      <td>24.0</td>\n",
              "      <td>64.0</td>\n",
              "      <td>42.0</td>\n",
              "      <td>NaN</td>\n",
              "      <td>2.0</td>\n",
              "    </tr>\n",
              "    <tr>\n",
              "      <th>over_18</th>\n",
              "      <td>False</td>\n",
              "      <td>False</td>\n",
              "      <td>False</td>\n",
              "      <td>NaN</td>\n",
              "      <td>False</td>\n",
              "    </tr>\n",
              "    <tr>\n",
              "      <th>score</th>\n",
              "      <td>35</td>\n",
              "      <td>1398</td>\n",
              "      <td>10</td>\n",
              "      <td>NaN</td>\n",
              "      <td>0</td>\n",
              "    </tr>\n",
              "    <tr>\n",
              "      <th>selftext</th>\n",
              "      <td>[deleted]</td>\n",
              "      <td>NaN</td>\n",
              "      <td>**IF I HAVE HELPED YOU, PLEASE GIVE ME A THUMB...</td>\n",
              "      <td>NaN</td>\n",
              "      <td>NaN</td>\n",
              "    </tr>\n",
              "    <tr>\n",
              "      <th>title</th>\n",
              "      <td>They're not members</td>\n",
              "      <td>It just chills so lovely as it vibrates gently...</td>\n",
              "      <td>[FEEDBACK] josh9291</td>\n",
              "      <td>NaN</td>\n",
              "      <td>Let's cook</td>\n",
              "    </tr>\n",
              "    <tr>\n",
              "      <th>upvote_ratio</th>\n",
              "      <td>0.85</td>\n",
              "      <td>0.88</td>\n",
              "      <td>0.86</td>\n",
              "      <td>NaN</td>\n",
              "      <td>0.5</td>\n",
              "    </tr>\n",
              "    <tr>\n",
              "      <th>downs</th>\n",
              "      <td>0</td>\n",
              "      <td>0</td>\n",
              "      <td>0</td>\n",
              "      <td>NaN</td>\n",
              "      <td>0</td>\n",
              "    </tr>\n",
              "    <tr>\n",
              "      <th>ups</th>\n",
              "      <td>35</td>\n",
              "      <td>1398</td>\n",
              "      <td>10</td>\n",
              "      <td>NaN</td>\n",
              "      <td>0</td>\n",
              "    </tr>\n",
              "    <tr>\n",
              "      <th>is_original_content</th>\n",
              "      <td>False</td>\n",
              "      <td>False</td>\n",
              "      <td>False</td>\n",
              "      <td>NaN</td>\n",
              "      <td>False</td>\n",
              "    </tr>\n",
              "    <tr>\n",
              "      <th>num_crossposts</th>\n",
              "      <td>0</td>\n",
              "      <td>0</td>\n",
              "      <td>0</td>\n",
              "      <td>NaN</td>\n",
              "      <td>0</td>\n",
              "    </tr>\n",
              "    <tr>\n",
              "      <th>spoiler</th>\n",
              "      <td>False</td>\n",
              "      <td>False</td>\n",
              "      <td>False</td>\n",
              "      <td>NaN</td>\n",
              "      <td>False</td>\n",
              "    </tr>\n",
              "    <tr>\n",
              "      <th>view_count</th>\n",
              "      <td>NaN</td>\n",
              "      <td>NaN</td>\n",
              "      <td>NaN</td>\n",
              "      <td>NaN</td>\n",
              "      <td>NaN</td>\n",
              "    </tr>\n",
              "    <tr>\n",
              "      <th>Unnamed: 0.1</th>\n",
              "      <td>0.0</td>\n",
              "      <td>1.0</td>\n",
              "      <td>2.0</td>\n",
              "      <td>3.0</td>\n",
              "      <td>4.0</td>\n",
              "    </tr>\n",
              "  </tbody>\n",
              "</table>\n",
              "</div>"
            ],
            "text/plain": [
              "                                                                     0  ...                               4\n",
              "Unnamed: 0                                                           0  ...                               4\n",
              "sub_id                                                       t3_2qyr1a  ...                       t3_2qy7at\n",
              "created_utc                                                1.42007e+09  ...                     1.42006e+09\n",
              "distinguished                                                      NaN  ...                             NaN\n",
              "edited                                                           False  ...                           False\n",
              "locked                                                           False  ...                           False\n",
              "url                  https://www.reddit.com/r/exmormon/comments/2qy...  ...  http://i.imgur.com/iFyrpSE.jpg\n",
              "num_comments                                                      24.0  ...                             2.0\n",
              "over_18                                                          False  ...                           False\n",
              "score                                                               35  ...                               0\n",
              "selftext                                                     [deleted]  ...                             NaN\n",
              "title                                              They're not members  ...                      Let's cook\n",
              "upvote_ratio                                                      0.85  ...                             0.5\n",
              "downs                                                                0  ...                               0\n",
              "ups                                                                 35  ...                               0\n",
              "is_original_content                                              False  ...                           False\n",
              "num_crossposts                                                       0  ...                               0\n",
              "spoiler                                                          False  ...                           False\n",
              "view_count                                                         NaN  ...                             NaN\n",
              "Unnamed: 0.1                                                       0.0  ...                             4.0\n",
              "\n",
              "[20 rows x 5 columns]"
            ]
          },
          "metadata": {
            "tags": []
          },
          "execution_count": 55
        }
      ]
    },
    {
      "cell_type": "code",
      "metadata": {
        "id": "DaBJkkMUtOz9"
      },
      "source": [
        "del scraped_data['Unnamed: 0']\r\n",
        "del scraped_data['Unnamed: 0.1']"
      ],
      "execution_count": 56,
      "outputs": []
    },
    {
      "cell_type": "code",
      "metadata": {
        "id": "Bl1JYVthtinG",
        "colab": {
          "base_uri": "https://localhost:8080/"
        },
        "outputId": "312b818e-a896-4df8-d02b-fd5e661d3981"
      },
      "source": [
        "scraped_data.shape"
      ],
      "execution_count": 57,
      "outputs": [
        {
          "output_type": "execute_result",
          "data": {
            "text/plain": [
              "(29257, 18)"
            ]
          },
          "metadata": {
            "tags": []
          },
          "execution_count": 57
        }
      ]
    },
    {
      "cell_type": "code",
      "metadata": {
        "id": "Z9Py4p7wuCXP"
      },
      "source": [
        "scraped_data['url'] = scraped_data.url.astype('category')\n",
        "scraped_data['selftext'] = scraped_data.selftext.astype('category')\n",
        "scraped_data['title'] = scraped_data.title.astype('category')"
      ],
      "execution_count": 58,
      "outputs": []
    },
    {
      "cell_type": "code",
      "metadata": {
        "id": "lpRt06EQuCXQ"
      },
      "source": [
        "scraped_data['link_created_time'] = pd.to_datetime(scraped_data.created_utc, unit='s')"
      ],
      "execution_count": 59,
      "outputs": []
    },
    {
      "cell_type": "code",
      "metadata": {
        "id": "Ta9zf8vpuCXQ"
      },
      "source": [
        "scraped_data.drop(['locked', 'downs', 'is_original_content',\n",
        "          'view_count', 'distinguished', 'edited',\n",
        "          'num_crossposts', 'spoiler', 'created_utc'], axis=1, inplace=True)"
      ],
      "execution_count": 60,
      "outputs": []
    },
    {
      "cell_type": "code",
      "metadata": {
        "id": "MDMQOWrJuCXQ"
      },
      "source": [
        "scraped_data.rename(columns={'sub_id':'link_id', \n",
        "                    'ups': 'link_ups',\n",
        "                    'score': 'link_score'}, inplace=True)"
      ],
      "execution_count": 61,
      "outputs": []
    },
    {
      "cell_type": "code",
      "metadata": {
        "colab": {
          "base_uri": "https://localhost:8080/",
          "height": 380
        },
        "id": "kwPlUxfJuCXR",
        "outputId": "e60b2914-1891-4f3b-e601-86be13aae29f"
      },
      "source": [
        "scraped_data.tail().T"
      ],
      "execution_count": 62,
      "outputs": [
        {
          "output_type": "execute_result",
          "data": {
            "text/html": [
              "<div>\n",
              "<style scoped>\n",
              "    .dataframe tbody tr th:only-of-type {\n",
              "        vertical-align: middle;\n",
              "    }\n",
              "\n",
              "    .dataframe tbody tr th {\n",
              "        vertical-align: top;\n",
              "    }\n",
              "\n",
              "    .dataframe thead th {\n",
              "        text-align: right;\n",
              "    }\n",
              "</style>\n",
              "<table border=\"1\" class=\"dataframe\">\n",
              "  <thead>\n",
              "    <tr style=\"text-align: right;\">\n",
              "      <th></th>\n",
              "      <th>29252</th>\n",
              "      <th>29253</th>\n",
              "      <th>29254</th>\n",
              "      <th>29255</th>\n",
              "      <th>29256</th>\n",
              "    </tr>\n",
              "  </thead>\n",
              "  <tbody>\n",
              "    <tr>\n",
              "      <th>link_id</th>\n",
              "      <td>t3_2q7z0z</td>\n",
              "      <td>t3_2qy3ii</td>\n",
              "      <td>t3_2qz27d</td>\n",
              "      <td>t3_2qy433</td>\n",
              "      <td>t3_2qz29h</td>\n",
              "    </tr>\n",
              "    <tr>\n",
              "      <th>url</th>\n",
              "      <td>http://youtu.be/rRaNLeqBp2Q</td>\n",
              "      <td>https://www.reddit.com/r/personalfinance/comme...</td>\n",
              "      <td>http://www.bilder.beofnf.de/gifs/uhmm.gif</td>\n",
              "      <td>https://www.reddit.com/r/Frozen/comments/2qy43...</td>\n",
              "      <td>https://www.reddit.com/r/FancyFollicles/commen...</td>\n",
              "    </tr>\n",
              "    <tr>\n",
              "      <th>num_comments</th>\n",
              "      <td>19.0</td>\n",
              "      <td>15.0</td>\n",
              "      <td>8.0</td>\n",
              "      <td>1.0</td>\n",
              "      <td>6.0</td>\n",
              "    </tr>\n",
              "    <tr>\n",
              "      <th>over_18</th>\n",
              "      <td>False</td>\n",
              "      <td>False</td>\n",
              "      <td>False</td>\n",
              "      <td>False</td>\n",
              "      <td>False</td>\n",
              "    </tr>\n",
              "    <tr>\n",
              "      <th>link_score</th>\n",
              "      <td>100</td>\n",
              "      <td>12</td>\n",
              "      <td>2</td>\n",
              "      <td>6</td>\n",
              "      <td>1</td>\n",
              "    </tr>\n",
              "    <tr>\n",
              "      <th>selftext</th>\n",
              "      <td>NaN</td>\n",
              "      <td>Hi PF! Long time lurker and first time poster!...</td>\n",
              "      <td>[deleted]</td>\n",
              "      <td>NaN</td>\n",
              "      <td>I've been through a few different colors, but ...</td>\n",
              "    </tr>\n",
              "    <tr>\n",
              "      <th>title</th>\n",
              "      <td>Good Samaritan shields woman and baby from Vio...</td>\n",
              "      <td>Advice: Credit score length of time vs. high u...</td>\n",
              "      <td>I've been hooking up with my best friend who c...</td>\n",
              "      <td>gray scale anna by Daleksyouruncle on DeviantArt</td>\n",
              "      <td>White hair for probably the fifth time. sugges...</td>\n",
              "    </tr>\n",
              "    <tr>\n",
              "      <th>upvote_ratio</th>\n",
              "      <td>0.84</td>\n",
              "      <td>0.73</td>\n",
              "      <td>0.57</td>\n",
              "      <td>1</td>\n",
              "      <td>0.67</td>\n",
              "    </tr>\n",
              "    <tr>\n",
              "      <th>link_ups</th>\n",
              "      <td>100</td>\n",
              "      <td>12</td>\n",
              "      <td>2</td>\n",
              "      <td>6</td>\n",
              "      <td>1</td>\n",
              "    </tr>\n",
              "    <tr>\n",
              "      <th>link_created_time</th>\n",
              "      <td>2014-12-23 22:54:51</td>\n",
              "      <td>2014-12-31 19:56:17</td>\n",
              "      <td>2015-01-01 01:52:51</td>\n",
              "      <td>2014-12-31 20:01:19</td>\n",
              "      <td>2015-01-01 01:53:37</td>\n",
              "    </tr>\n",
              "  </tbody>\n",
              "</table>\n",
              "</div>"
            ],
            "text/plain": [
              "                                                               29252  ...                                              29256\n",
              "link_id                                                    t3_2q7z0z  ...                                          t3_2qz29h\n",
              "url                                      http://youtu.be/rRaNLeqBp2Q  ...  https://www.reddit.com/r/FancyFollicles/commen...\n",
              "num_comments                                                    19.0  ...                                                6.0\n",
              "over_18                                                        False  ...                                              False\n",
              "link_score                                                       100  ...                                                  1\n",
              "selftext                                                         NaN  ...  I've been through a few different colors, but ...\n",
              "title              Good Samaritan shields woman and baby from Vio...  ...  White hair for probably the fifth time. sugges...\n",
              "upvote_ratio                                                    0.84  ...                                               0.67\n",
              "link_ups                                                         100  ...                                                  1\n",
              "link_created_time                                2014-12-23 22:54:51  ...                                2015-01-01 01:53:37\n",
              "\n",
              "[10 rows x 5 columns]"
            ]
          },
          "metadata": {
            "tags": []
          },
          "execution_count": 62
        }
      ]
    },
    {
      "cell_type": "code",
      "metadata": {
        "colab": {
          "base_uri": "https://localhost:8080/",
          "height": 35
        },
        "id": "lE0D-OwbuCXR",
        "outputId": "d6974d18-bf9e-42aa-a119-d4a47b31b74e"
      },
      "source": [
        "f\"{scraped_data.memory_usage(deep=True).sum() / 1023.0**3} GB\""
      ],
      "execution_count": 63,
      "outputs": [
        {
          "output_type": "execute_result",
          "data": {
            "application/vnd.google.colaboratory.intrinsic+json": {
              "type": "string"
            },
            "text/plain": [
              "'0.0246038814636963 GB'"
            ]
          },
          "metadata": {
            "tags": []
          },
          "execution_count": 63
        }
      ]
    },
    {
      "cell_type": "code",
      "metadata": {
        "id": "vpG9ZvW3uCXS"
      },
      "source": [
        "df = processed_data.merge(scraped_data, on='link_id', how='left')"
      ],
      "execution_count": 64,
      "outputs": []
    },
    {
      "cell_type": "code",
      "metadata": {
        "id": "UNry9QOnRje5"
      },
      "source": [
        "df['time_since_link'] = (df.time - df.link_created_time)\r\n",
        "df.time_since_link = [x.total_seconds() for x in df.time_since_link]"
      ],
      "execution_count": 65,
      "outputs": []
    },
    {
      "cell_type": "code",
      "metadata": {
        "colab": {
          "base_uri": "https://localhost:8080/"
        },
        "id": "ybs0sbDYuCXT",
        "outputId": "d3a62803-523a-4c39-cc43-1329ed9c9aa8"
      },
      "source": [
        "df.shape"
      ],
      "execution_count": 66,
      "outputs": [
        {
          "output_type": "execute_result",
          "data": {
            "text/plain": [
              "(187222, 53)"
            ]
          },
          "metadata": {
            "tags": []
          },
          "execution_count": 66
        }
      ]
    },
    {
      "cell_type": "code",
      "metadata": {
        "colab": {
          "base_uri": "https://localhost:8080/",
          "height": 1000
        },
        "id": "CkphUDfwuCXU",
        "outputId": "b2c1d860-97a7-431d-b6f8-2cd9772c33ee"
      },
      "source": [
        "df.head().T"
      ],
      "execution_count": 67,
      "outputs": [
        {
          "output_type": "execute_result",
          "data": {
            "text/html": [
              "<div>\n",
              "<style scoped>\n",
              "    .dataframe tbody tr th:only-of-type {\n",
              "        vertical-align: middle;\n",
              "    }\n",
              "\n",
              "    .dataframe tbody tr th {\n",
              "        vertical-align: top;\n",
              "    }\n",
              "\n",
              "    .dataframe thead th {\n",
              "        text-align: right;\n",
              "    }\n",
              "</style>\n",
              "<table border=\"1\" class=\"dataframe\">\n",
              "  <thead>\n",
              "    <tr style=\"text-align: right;\">\n",
              "      <th></th>\n",
              "      <th>0</th>\n",
              "      <th>1</th>\n",
              "      <th>2</th>\n",
              "      <th>3</th>\n",
              "      <th>4</th>\n",
              "    </tr>\n",
              "  </thead>\n",
              "  <tbody>\n",
              "    <tr>\n",
              "      <th>score_hidden</th>\n",
              "      <td>False</td>\n",
              "      <td>False</td>\n",
              "      <td>False</td>\n",
              "      <td>False</td>\n",
              "      <td>False</td>\n",
              "    </tr>\n",
              "    <tr>\n",
              "      <th>name</th>\n",
              "      <td>t1_cnas8zv</td>\n",
              "      <td>t1_cnas8zw</td>\n",
              "      <td>t1_cnas8zx</td>\n",
              "      <td>t1_cnas8zz</td>\n",
              "      <td>t1_cnas900</td>\n",
              "    </tr>\n",
              "    <tr>\n",
              "      <th>link_id</th>\n",
              "      <td>t3_2qyr1a</td>\n",
              "      <td>t3_2qv6c6</td>\n",
              "      <td>t3_2qxefp</td>\n",
              "      <td>t3_2qm5bi</td>\n",
              "      <td>t3_2qxe1p</td>\n",
              "    </tr>\n",
              "    <tr>\n",
              "      <th>body</th>\n",
              "      <td>Most of us have some family members like this....</td>\n",
              "      <td>But Mill's career was way better. Bentham is l...</td>\n",
              "      <td>Mine uses a strait razor, and as much as i lov...</td>\n",
              "      <td>Very fast, thank you!</td>\n",
              "      <td>The guy is a professional, and very good at wh...</td>\n",
              "    </tr>\n",
              "    <tr>\n",
              "      <th>downs</th>\n",
              "      <td>0</td>\n",
              "      <td>0</td>\n",
              "      <td>0</td>\n",
              "      <td>0</td>\n",
              "      <td>0</td>\n",
              "    </tr>\n",
              "    <tr>\n",
              "      <th>created_utc</th>\n",
              "      <td>1420070400</td>\n",
              "      <td>1420070400</td>\n",
              "      <td>1420070400</td>\n",
              "      <td>1420070400</td>\n",
              "      <td>1420070400</td>\n",
              "    </tr>\n",
              "    <tr>\n",
              "      <th>score</th>\n",
              "      <td>14</td>\n",
              "      <td>3</td>\n",
              "      <td>1</td>\n",
              "      <td>2</td>\n",
              "      <td>6</td>\n",
              "    </tr>\n",
              "    <tr>\n",
              "      <th>author</th>\n",
              "      <td>YoungModern</td>\n",
              "      <td>RedCoatsForever</td>\n",
              "      <td>vhisic</td>\n",
              "      <td>Mastersimpson</td>\n",
              "      <td>BigGupp1</td>\n",
              "    </tr>\n",
              "    <tr>\n",
              "      <th>distinguished</th>\n",
              "      <td>user</td>\n",
              "      <td>user</td>\n",
              "      <td>user</td>\n",
              "      <td>user</td>\n",
              "      <td>user</td>\n",
              "    </tr>\n",
              "    <tr>\n",
              "      <th>parent_id</th>\n",
              "      <td>t3_2qyr1a</td>\n",
              "      <td>t1_cnas2b6</td>\n",
              "      <td>t3_2qxefp</td>\n",
              "      <td>t3_2qm5bi</td>\n",
              "      <td>t1_cnaqg2t</td>\n",
              "    </tr>\n",
              "    <tr>\n",
              "      <th>subreddit</th>\n",
              "      <td>exmormon</td>\n",
              "      <td>CanadaPolitics</td>\n",
              "      <td>AdviceAnimals</td>\n",
              "      <td>freedonuts</td>\n",
              "      <td>WTF</td>\n",
              "    </tr>\n",
              "    <tr>\n",
              "      <th>author_flair_css_class</th>\n",
              "      <td>None</td>\n",
              "      <td>on</td>\n",
              "      <td>None</td>\n",
              "      <td>None</td>\n",
              "      <td>None</td>\n",
              "    </tr>\n",
              "    <tr>\n",
              "      <th>author_flair_text</th>\n",
              "      <td>None</td>\n",
              "      <td>Ontario</td>\n",
              "      <td>None</td>\n",
              "      <td>None</td>\n",
              "      <td>None</td>\n",
              "    </tr>\n",
              "    <tr>\n",
              "      <th>gilded</th>\n",
              "      <td>0</td>\n",
              "      <td>0</td>\n",
              "      <td>0</td>\n",
              "      <td>0</td>\n",
              "      <td>0</td>\n",
              "    </tr>\n",
              "    <tr>\n",
              "      <th>ups</th>\n",
              "      <td>14</td>\n",
              "      <td>3</td>\n",
              "      <td>1</td>\n",
              "      <td>2</td>\n",
              "      <td>6</td>\n",
              "    </tr>\n",
              "    <tr>\n",
              "      <th>controversiality</th>\n",
              "      <td>0</td>\n",
              "      <td>0</td>\n",
              "      <td>0</td>\n",
              "      <td>0</td>\n",
              "      <td>0</td>\n",
              "    </tr>\n",
              "    <tr>\n",
              "      <th>subreddit_id</th>\n",
              "      <td>t5_2r0gj</td>\n",
              "      <td>t5_2s4gt</td>\n",
              "      <td>t5_2s7tt</td>\n",
              "      <td>t5_2y51u</td>\n",
              "      <td>t5_2qh61</td>\n",
              "    </tr>\n",
              "    <tr>\n",
              "      <th>edited</th>\n",
              "      <td>False</td>\n",
              "      <td>False</td>\n",
              "      <td>False</td>\n",
              "      <td>False</td>\n",
              "      <td>False</td>\n",
              "    </tr>\n",
              "    <tr>\n",
              "      <th>time</th>\n",
              "      <td>2015-01-01 00:00:00</td>\n",
              "      <td>2015-01-01 00:00:00</td>\n",
              "      <td>2015-01-01 00:00:00</td>\n",
              "      <td>2015-01-01 00:00:00</td>\n",
              "      <td>2015-01-01 00:00:00</td>\n",
              "    </tr>\n",
              "    <tr>\n",
              "      <th>time_lapse</th>\n",
              "      <td>0</td>\n",
              "      <td>0</td>\n",
              "      <td>0</td>\n",
              "      <td>0</td>\n",
              "      <td>0</td>\n",
              "    </tr>\n",
              "    <tr>\n",
              "      <th>hour_of_comment</th>\n",
              "      <td>0</td>\n",
              "      <td>0</td>\n",
              "      <td>0</td>\n",
              "      <td>0</td>\n",
              "      <td>0</td>\n",
              "    </tr>\n",
              "    <tr>\n",
              "      <th>weekday</th>\n",
              "      <td>3</td>\n",
              "      <td>3</td>\n",
              "      <td>3</td>\n",
              "      <td>3</td>\n",
              "      <td>3</td>\n",
              "    </tr>\n",
              "    <tr>\n",
              "      <th>is_flair</th>\n",
              "      <td>False</td>\n",
              "      <td>True</td>\n",
              "      <td>False</td>\n",
              "      <td>False</td>\n",
              "      <td>False</td>\n",
              "    </tr>\n",
              "    <tr>\n",
              "      <th>is_flair_css</th>\n",
              "      <td>False</td>\n",
              "      <td>True</td>\n",
              "      <td>False</td>\n",
              "      <td>False</td>\n",
              "      <td>False</td>\n",
              "    </tr>\n",
              "    <tr>\n",
              "      <th>depth</th>\n",
              "      <td>1</td>\n",
              "      <td>1</td>\n",
              "      <td>1</td>\n",
              "      <td>1</td>\n",
              "      <td>1</td>\n",
              "    </tr>\n",
              "    <tr>\n",
              "      <th>parent_score</th>\n",
              "      <td>NaN</td>\n",
              "      <td>NaN</td>\n",
              "      <td>NaN</td>\n",
              "      <td>NaN</td>\n",
              "      <td>NaN</td>\n",
              "    </tr>\n",
              "    <tr>\n",
              "      <th>time_since_parent</th>\n",
              "      <td>0</td>\n",
              "      <td>0</td>\n",
              "      <td>0</td>\n",
              "      <td>0</td>\n",
              "      <td>0</td>\n",
              "    </tr>\n",
              "    <tr>\n",
              "      <th>comment_tree_root_id</th>\n",
              "      <td>t1_cnas8zv</td>\n",
              "      <td>NaN</td>\n",
              "      <td>t1_cnas8zx</td>\n",
              "      <td>t1_cnas8zz</td>\n",
              "      <td>NaN</td>\n",
              "    </tr>\n",
              "    <tr>\n",
              "      <th>comment_tree_root_score</th>\n",
              "      <td>14</td>\n",
              "      <td>NaN</td>\n",
              "      <td>1</td>\n",
              "      <td>2</td>\n",
              "      <td>NaN</td>\n",
              "    </tr>\n",
              "    <tr>\n",
              "      <th>time_since_comment_tree_root</th>\n",
              "      <td>0</td>\n",
              "      <td>NaN</td>\n",
              "      <td>0</td>\n",
              "      <td>0</td>\n",
              "      <td>NaN</td>\n",
              "    </tr>\n",
              "    <tr>\n",
              "      <th>linked_sr</th>\n",
              "      <td>[]</td>\n",
              "      <td>[]</td>\n",
              "      <td>[]</td>\n",
              "      <td>[]</td>\n",
              "      <td>[]</td>\n",
              "    </tr>\n",
              "    <tr>\n",
              "      <th>linked_urls</th>\n",
              "      <td>[]</td>\n",
              "      <td>[]</td>\n",
              "      <td>[]</td>\n",
              "      <td>[]</td>\n",
              "      <td>[]</td>\n",
              "    </tr>\n",
              "    <tr>\n",
              "      <th>no_of_linked_sr</th>\n",
              "      <td>0</td>\n",
              "      <td>0</td>\n",
              "      <td>0</td>\n",
              "      <td>0</td>\n",
              "      <td>0</td>\n",
              "    </tr>\n",
              "    <tr>\n",
              "      <th>no_of_linked_urls</th>\n",
              "      <td>0</td>\n",
              "      <td>0</td>\n",
              "      <td>0</td>\n",
              "      <td>0</td>\n",
              "      <td>0</td>\n",
              "    </tr>\n",
              "    <tr>\n",
              "      <th>subjectivity</th>\n",
              "      <td>0</td>\n",
              "      <td>0</td>\n",
              "      <td>1</td>\n",
              "      <td>0</td>\n",
              "      <td>1</td>\n",
              "    </tr>\n",
              "    <tr>\n",
              "      <th>is_edited</th>\n",
              "      <td>False</td>\n",
              "      <td>False</td>\n",
              "      <td>False</td>\n",
              "      <td>False</td>\n",
              "      <td>False</td>\n",
              "    </tr>\n",
              "    <tr>\n",
              "      <th>is_quoted</th>\n",
              "      <td>False</td>\n",
              "      <td>False</td>\n",
              "      <td>False</td>\n",
              "      <td>False</td>\n",
              "      <td>False</td>\n",
              "    </tr>\n",
              "    <tr>\n",
              "      <th>no_quoted</th>\n",
              "      <td>0</td>\n",
              "      <td>0</td>\n",
              "      <td>0</td>\n",
              "      <td>0</td>\n",
              "      <td>0</td>\n",
              "    </tr>\n",
              "    <tr>\n",
              "      <th>senti_neg</th>\n",
              "      <td>0</td>\n",
              "      <td>0</td>\n",
              "      <td>0.043</td>\n",
              "      <td>0</td>\n",
              "      <td>0.19</td>\n",
              "    </tr>\n",
              "    <tr>\n",
              "      <th>senti_neu</th>\n",
              "      <td>0.737</td>\n",
              "      <td>0.664</td>\n",
              "      <td>0.744</td>\n",
              "      <td>0.494</td>\n",
              "      <td>0.688</td>\n",
              "    </tr>\n",
              "    <tr>\n",
              "      <th>senti_pos</th>\n",
              "      <td>0.263</td>\n",
              "      <td>0.336</td>\n",
              "      <td>0.213</td>\n",
              "      <td>0.506</td>\n",
              "      <td>0.122</td>\n",
              "    </tr>\n",
              "    <tr>\n",
              "      <th>senti_comp</th>\n",
              "      <td>0.6124</td>\n",
              "      <td>0.7964</td>\n",
              "      <td>0.8481</td>\n",
              "      <td>0.4714</td>\n",
              "      <td>-0.1935</td>\n",
              "    </tr>\n",
              "    <tr>\n",
              "      <th>word_counts</th>\n",
              "      <td>16</td>\n",
              "      <td>16</td>\n",
              "      <td>40</td>\n",
              "      <td>4</td>\n",
              "      <td>21</td>\n",
              "    </tr>\n",
              "    <tr>\n",
              "      <th>url</th>\n",
              "      <td>https://www.reddit.com/r/exmormon/comments/2qy...</td>\n",
              "      <td>NaN</td>\n",
              "      <td>https://imgur.com/3e8DBss</td>\n",
              "      <td>https://www.reddit.com/r/freedonuts/comments/2...</td>\n",
              "      <td>http://i.imgur.com/gwZGDQH.gifv</td>\n",
              "    </tr>\n",
              "    <tr>\n",
              "      <th>num_comments</th>\n",
              "      <td>24.0</td>\n",
              "      <td>NaN</td>\n",
              "      <td>64.0</td>\n",
              "      <td>42.0</td>\n",
              "      <td>1301.0</td>\n",
              "    </tr>\n",
              "    <tr>\n",
              "      <th>over_18</th>\n",
              "      <td>False</td>\n",
              "      <td>NaN</td>\n",
              "      <td>False</td>\n",
              "      <td>False</td>\n",
              "      <td>False</td>\n",
              "    </tr>\n",
              "    <tr>\n",
              "      <th>link_score</th>\n",
              "      <td>35</td>\n",
              "      <td>NaN</td>\n",
              "      <td>1398</td>\n",
              "      <td>10</td>\n",
              "      <td>9539</td>\n",
              "    </tr>\n",
              "    <tr>\n",
              "      <th>selftext</th>\n",
              "      <td>[deleted]</td>\n",
              "      <td>NaN</td>\n",
              "      <td>NaN</td>\n",
              "      <td>**IF I HAVE HELPED YOU, PLEASE GIVE ME A THUMB...</td>\n",
              "      <td>NaN</td>\n",
              "    </tr>\n",
              "    <tr>\n",
              "      <th>title</th>\n",
              "      <td>They're not members</td>\n",
              "      <td>NaN</td>\n",
              "      <td>It just chills so lovely as it vibrates gently...</td>\n",
              "      <td>[FEEDBACK] josh9291</td>\n",
              "      <td>A crab approached an ROV sawing a 3mm slot int...</td>\n",
              "    </tr>\n",
              "    <tr>\n",
              "      <th>upvote_ratio</th>\n",
              "      <td>0.85</td>\n",
              "      <td>NaN</td>\n",
              "      <td>0.88</td>\n",
              "      <td>0.86</td>\n",
              "      <td>0.86</td>\n",
              "    </tr>\n",
              "    <tr>\n",
              "      <th>link_ups</th>\n",
              "      <td>35</td>\n",
              "      <td>NaN</td>\n",
              "      <td>1398</td>\n",
              "      <td>10</td>\n",
              "      <td>9539</td>\n",
              "    </tr>\n",
              "    <tr>\n",
              "      <th>link_created_time</th>\n",
              "      <td>2014-12-31 23:47:16</td>\n",
              "      <td>NaT</td>\n",
              "      <td>2014-12-31 16:04:48</td>\n",
              "      <td>2014-12-28 13:08:27</td>\n",
              "      <td>2014-12-31 16:01:07</td>\n",
              "    </tr>\n",
              "    <tr>\n",
              "      <th>time_since_link</th>\n",
              "      <td>764</td>\n",
              "      <td>NaN</td>\n",
              "      <td>28512</td>\n",
              "      <td>298293</td>\n",
              "      <td>28733</td>\n",
              "    </tr>\n",
              "  </tbody>\n",
              "</table>\n",
              "</div>"
            ],
            "text/plain": [
              "                                                                              0  ...                                                  4\n",
              "score_hidden                                                              False  ...                                              False\n",
              "name                                                                 t1_cnas8zv  ...                                         t1_cnas900\n",
              "link_id                                                               t3_2qyr1a  ...                                          t3_2qxe1p\n",
              "body                          Most of us have some family members like this....  ...  The guy is a professional, and very good at wh...\n",
              "downs                                                                         0  ...                                                  0\n",
              "created_utc                                                          1420070400  ...                                         1420070400\n",
              "score                                                                        14  ...                                                  6\n",
              "author                                                              YoungModern  ...                                           BigGupp1\n",
              "distinguished                                                              user  ...                                               user\n",
              "parent_id                                                             t3_2qyr1a  ...                                         t1_cnaqg2t\n",
              "subreddit                                                              exmormon  ...                                                WTF\n",
              "author_flair_css_class                                                     None  ...                                               None\n",
              "author_flair_text                                                          None  ...                                               None\n",
              "gilded                                                                        0  ...                                                  0\n",
              "ups                                                                          14  ...                                                  6\n",
              "controversiality                                                              0  ...                                                  0\n",
              "subreddit_id                                                           t5_2r0gj  ...                                           t5_2qh61\n",
              "edited                                                                    False  ...                                              False\n",
              "time                                                        2015-01-01 00:00:00  ...                                2015-01-01 00:00:00\n",
              "time_lapse                                                                    0  ...                                                  0\n",
              "hour_of_comment                                                               0  ...                                                  0\n",
              "weekday                                                                       3  ...                                                  3\n",
              "is_flair                                                                  False  ...                                              False\n",
              "is_flair_css                                                              False  ...                                              False\n",
              "depth                                                                         1  ...                                                  1\n",
              "parent_score                                                                NaN  ...                                                NaN\n",
              "time_since_parent                                                             0  ...                                                  0\n",
              "comment_tree_root_id                                                 t1_cnas8zv  ...                                                NaN\n",
              "comment_tree_root_score                                                      14  ...                                                NaN\n",
              "time_since_comment_tree_root                                                  0  ...                                                NaN\n",
              "linked_sr                                                                    []  ...                                                 []\n",
              "linked_urls                                                                  []  ...                                                 []\n",
              "no_of_linked_sr                                                               0  ...                                                  0\n",
              "no_of_linked_urls                                                             0  ...                                                  0\n",
              "subjectivity                                                                  0  ...                                                  1\n",
              "is_edited                                                                 False  ...                                              False\n",
              "is_quoted                                                                 False  ...                                              False\n",
              "no_quoted                                                                     0  ...                                                  0\n",
              "senti_neg                                                                     0  ...                                               0.19\n",
              "senti_neu                                                                 0.737  ...                                              0.688\n",
              "senti_pos                                                                 0.263  ...                                              0.122\n",
              "senti_comp                                                               0.6124  ...                                            -0.1935\n",
              "word_counts                                                                  16  ...                                                 21\n",
              "url                           https://www.reddit.com/r/exmormon/comments/2qy...  ...                    http://i.imgur.com/gwZGDQH.gifv\n",
              "num_comments                                                               24.0  ...                                             1301.0\n",
              "over_18                                                                   False  ...                                              False\n",
              "link_score                                                                   35  ...                                               9539\n",
              "selftext                                                              [deleted]  ...                                                NaN\n",
              "title                                                       They're not members  ...  A crab approached an ROV sawing a 3mm slot int...\n",
              "upvote_ratio                                                               0.85  ...                                               0.86\n",
              "link_ups                                                                     35  ...                                               9539\n",
              "link_created_time                                           2014-12-31 23:47:16  ...                                2014-12-31 16:01:07\n",
              "time_since_link                                                             764  ...                                              28733\n",
              "\n",
              "[53 rows x 5 columns]"
            ]
          },
          "metadata": {
            "tags": []
          },
          "execution_count": 67
        }
      ]
    },
    {
      "cell_type": "code",
      "metadata": {
        "colab": {
          "base_uri": "https://localhost:8080/",
          "height": 52
        },
        "id": "jcFEri_SSDEt",
        "outputId": "6a412a25-2ea9-4570-ec59-151387bb2d4d"
      },
      "source": [
        "# drops about 2000 rows due to link_id not in scraped_data\r\n",
        "df = df.iloc[np.where(df.title == df.title)]\r\n",
        "print(df.shape)\r\n",
        "f\"{df.memory_usage(deep=True).sum() / 1023.0**3} GB\""
      ],
      "execution_count": 68,
      "outputs": [
        {
          "output_type": "stream",
          "text": [
            "(158712, 53)\n"
          ],
          "name": "stdout"
        },
        {
          "output_type": "execute_result",
          "data": {
            "application/vnd.google.colaboratory.intrinsic+json": {
              "type": "string"
            },
            "text/plain": [
              "'0.192780638507633 GB'"
            ]
          },
          "metadata": {
            "tags": []
          },
          "execution_count": 68
        }
      ]
    },
    {
      "cell_type": "markdown",
      "metadata": {
        "id": "x5B47G1kSJ21"
      },
      "source": [
        "# **Engineer new features**"
      ]
    },
    {
      "cell_type": "code",
      "metadata": {
        "collapsed": true,
        "id": "t7-0yFbPSMW9"
      },
      "source": [
        "df['url'] = df.url.astype('str').apply(lambda x: urlparse(x)[1])\r\n",
        "df['url'] = df.url.astype('category')\r\n",
        "df['is_root'] = df.parent_id.str.startswith('t3_')\r\n",
        "df.loc[df.is_root, 'comment_tree_root_score'] = np.nan # if comment is a root, comment_tree_root_score is the same as score. Can't have this\r\n",
        "df['is_selftext'] = df.selftext.str.len() > 1"
      ],
      "execution_count": 69,
      "outputs": []
    },
    {
      "cell_type": "markdown",
      "metadata": {
        "id": "_FGorohnSy8q"
      },
      "source": [
        "# **Comment2Vec Based Features**"
      ]
    },
    {
      "cell_type": "markdown",
      "metadata": {
        "id": "wNJpTDZHTfWU"
      },
      "source": [
        "# **Thread Activity Based Features**"
      ]
    },
    {
      "cell_type": "code",
      "metadata": {
        "colab": {
          "base_uri": "https://localhost:8080/"
        },
        "id": "KMkMrWqfTjWw",
        "outputId": "42979d30-6457-4551-d234-ac5629e236c4"
      },
      "source": [
        "df.isna().sum()"
      ],
      "execution_count": 70,
      "outputs": [
        {
          "output_type": "execute_result",
          "data": {
            "text/plain": [
              "score_hidden                         0\n",
              "name                                 0\n",
              "link_id                              0\n",
              "body                                 0\n",
              "downs                                0\n",
              "created_utc                          0\n",
              "score                                0\n",
              "author                               0\n",
              "distinguished                        0\n",
              "parent_id                            0\n",
              "subreddit                            0\n",
              "author_flair_css_class           95500\n",
              "author_flair_text                95378\n",
              "gilded                               0\n",
              "ups                                  0\n",
              "controversiality                     0\n",
              "subreddit_id                         0\n",
              "edited                               0\n",
              "time                                 0\n",
              "time_lapse                           0\n",
              "hour_of_comment                      0\n",
              "weekday                              0\n",
              "is_flair                             0\n",
              "is_flair_css                         0\n",
              "depth                                0\n",
              "parent_score                    110134\n",
              "time_since_parent                    0\n",
              "comment_tree_root_id             51685\n",
              "comment_tree_root_score         125933\n",
              "time_since_comment_tree_root     51685\n",
              "linked_sr                            0\n",
              "linked_urls                          0\n",
              "no_of_linked_sr                      0\n",
              "no_of_linked_urls                    0\n",
              "subjectivity                         0\n",
              "is_edited                            0\n",
              "is_quoted                            0\n",
              "no_quoted                            0\n",
              "senti_neg                            0\n",
              "senti_neu                            0\n",
              "senti_pos                            0\n",
              "senti_comp                           0\n",
              "word_counts                          0\n",
              "url                                  0\n",
              "num_comments                         0\n",
              "over_18                              0\n",
              "link_score                           0\n",
              "selftext                         62462\n",
              "title                                0\n",
              "upvote_ratio                         0\n",
              "link_ups                             0\n",
              "link_created_time                    0\n",
              "time_since_link                      0\n",
              "is_root                              0\n",
              "is_selftext                          0\n",
              "dtype: int64"
            ]
          },
          "metadata": {
            "tags": []
          },
          "execution_count": 70
        }
      ]
    },
    {
      "cell_type": "markdown",
      "metadata": {
        "id": "JAaZcy6VDUxI"
      },
      "source": [
        "# Model Fitting"
      ]
    },
    {
      "cell_type": "code",
      "metadata": {
        "id": "gHKnURanDI22"
      },
      "source": [
        "import pandas as pd\r\n",
        "import numpy as np\r\n",
        "import matplotlib.pyplot as plt\r\n",
        "import seaborn as sns\r\n",
        "from sklearn.metrics import mean_squared_error, r2_score, mean_absolute_error\r\n",
        "from sklearn.model_selection import train_test_split\r\n",
        "from sklearn.preprocessing import LabelBinarizer\r\n",
        "from sklearn.dummy import DummyRegressor\r\n",
        "from sklearn.linear_model import LinearRegression\r\n",
        "from sklearn.linear_model import LassoCV\r\n",
        "from sklearn.linear_model import RidgeCV\r\n",
        "from sklearn.linear_model import ElasticNetCV\r\n",
        "from sklearn.neighbors import KNeighborsRegressor\r\n",
        "from sklearn.tree import DecisionTreeRegressor\r\n",
        "from sklearn.ensemble import RandomForestRegressor\r\n",
        "from sklearn.ensemble import GradientBoostingRegressor\r\n",
        "import warnings\r\n",
        "warnings.filterwarnings('ignore')"
      ],
      "execution_count": 71,
      "outputs": []
    },
    {
      "cell_type": "code",
      "metadata": {
        "id": "lvewusqGDaAv"
      },
      "source": [
        "def model_diagnostics(model, pr=True):\r\n",
        "    \"\"\"\r\n",
        "    Returns and prints the R-squared, RMSE and the MAE for a trained model\r\n",
        "    \"\"\"\r\n",
        "    y_predicted = model.predict(X_test)\r\n",
        "    r2 = r2_score(y_test, y_predicted)\r\n",
        "    mse = mean_squared_error(y_test, y_predicted)\r\n",
        "    mae = mean_absolute_error(y_test, y_predicted)\r\n",
        "    if pr:\r\n",
        "        print(f\"R-Sq: {r2:.4}\")\r\n",
        "        print(f\"RMSE: {np.sqrt(mse)}\")\r\n",
        "        print(f\"MAE: {mae}\")\r\n",
        "    \r\n",
        "    return [r2,np.sqrt(mse),mae]\r\n",
        "def plot_residuals(y_test, y_predicted):\r\n",
        "    \"\"\"\"\r\n",
        "    Plots the distribution for actual and predicted values of the target variable. Also plots the distribution for the residuals\r\n",
        "    \"\"\"\r\n",
        "    fig, (ax0, ax1) = plt.subplots(nrows=1, ncols=2, sharey=True)\r\n",
        "    sns.distplot(y_test, ax=ax0, kde = False)\r\n",
        "    ax0.set(xlabel='Test scores')\r\n",
        "    sns.distplot(y_predicted, ax=ax1, kde = False)\r\n",
        "    ax1.set(xlabel=\"Predicted scores\")\r\n",
        "    plt.show()\r\n",
        "    fig, ax2 = plt.subplots()\r\n",
        "    sns.distplot((y_test-y_predicted), ax = ax2,kde = False)\r\n",
        "    ax2.set(xlabel=\"Residuals\")\r\n",
        "    plt.show()\r\n",
        "def y_test_vs_y_predicted(y_test,y_predicted):\r\n",
        "    \"\"\"\r\n",
        "    Produces a scatter plot for the actual and predicted values of the target variable\r\n",
        "    \"\"\"\r\n",
        "    fig, ax = plt.subplots()\r\n",
        "    ax.scatter(y_test, y_predicted)\r\n",
        "    ax.set_xlabel(\"Test Scores\")\r\n",
        "    ax.set_ylim([-75, 1400])\r\n",
        "    ax.set_ylabel(\"Predicted Scores\")\r\n",
        "    plt.show()\r\n",
        "def get_feature_importance(model):\r\n",
        "    \"\"\"\r\n",
        "    For fitted tree based models, get_feature_importance can be used to get the feature importance as a tidy output\r\n",
        "    \"\"\"\r\n",
        "    X_non_text = pd.get_dummies(df[cat_cols])\r\n",
        "    features = numeric_cols + bool_cols + list(X_non_text.columns)\r\n",
        "    feature_importance = dict(zip(features, model.feature_importances_))\r\n",
        "    for name, importance in sorted(feature_importance.items(), key=lambda x: x[1], reverse=True):\r\n",
        "        print(f\"{name:<30}: {importance:>6.2%}\")\r\n",
        "        print(f\"\\nTotal importance: {sum(feature_importance.values()):.2%}\")\r\n",
        "    return feature_importance"
      ],
      "execution_count": 72,
      "outputs": []
    },
    {
      "cell_type": "code",
      "metadata": {
        "id": "FkNaupMaD0-k",
        "colab": {
          "base_uri": "https://localhost:8080/"
        },
        "outputId": "a9b1e3b9-e86b-4266-fc3d-7c2a389c2910"
      },
      "source": [
        "%%time\r\n",
        "\r\n",
        "parent_scrore_impute = df.parent_score.mode()[0] # impute with mode of parent_score column\r\n",
        "comment_tree_root_score_impute = df.comment_tree_root_score.mode()[0] # impute with mode of comment_tree_root_score column\r\n",
        "time_since_comment_tree_root_impute = df.time_since_comment_tree_root.mode()[0] # impute with mode of time_since_comment_tree_root column\r\n",
        "parent_cosine_impute = 0\r\n",
        "parent_euc_impute = 0\r\n",
        "df.loc[df.parent_score.isna(), 'parent_score'] = parent_scrore_impute\r\n",
        "df.loc[df.comment_tree_root_score.isna(), 'comment_tree_root_score'] = comment_tree_root_score_impute\r\n",
        "df.loc[df.time_since_comment_tree_root.isna(), 'time_since_comment_tree_root'] = time_since_comment_tree_root_impute\r\n"
      ],
      "execution_count": 73,
      "outputs": [
        {
          "output_type": "stream",
          "text": [
            "CPU times: user 17 ms, sys: 0 ns, total: 17 ms\n",
            "Wall time: 16.9 ms\n"
          ],
          "name": "stdout"
        }
      ]
    },
    {
      "cell_type": "code",
      "metadata": {
        "colab": {
          "base_uri": "https://localhost:8080/"
        },
        "id": "GQyKSwJ0cNcc",
        "outputId": "40567bb4-1e44-4d87-a8af-81e69ddd3a68"
      },
      "source": [
        "df.subreddit.value_counts()"
      ],
      "execution_count": 74,
      "outputs": [
        {
          "output_type": "execute_result",
          "data": {
            "text/plain": [
              "AskReddit        12846\n",
              "CFB               5891\n",
              "hockey            4683\n",
              "funny             3892\n",
              "nba               3249\n",
              "                 ...  \n",
              "SwedenYes            0\n",
              "TMJ                  0\n",
              "TORFdot0             0\n",
              "TagProTesting        0\n",
              "Z3compact            0\n",
              "Name: subreddit, Length: 6361, dtype: int64"
            ]
          },
          "metadata": {
            "tags": []
          },
          "execution_count": 74
        }
      ]
    },
    {
      "cell_type": "code",
      "metadata": {
        "id": "jAjwpo_vEFlW"
      },
      "source": [
        "bool_cols = ['over_18', 'is_edited', 'is_quoted', 'is_selftext']\r\n",
        "cat_cols = [ 'distinguished', 'is_flair', 'is_flair_css','hour_of_comment', 'weekday']\r\n",
        "\r\n",
        "numeric_cols = ['gilded', 'controversiality',\r\n",
        "                'depth', 'no_of_linked_sr', 'no_of_linked_urls', 'parent_score',\r\n",
        "                'comment_tree_root_score', 'time_since_comment_tree_root',\r\n",
        "                'subjectivity', 'senti_neg', 'senti_pos', 'senti_neu',\r\n",
        "                'senti_comp', 'no_quoted', 'time_since_parent', 'word_counts',\r\n",
        "                'no_quoted']"
      ],
      "execution_count": 75,
      "outputs": []
    },
    {
      "cell_type": "code",
      "metadata": {
        "id": "dCojxZ9QIay2"
      },
      "source": [
        "lb = LabelBinarizer()\r\n",
        "cat = [lb.fit_transform(df[col]) for col in cat_cols]\r\n",
        "bol = [df[col].astype('int') for col in bool_cols]\r\n",
        "t = df.loc[:, numeric_cols].values\r\n",
        "final = [t] + bol + cat\r\n",
        "y = df.score.values\r\n",
        "x = np.column_stack(tuple(final))"
      ],
      "execution_count": 76,
      "outputs": []
    },
    {
      "cell_type": "code",
      "metadata": {
        "id": "LdwZhoBeGjYc"
      },
      "source": [
        "X_train, X_test, y_train, y_test = train_test_split(x, y, test_size=0.2, random_state=10)"
      ],
      "execution_count": 77,
      "outputs": []
    },
    {
      "cell_type": "code",
      "metadata": {
        "id": "qROtgftbGqGD"
      },
      "source": [
        "model_performance_dict = dict()"
      ],
      "execution_count": 78,
      "outputs": []
    },
    {
      "cell_type": "code",
      "metadata": {
        "colab": {
          "base_uri": "https://localhost:8080/"
        },
        "id": "dmThzsXIGsJr",
        "outputId": "3ad5f0a6-61ff-4fa4-de78-3d6ad5656491"
      },
      "source": [
        "baseline = DummyRegressor(strategy='mean')\r\n",
        "baseline.fit(X_train,y_train)\r\n",
        "model_performance_dict[\"Baseline\"] = model_diagnostics(baseline)"
      ],
      "execution_count": 79,
      "outputs": [
        {
          "output_type": "stream",
          "text": [
            "R-Sq: -1.438e-05\n",
            "RMSE: 31.95032759049666\n",
            "MAE: 6.211065139555221\n"
          ],
          "name": "stdout"
        }
      ]
    },
    {
      "cell_type": "code",
      "metadata": {
        "colab": {
          "base_uri": "https://localhost:8080/"
        },
        "id": "f2LuhScyGuNK",
        "outputId": "baa7c7ca-1a31-4d7f-b207-9f4f75cf785e"
      },
      "source": [
        "linear = LinearRegression()\r\n",
        "linear.fit(X_train,y_train)\r\n",
        "model_performance_dict[\"Linear Regression\"] = model_diagnostics(linear)"
      ],
      "execution_count": 80,
      "outputs": [
        {
          "output_type": "stream",
          "text": [
            "R-Sq: 0.02681\n",
            "RMSE: 31.518914996386844\n",
            "MAE: 5.88514454217787\n"
          ],
          "name": "stdout"
        }
      ]
    },
    {
      "cell_type": "code",
      "metadata": {
        "id": "gyHzxXWYG2BY",
        "colab": {
          "base_uri": "https://localhost:8080/"
        },
        "outputId": "02025929-eadc-4d04-a870-cc21854881f2"
      },
      "source": [
        "knr = KNeighborsRegressor()\r\n",
        "knr.fit(X_train, y_train)\r\n",
        "model_performance_dict[\"KNN Regression\"] = model_diagnostics(knr)"
      ],
      "execution_count": 81,
      "outputs": [
        {
          "output_type": "stream",
          "text": [
            "R-Sq: -0.1794\n",
            "RMSE: 34.69776321884112\n",
            "MAE: 6.3774375452855745\n"
          ],
          "name": "stdout"
        }
      ]
    },
    {
      "cell_type": "code",
      "metadata": {
        "colab": {
          "base_uri": "https://localhost:8080/"
        },
        "id": "WxDTg5xDG5pe",
        "outputId": "e2aa1a39-de17-48ed-f6e6-2160ff436403"
      },
      "source": [
        "dt = DecisionTreeRegressor(min_samples_split=45, min_samples_leaf=45, random_state = 10)\r\n",
        "dt.fit(X_train, y_train)\r\n",
        "model_performance_dict[\"Decision Tree\"] = model_diagnostics(dt)"
      ],
      "execution_count": 82,
      "outputs": [
        {
          "output_type": "stream",
          "text": [
            "R-Sq: 0.02809\n",
            "RMSE: 31.49823881955757\n",
            "MAE: 5.898668245299764\n"
          ],
          "name": "stdout"
        }
      ]
    },
    {
      "cell_type": "code",
      "metadata": {
        "colab": {
          "base_uri": "https://localhost:8080/"
        },
        "id": "u4ROBpeDG6Ff",
        "outputId": "81832799-e4ec-483c-8943-ae10a99e560f"
      },
      "source": [
        "rf = RandomForestRegressor(n_jobs=-1, n_estimators=70, min_samples_leaf=10, random_state = 10)\r\n",
        "rf.fit(X_train, y_train)\r\n",
        "model_performance_dict[\"Random Forest\"] = model_diagnostics(rf)"
      ],
      "execution_count": 83,
      "outputs": [
        {
          "output_type": "stream",
          "text": [
            "R-Sq: 0.03573\n",
            "RMSE: 31.374103301016994\n",
            "MAE: 5.76842507607444\n"
          ],
          "name": "stdout"
        }
      ]
    },
    {
      "cell_type": "code",
      "metadata": {
        "id": "afjePSboG9Go"
      },
      "source": [
        "def model_comparison(model_performance_dict, sort_by = 'RMSE', metric = 'RMSE'):\r\n",
        "\r\n",
        "    Rsq_list = []\r\n",
        "    RMSE_list = []\r\n",
        "    MAE_list = []\r\n",
        "    for key in model_performance_dict.keys():\r\n",
        "        Rsq_list.append(model_performance_dict[key][0])\r\n",
        "        RMSE_list.append(model_performance_dict[key][1])\r\n",
        "        MAE_list.append(model_performance_dict[key][2])\r\n",
        "\r\n",
        "    props = pd.DataFrame([])\r\n",
        "\r\n",
        "    props[\"R-squared\"] = Rsq_list\r\n",
        "    props[\"RMSE\"] = RMSE_list\r\n",
        "    props[\"MAE\"] = MAE_list\r\n",
        "    props.index = model_performance_dict.keys()\r\n",
        "    props = props.sort_values(by = sort_by)\r\n",
        "\r\n",
        "    fig, ax = plt.subplots(figsize = (12,6))\r\n",
        "\r\n",
        "    ax.bar(props.index, props[metric], color=\"blue\")\r\n",
        "    plt.title(metric)\r\n",
        "    plt.xlabel('Model')\r\n",
        "    plt.xticks(rotation = 45)\r\n",
        "    plt.ylabel(metric)"
      ],
      "execution_count": 84,
      "outputs": []
    },
    {
      "cell_type": "code",
      "metadata": {
        "colab": {
          "base_uri": "https://localhost:8080/",
          "height": 464
        },
        "id": "LuJwLN6oG_jo",
        "outputId": "4172cc97-0ea0-4f89-d0f5-e399c331d8e0"
      },
      "source": [
        "model_comparison(model_performance_dict, sort_by = 'R-squared', metric = 'R-squared')"
      ],
      "execution_count": 85,
      "outputs": [
        {
          "output_type": "display_data",
          "data": {
            "image/png": "[encoded data removed]",
            "text/plain": [
              "<Figure size 864x432 with 1 Axes>"
            ]
          },
          "metadata": {
            "tags": [],
            "needs_background": "light"
          }
        }
      ]
    },
    {
      "cell_type": "code",
      "metadata": {
        "colab": {
          "base_uri": "https://localhost:8080/",
          "height": 464
        },
        "id": "CEMnHG3dHKVs",
        "outputId": "42054314-3be6-459e-9e4b-e9c43dcbfa83"
      },
      "source": [
        "model_comparison(model_performance_dict, sort_by = 'R-squared', metric = 'MAE')"
      ],
      "execution_count": 86,
      "outputs": [
        {
          "output_type": "display_data",
          "data": {
            "image/png": "[encoded data removed]",
            "text/plain": [
              "<Figure size 864x432 with 1 Axes>"
            ]
          },
          "metadata": {
            "tags": [],
            "needs_background": "light"
          }
        }
      ]
    },
    {
      "cell_type": "code",
      "metadata": {
        "colab": {
          "base_uri": "https://localhost:8080/",
          "height": 464
        },
        "id": "7RzYHNNaHKss",
        "outputId": "031312ac-00b0-4ae8-ff76-079093b88037"
      },
      "source": [
        "model_comparison(model_performance_dict, sort_by = 'R-squared', metric = 'RMSE')"
      ],
      "execution_count": 87,
      "outputs": [
        {
          "output_type": "display_data",
          "data": {
            "image/png": "[encoded data removed]",
            "text/plain": [
              "<Figure size 864x432 with 1 Axes>"
            ]
          },
          "metadata": {
            "tags": [],
            "needs_background": "light"
          }
        }
      ]
    },
    {
      "cell_type": "code",
      "metadata": {
        "colab": {
          "base_uri": "https://localhost:8080/",
          "height": 541
        },
        "id": "S3cmwJZcHNqe",
        "outputId": "9f5b95b2-ab36-4eef-af3e-54898740fad1"
      },
      "source": [
        "y_predicted = rf.predict(X_test)\r\n",
        "plot_residuals(y_test,y_predicted)"
      ],
      "execution_count": 88,
      "outputs": [
        {
          "output_type": "display_data",
          "data": {
            "image/png": "[encoded data removed]",
            "text/plain": [
              "<Figure size 432x288 with 2 Axes>"
            ]
          },
          "metadata": {
            "tags": [],
            "needs_background": "light"
          }
        },
        {
          "output_type": "display_data",
          "data": {
            "image/png": "[encoded data removed]",
            "text/plain": [
              "<Figure size 432x288 with 1 Axes>"
            ]
          },
          "metadata": {
            "tags": [],
            "needs_background": "light"
          }
        }
      ]
    },
    {
      "cell_type": "code",
      "metadata": {
        "id": "yWSLHIbhHWyh",
        "colab": {
          "base_uri": "https://localhost:8080/"
        },
        "outputId": "9fa5c840-5ae1-44e6-9430-bbbae5c27826"
      },
      "source": [
        "rf_importances = get_feature_importance(rf)"
      ],
      "execution_count": 89,
      "outputs": [
        {
          "output_type": "stream",
          "text": [
            "parent_score                  : 29.40%\n",
            "\n",
            "Total importance: 99.94%\n",
            "word_counts                   : 11.76%\n",
            "\n",
            "Total importance: 99.94%\n",
            "senti_neu                     : 11.56%\n",
            "\n",
            "Total importance: 99.94%\n",
            "senti_comp                    :  9.01%\n",
            "\n",
            "Total importance: 99.94%\n",
            "senti_neg                     :  7.98%\n",
            "\n",
            "Total importance: 99.94%\n",
            "time_since_parent             :  6.39%\n",
            "\n",
            "Total importance: 99.94%\n",
            "senti_pos                     :  6.12%\n",
            "\n",
            "Total importance: 99.94%\n",
            "comment_tree_root_score       :  3.22%\n",
            "\n",
            "Total importance: 99.94%\n",
            "is_selftext                   :  2.51%\n",
            "\n",
            "Total importance: 99.94%\n",
            "distinguished_moderator       :  2.05%\n",
            "\n",
            "Total importance: 99.94%\n",
            "subjectivity                  :  1.89%\n",
            "\n",
            "Total importance: 99.94%\n",
            "gilded                        :  1.82%\n",
            "\n",
            "Total importance: 99.94%\n",
            "time_since_comment_tree_root  :  1.65%\n",
            "\n",
            "Total importance: 99.94%\n",
            "weekday                       :  1.59%\n",
            "\n",
            "Total importance: 99.94%\n",
            "hour_of_comment               :  0.65%\n",
            "\n",
            "Total importance: 99.94%\n",
            "distinguished_user            :  0.64%\n",
            "\n",
            "Total importance: 99.94%\n",
            "depth                         :  0.47%\n",
            "\n",
            "Total importance: 99.94%\n",
            "is_flair_css                  :  0.39%\n",
            "\n",
            "Total importance: 99.94%\n",
            "is_edited                     :  0.38%\n",
            "\n",
            "Total importance: 99.94%\n",
            "no_of_linked_urls             :  0.28%\n",
            "\n",
            "Total importance: 99.94%\n",
            "no_of_linked_sr               :  0.04%\n",
            "\n",
            "Total importance: 99.94%\n",
            "over_18                       :  0.04%\n",
            "\n",
            "Total importance: 99.94%\n",
            "no_quoted                     :  0.04%\n",
            "\n",
            "Total importance: 99.94%\n",
            "is_quoted                     :  0.03%\n",
            "\n",
            "Total importance: 99.94%\n",
            "is_flair                      :  0.01%\n",
            "\n",
            "Total importance: 99.94%\n",
            "controversiality              :  0.00%\n",
            "\n",
            "Total importance: 99.94%\n"
          ],
          "name": "stdout"
        }
      ]
    }
  ]
}