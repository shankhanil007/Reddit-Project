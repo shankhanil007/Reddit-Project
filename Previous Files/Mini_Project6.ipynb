{
  "nbformat": 4,
  "nbformat_minor": 0,
  "metadata": {
    "colab": {
      "name": "Mini_Project6.ipynb",
      "provenance": []
    },
    "kernelspec": {
      "name": "python3",
      "display_name": "Python 3"
    }
  },
  "cells": [
    {
      "cell_type": "code",
      "metadata": {
        "id": "WdPsvOejWYGi"
      },
      "source": [
        "# from google.colab import drive\r\n",
        "# drive.mount('/content/drive')\r\n",
        "import os\r\n",
        "os.chdir('/content/drive/MyDrive')"
      ],
      "execution_count": 1,
      "outputs": []
    },
    {
      "cell_type": "code",
      "metadata": {
        "id": "BzEs9TWjXAy5"
      },
      "source": [
        "os.chdir('Reddit_ML')"
      ],
      "execution_count": 2,
      "outputs": []
    },
    {
      "cell_type": "code",
      "metadata": {
        "id": "7X3kFYNAE4Mj"
      },
      "source": [
        "import bz2\r\n",
        "import json\r\n",
        "import pandas as pd"
      ],
      "execution_count": 3,
      "outputs": []
    },
    {
      "cell_type": "code",
      "metadata": {
        "id": "SalG8ARpE6Xm"
      },
      "source": [
        "filename = 'RC_2015-01.bz2'"
      ],
      "execution_count": 4,
      "outputs": []
    },
    {
      "cell_type": "code",
      "metadata": {
        "id": "R9vv6LMnFB8-"
      },
      "source": [
        "with bz2.open(filename, \"rt\") as bzinput:\r\n",
        "    lines = []\r\n",
        "    for i, line in enumerate(bzinput):\r\n",
        "        if i == 2000000:\r\n",
        "            break\r\n",
        "        reddit = json.loads(line)\r\n",
        "        lines.append(reddit)"
      ],
      "execution_count": 5,
      "outputs": []
    },
    {
      "cell_type": "code",
      "metadata": {
        "id": "xI4wLbhQFLk2"
      },
      "source": [
        "df = pd.DataFrame(lines)"
      ],
      "execution_count": 6,
      "outputs": []
    },
    {
      "cell_type": "code",
      "metadata": {
        "colab": {
          "base_uri": "https://localhost:8080/",
          "height": 35
        },
        "id": "Mci2UfuzbgvI",
        "outputId": "4bc37662-e3c4-4bfe-8b96-eef4e009da4c"
      },
      "source": [
        "f\"{df.memory_usage(deep=True).sum() / 1023.0**3} GB\""
      ],
      "execution_count": 7,
      "outputs": [
        {
          "output_type": "execute_result",
          "data": {
            "application/vnd.google.colaboratory.intrinsic+json": {
              "type": "string"
            },
            "text/plain": [
              "'1.7461369741566406 GB'"
            ]
          },
          "metadata": {
            "tags": []
          },
          "execution_count": 7
        }
      ]
    },
    {
      "cell_type": "code",
      "metadata": {
        "colab": {
          "base_uri": "https://localhost:8080/",
          "height": 702
        },
        "id": "3GDS_guqQLC2",
        "outputId": "7efaed65-9bdc-4dbe-ff40-1b9e5bf1d70a"
      },
      "source": [
        "print(df.shape)\r\n",
        "df.head().T"
      ],
      "execution_count": 8,
      "outputs": [
        {
          "output_type": "stream",
          "text": [
            "(2000000, 21)\n"
          ],
          "name": "stdout"
        },
        {
          "output_type": "execute_result",
          "data": {
            "text/html": [
              "<div>\n",
              "<style scoped>\n",
              "    .dataframe tbody tr th:only-of-type {\n",
              "        vertical-align: middle;\n",
              "    }\n",
              "\n",
              "    .dataframe tbody tr th {\n",
              "        vertical-align: top;\n",
              "    }\n",
              "\n",
              "    .dataframe thead th {\n",
              "        text-align: right;\n",
              "    }\n",
              "</style>\n",
              "<table border=\"1\" class=\"dataframe\">\n",
              "  <thead>\n",
              "    <tr style=\"text-align: right;\">\n",
              "      <th></th>\n",
              "      <th>0</th>\n",
              "      <th>1</th>\n",
              "      <th>2</th>\n",
              "      <th>3</th>\n",
              "      <th>4</th>\n",
              "    </tr>\n",
              "  </thead>\n",
              "  <tbody>\n",
              "    <tr>\n",
              "      <th>score_hidden</th>\n",
              "      <td>False</td>\n",
              "      <td>False</td>\n",
              "      <td>False</td>\n",
              "      <td>False</td>\n",
              "      <td>False</td>\n",
              "    </tr>\n",
              "    <tr>\n",
              "      <th>name</th>\n",
              "      <td>t1_cnas8zv</td>\n",
              "      <td>t1_cnas8zw</td>\n",
              "      <td>t1_cnas8zx</td>\n",
              "      <td>t1_cnas8zy</td>\n",
              "      <td>t1_cnas8zz</td>\n",
              "    </tr>\n",
              "    <tr>\n",
              "      <th>link_id</th>\n",
              "      <td>t3_2qyr1a</td>\n",
              "      <td>t3_2qv6c6</td>\n",
              "      <td>t3_2qxefp</td>\n",
              "      <td>t3_2qys4x</td>\n",
              "      <td>t3_2qm5bi</td>\n",
              "    </tr>\n",
              "    <tr>\n",
              "      <th>body</th>\n",
              "      <td>Most of us have some family members like this....</td>\n",
              "      <td>But Mill's career was way better. Bentham is l...</td>\n",
              "      <td>Mine uses a strait razor, and as much as i lov...</td>\n",
              "      <td>[deleted]</td>\n",
              "      <td>Very fast, thank you!</td>\n",
              "    </tr>\n",
              "    <tr>\n",
              "      <th>downs</th>\n",
              "      <td>0</td>\n",
              "      <td>0</td>\n",
              "      <td>0</td>\n",
              "      <td>0</td>\n",
              "      <td>0</td>\n",
              "    </tr>\n",
              "    <tr>\n",
              "      <th>created_utc</th>\n",
              "      <td>1420070400</td>\n",
              "      <td>1420070400</td>\n",
              "      <td>1420070400</td>\n",
              "      <td>1420070400</td>\n",
              "      <td>1420070400</td>\n",
              "    </tr>\n",
              "    <tr>\n",
              "      <th>score</th>\n",
              "      <td>14</td>\n",
              "      <td>3</td>\n",
              "      <td>1</td>\n",
              "      <td>1</td>\n",
              "      <td>2</td>\n",
              "    </tr>\n",
              "    <tr>\n",
              "      <th>author</th>\n",
              "      <td>YoungModern</td>\n",
              "      <td>RedCoatsForever</td>\n",
              "      <td>vhisic</td>\n",
              "      <td>[deleted]</td>\n",
              "      <td>Mastersimpson</td>\n",
              "    </tr>\n",
              "    <tr>\n",
              "      <th>distinguished</th>\n",
              "      <td>None</td>\n",
              "      <td>None</td>\n",
              "      <td>None</td>\n",
              "      <td>None</td>\n",
              "      <td>None</td>\n",
              "    </tr>\n",
              "    <tr>\n",
              "      <th>id</th>\n",
              "      <td>cnas8zv</td>\n",
              "      <td>cnas8zw</td>\n",
              "      <td>cnas8zx</td>\n",
              "      <td>cnas8zy</td>\n",
              "      <td>cnas8zz</td>\n",
              "    </tr>\n",
              "    <tr>\n",
              "      <th>archived</th>\n",
              "      <td>False</td>\n",
              "      <td>False</td>\n",
              "      <td>False</td>\n",
              "      <td>False</td>\n",
              "      <td>False</td>\n",
              "    </tr>\n",
              "    <tr>\n",
              "      <th>parent_id</th>\n",
              "      <td>t3_2qyr1a</td>\n",
              "      <td>t1_cnas2b6</td>\n",
              "      <td>t3_2qxefp</td>\n",
              "      <td>t3_2qys4x</td>\n",
              "      <td>t3_2qm5bi</td>\n",
              "    </tr>\n",
              "    <tr>\n",
              "      <th>subreddit</th>\n",
              "      <td>exmormon</td>\n",
              "      <td>CanadaPolitics</td>\n",
              "      <td>AdviceAnimals</td>\n",
              "      <td>AdviceAnimals</td>\n",
              "      <td>freedonuts</td>\n",
              "    </tr>\n",
              "    <tr>\n",
              "      <th>author_flair_css_class</th>\n",
              "      <td>None</td>\n",
              "      <td>on</td>\n",
              "      <td>None</td>\n",
              "      <td>None</td>\n",
              "      <td>None</td>\n",
              "    </tr>\n",
              "    <tr>\n",
              "      <th>author_flair_text</th>\n",
              "      <td>None</td>\n",
              "      <td>Ontario</td>\n",
              "      <td>None</td>\n",
              "      <td>None</td>\n",
              "      <td>None</td>\n",
              "    </tr>\n",
              "    <tr>\n",
              "      <th>gilded</th>\n",
              "      <td>0</td>\n",
              "      <td>0</td>\n",
              "      <td>0</td>\n",
              "      <td>0</td>\n",
              "      <td>0</td>\n",
              "    </tr>\n",
              "    <tr>\n",
              "      <th>retrieved_on</th>\n",
              "      <td>1425124282</td>\n",
              "      <td>1425124282</td>\n",
              "      <td>1425124282</td>\n",
              "      <td>1425124282</td>\n",
              "      <td>1425124282</td>\n",
              "    </tr>\n",
              "    <tr>\n",
              "      <th>ups</th>\n",
              "      <td>14</td>\n",
              "      <td>3</td>\n",
              "      <td>1</td>\n",
              "      <td>1</td>\n",
              "      <td>2</td>\n",
              "    </tr>\n",
              "    <tr>\n",
              "      <th>controversiality</th>\n",
              "      <td>0</td>\n",
              "      <td>0</td>\n",
              "      <td>0</td>\n",
              "      <td>0</td>\n",
              "      <td>0</td>\n",
              "    </tr>\n",
              "    <tr>\n",
              "      <th>subreddit_id</th>\n",
              "      <td>t5_2r0gj</td>\n",
              "      <td>t5_2s4gt</td>\n",
              "      <td>t5_2s7tt</td>\n",
              "      <td>t5_2s7tt</td>\n",
              "      <td>t5_2y51u</td>\n",
              "    </tr>\n",
              "    <tr>\n",
              "      <th>edited</th>\n",
              "      <td>False</td>\n",
              "      <td>False</td>\n",
              "      <td>False</td>\n",
              "      <td>False</td>\n",
              "      <td>False</td>\n",
              "    </tr>\n",
              "  </tbody>\n",
              "</table>\n",
              "</div>"
            ],
            "text/plain": [
              "                                                                        0  ...                      4\n",
              "score_hidden                                                        False  ...                  False\n",
              "name                                                           t1_cnas8zv  ...             t1_cnas8zz\n",
              "link_id                                                         t3_2qyr1a  ...              t3_2qm5bi\n",
              "body                    Most of us have some family members like this....  ...  Very fast, thank you!\n",
              "downs                                                                   0  ...                      0\n",
              "created_utc                                                    1420070400  ...             1420070400\n",
              "score                                                                  14  ...                      2\n",
              "author                                                        YoungModern  ...          Mastersimpson\n",
              "distinguished                                                        None  ...                   None\n",
              "id                                                                cnas8zv  ...                cnas8zz\n",
              "archived                                                            False  ...                  False\n",
              "parent_id                                                       t3_2qyr1a  ...              t3_2qm5bi\n",
              "subreddit                                                        exmormon  ...             freedonuts\n",
              "author_flair_css_class                                               None  ...                   None\n",
              "author_flair_text                                                    None  ...                   None\n",
              "gilded                                                                  0  ...                      0\n",
              "retrieved_on                                                   1425124282  ...             1425124282\n",
              "ups                                                                    14  ...                      2\n",
              "controversiality                                                        0  ...                      0\n",
              "subreddit_id                                                     t5_2r0gj  ...               t5_2y51u\n",
              "edited                                                              False  ...                  False\n",
              "\n",
              "[21 rows x 5 columns]"
            ]
          },
          "metadata": {
            "tags": []
          },
          "execution_count": 8
        }
      ]
    },
    {
      "cell_type": "code",
      "metadata": {
        "colab": {
          "base_uri": "https://localhost:8080/"
        },
        "id": "0pI2zE_HRNvW",
        "outputId": "0cb5b19f-3731-4e24-ad7e-ed014f692567"
      },
      "source": [
        "import re\r\n",
        "import string\r\n",
        "\r\n",
        "import pandas as pd\r\n",
        "import feather\r\n",
        "import numpy as np\r\n",
        "import matplotlib.pyplot as plt\r\n",
        "from scipy.spatial.distance import cosine, euclidean\r\n",
        "\r\n",
        "from pathlib import Path\r\n",
        "from collections import Counter\r\n",
        "from multiprocessing import Pool\r\n",
        "from urllib.parse import urlparse\r\n",
        "\r\n",
        "\r\n",
        "import matplotlib.pyplot as plt\r\n",
        "\r\n",
        "from sklearn.model_selection import train_test_split\r\n",
        "from sklearn.preprocessing import LabelBinarizer, MultiLabelBinarizer\r\n",
        "from sklearn.feature_extraction.stop_words import ENGLISH_STOP_WORDS\r\n",
        "\r\n",
        "%matplotlib inline"
      ],
      "execution_count": 9,
      "outputs": [
        {
          "output_type": "stream",
          "text": [
            "/usr/local/lib/python3.6/dist-packages/sklearn/utils/deprecation.py:144: FutureWarning: The sklearn.feature_extraction.stop_words module is  deprecated in version 0.22 and will be removed in version 0.24. The corresponding classes / functions should instead be imported from sklearn.feature_extraction.text. Anything that cannot be imported from sklearn.feature_extraction.text is now part of the private API.\n",
            "  warnings.warn(message, FutureWarning)\n"
          ],
          "name": "stderr"
        }
      ]
    },
    {
      "cell_type": "code",
      "metadata": {
        "colab": {
          "base_uri": "https://localhost:8080/",
          "height": 52
        },
        "id": "J0sE3fiEQyWB",
        "outputId": "631a4d1b-11ef-40c3-8ba1-95c12cb5f209"
      },
      "source": [
        "df = df[df.body != '[deleted]']\r\n",
        "df = df[df.body != '[removed]']\r\n",
        "df = df[df.body != '']\r\n",
        "print(df.shape)\r\n",
        "f\"{df.memory_usage(deep=True).sum() / 1023.0**3} GB\""
      ],
      "execution_count": 10,
      "outputs": [
        {
          "output_type": "stream",
          "text": [
            "(1868177, 21)\n"
          ],
          "name": "stdout"
        },
        {
          "output_type": "execute_result",
          "data": {
            "application/vnd.google.colaboratory.intrinsic+json": {
              "type": "string"
            },
            "text/plain": [
              "'1.6679876792767951 GB'"
            ]
          },
          "metadata": {
            "tags": []
          },
          "execution_count": 10
        }
      ]
    },
    {
      "cell_type": "markdown",
      "metadata": {
        "id": "OMgaEQDMojzh"
      },
      "source": [
        "# **Copy of DF**"
      ]
    },
    {
      "cell_type": "markdown",
      "metadata": {
        "id": "pASXxFZ1o0_k"
      },
      "source": [
        "# **Data Preprocessing**"
      ]
    }
  ]
}